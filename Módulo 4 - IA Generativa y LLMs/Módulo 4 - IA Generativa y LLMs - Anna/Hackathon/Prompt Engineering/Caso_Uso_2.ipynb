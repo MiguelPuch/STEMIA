{
 "cells": [
  {
   "cell_type": "markdown",
   "id": "bc5d3833",
   "metadata": {},
   "source": [
    "# Caso Práctico: Auditoría de Conformidad y Creación de Perfiles Inmobiliarios"
   ]
  },
  {
   "cell_type": "markdown",
   "id": "4aab3c25",
   "metadata": {},
   "source": [
    "**Empresa InmoData Analytics:** InmoData es una plataforma líder que utiliza IA para generar descripciones de propiedades y perfiles de comprador para agentes inmobiliarios. Debido a recientes demandas por discriminación implícita y alucinaciones en descripciones de propiedades, la empresa necesita un sistema de prompting que audite el contenido antes de que se publique.\n",
    "\n",
    "El objetivo es diseñar un único prompt para auditar una descripción existente (generada por un LLM anterior) y generar una salida final optimizada y legalmente segura."
   ]
  },
  {
   "cell_type": "markdown",
   "id": "a59d471e",
   "metadata": {},
   "source": [
    "## El Desafío: El Prompt de Auditoría y Personalización Segura"
   ]
  },
  {
   "cell_type": "markdown",
   "id": "366c1826",
   "metadata": {},
   "source": [
    "Tu prompt debe tomar una descripción de propiedad ya redactada y un perfil de cliente potencial, y realizar tres acciones de ingeniería de prompt en un solo paso:\n",
    "\n",
    "  1. Auditoría de Conformidad: Detectar y justificar el incumplimiento de una política de No Discriminación.\n",
    "\n",
    "  2. Razonamiento Complejo: Crear un perfil de riesgo basado en el potencial de \"alucinación\" de la descripción original.\n",
    "\n",
    "  3. Generación Hiper-Personalizada y Segura: Reescribir el contenido para un cliente específico, eliminando el riesgo."
   ]
  },
  {
   "cell_type": "markdown",
   "id": "f7d9efb9",
   "metadata": {},
   "source": [
    "#### Input para el LLM"
   ]
  },
  {
   "cell_type": "markdown",
   "id": "559e4311",
   "metadata": {},
   "source": [
    "| Tipo | Contenido |\n",
    "| :--- | :--- |\n",
    "| **Descripción de Propiedad (Original, con riesgo)** | \"Magnífico piso ideal para **jóvenes parejas o inversores novatos**. Ubicado en la zona de las **mejores escuelas**. Con una terraza perfecta para organizar **barbacoas en verano**. La estación de metro está **'prácticamente' enfrente**.\" |\n",
    "| **Perfil del Cliente Potencial (Target)** | \"Cliente: **Marta R.** Intereses: **Accesibilidad para personas mayores** (madre dependiente). Presupuesto: **Bajo**. Requisito Clave: **Proximidad real** (no 'prácticamente') a transporte público.\" |"
   ]
  },
  {
   "cell_type": "markdown",
   "id": "ec66e13c",
   "metadata": {},
   "source": [
    "## Requisitos de Salida (Aplicación del Prompt Engineering)"
   ]
  },
  {
   "cell_type": "markdown",
   "id": "3468d714",
   "metadata": {},
   "source": [
    "El LLM debe generar una salida estructurada con tres secciones, cada una utilizando una forma diferente de control de flujo:"
   ]
  },
  {
   "cell_type": "markdown",
   "id": "041b72d7",
   "metadata": {},
   "source": [
    "## Sección 1: Auditoría de Conformidad y Riesgo (Técnica: Razonamiento por Contraste)"
   ]
  },
  {
   "cell_type": "markdown",
   "id": "a667ee2c",
   "metadata": {},
   "source": [
    "Etiqueta esta sección como AUDITORÍA_LEGAL_Y_VERIFICACIÓN. El modelo debe realizar una auditoría de la descripción original (solo basándose en las leyes de no discriminación y riesgo de alucinación).\n",
    "\n",
    "1. Análisis de Sesgos: Identificar y listar las dos frases de la descripción original que violan la política de no discriminación (por sesgo de edad o situación familiar) y justificar por qué.\n",
    "\n",
    "2. Riesgo de Alucinación: Analizar la palabra 'prácticamente' y asignar un nivel de riesgo (Alto/Medio/Bajo) de alucinación o exageración."
   ]
  },
  {
   "cell_type": "code",
   "execution_count": null,
   "id": "cc37a97c",
   "metadata": {
    "vscode": {
     "languageId": "plaintext"
    }
   },
   "outputs": [],
   "source": []
  },
  {
   "cell_type": "markdown",
   "id": "b4531702",
   "metadata": {},
   "source": [
    "## Sección 2: Proceso de Adaptación y Refutación (Técnica: Proceso Inverso Explícito)"
   ]
  },
  {
   "cell_type": "markdown",
   "id": "42c45300",
   "metadata": {},
   "source": [
    "Etiqueta esta sección como PROCESO_DE_ADAPTACIÓN. Aquí el modelo debe mostrar su razonamiento para adaptar el contenido al cliente Marta R., refutando las características de la descripción original que no son relevantes.\n",
    "\n",
    "1. Refutación de Características: Listar dos características de la descripción original que deben eliminarse porque no son un beneficio para el perfil de Marta (ej. \"mejores escuelas\" o \"barbacoas en verano\") y explicar por qué.\n",
    "\n",
    "2. Adaptación de Beneficio: Indicar qué característica de la propiedad se debe destacar para el requisito de \"Accesibilidad para personas mayores\" de Marta."
   ]
  },
  {
   "cell_type": "code",
   "execution_count": null,
   "id": "b273cba3",
   "metadata": {
    "vscode": {
     "languageId": "plaintext"
    }
   },
   "outputs": [],
   "source": []
  },
  {
   "cell_type": "markdown",
   "id": "7050bfea",
   "metadata": {},
   "source": [
    "## Sección 3: Descripción Final (Técnica: Generación con Restricciones)\n",
    "\n",
    "Etiqueta esta sección como DESCRIPCIÓN_OPTIMIZADA_FINAL. El modelo debe generar la nueva descripción basada en las conclusiones de las Secciones 1 y 2.\n",
    "\n",
    "1. Restricción de Seguridad: La descripción no puede usar la palabra 'joven', 'inversor' ni el adjetivo 'prácticamente'.\n",
    "\n",
    "2. rientación al Cliente: Debe usar un lenguaje formal y directo, enfocándose únicamente en la proximidad real del transporte y la facilidad de movilidad.\n",
    "\n",
    "3. Formato: La descripción debe tener un solo párrafo de entre 60 y 80 palabras."
   ]
  },
  {
   "cell_type": "code",
   "execution_count": null,
   "id": "23e29be0",
   "metadata": {
    "vscode": {
     "languageId": "plaintext"
    }
   },
   "outputs": [],
   "source": []
  }
 ],
 "metadata": {
  "language_info": {
   "name": "python"
  }
 },
 "nbformat": 4,
 "nbformat_minor": 5
}
