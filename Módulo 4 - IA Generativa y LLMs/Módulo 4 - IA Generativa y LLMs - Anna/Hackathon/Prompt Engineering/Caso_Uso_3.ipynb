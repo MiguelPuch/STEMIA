{
 "cells": [
  {
   "cell_type": "markdown",
   "id": "8a8118b4",
   "metadata": {},
   "source": [
    "# Caso Práctico: Auditoría de Sesgos y Control de Salida para un Asistente de Contratación"
   ]
  },
  {
   "cell_type": "markdown",
   "id": "b8d8cb3c",
   "metadata": {},
   "source": [
    "Empresa  TalentTech HR Contexto: TalentTech está desarrollando un sistema de IA para pre-filtrar currículums y redactar descripciones de puestos de trabajo. Para evitar litigios y garantizar la diversidad, el sistema debe ser auditado para eliminar sesgos de género y suposiciones implícitas."
   ]
  },
  {
   "cell_type": "markdown",
   "id": "4cc0a976",
   "metadata": {},
   "source": [
    "El Problema a Auditar (Sesgo Implícito): El modelo base de LLM (Large Language Model) tiende a asociar profesiones técnicas con pronombres masculinos y profesiones asistenciales con pronombres femeninos (ej. Asume que \"el CEO\" es un hombre y \"la enfermera\" es una mujer, tal como se menciona en tu material de estudio)."
   ]
  },
  {
   "cell_type": "markdown",
   "id": "f02379dc",
   "metadata": {},
   "source": [
    "## Tarea de Prompt Engineering: Mitigación de Sesgos y Guardrails\n",
    "Tu objetivo es diseñar dos prompts maestros que obliguen al LLM a romper su sesgo y a controlar su salida para un escenario crítico."
   ]
  },
  {
   "cell_type": "markdown",
   "id": "c85a5677",
   "metadata": {},
   "source": [
    "### Escenario 1: Mitigación de Sesgos (Técnica de Refutación / Neutralidad)\n",
    "Input del Usuario (Intencionalmente Sesgado):\n",
    "\n",
    "\"El nuevo ingeniero jefe de software visitó al mejor enfermero del hospital para su examen físico.\"\n",
    "\n",
    "Objetivo del Prompt: Forzar al modelo a neutralizar la frase y refutar cualquier suposición de género en las profesiones.\n",
    "\n",
    "Requisitos del Prompt Maestro:\n",
    "\n",
    "1. Instrucción de Neutralización: Pide al LLM que reescriba la frase de input usando pronombres y términos de género neutro (ej. \"la persona que ejerce la ingeniería de software\").\n",
    "\n",
    "2. Técnica de Refutación: Incluye una instrucción explícita que obligue al modelo a justificar por qué el uso de un pronombre específico es problemático o sesgado.\n",
    "\n",
    "3. Output Deseado (Generación): Una frase reescrita de manera neutral y una breve justificación."
   ]
  },
  {
   "cell_type": "code",
   "execution_count": null,
   "id": "5395250c",
   "metadata": {
    "vscode": {
     "languageId": "plaintext"
    }
   },
   "outputs": [],
   "source": []
  },
  {
   "cell_type": "markdown",
   "id": "3a98f9cd",
   "metadata": {},
   "source": [
    "### Escenario 2: Control de Salida (Técnica de Guardrails / Role-Playing)\n",
    "Contexto Crítico: Un reclutador necesita que el LLM genere el borrador de la descripción de un puesto de trabajo, pero la política legal prohíbe el uso de términos absolutos o discriminatorios.\n",
    "\n",
    "Requisitos del Prompt Maestro:\n",
    "\n",
    "1. Definición de Persona/Rol: Asigna al modelo el rol de un \"Abogado Senior de Recursos Humanos\" que redacta la descripción.\n",
    "\n",
    "2. Regla de Guardrail (Control de Salida): Incluye una instrucción estricta de NO USAR ninguna de las siguientes frases prohibidas: [Cualquier término de edad: \"joven\", \"senior\" o \"recién graduado\"; Términos absolutos: \"debes\", \"siempre\", \"garantizado\"].\n",
    "\n",
    "3. Input de la Tarea: Pídele que redacte una sección sobre los requisitos para un puesto de \"Analista de Datos\".\n",
    "\n",
    "4. Output Deseado (Controlado): Un texto de la descripción del puesto que demuestre que el LLM ha acatado la regla de Guardrail."
   ]
  },
  {
   "cell_type": "code",
   "execution_count": null,
   "id": "d41d6006",
   "metadata": {
    "vscode": {
     "languageId": "plaintext"
    }
   },
   "outputs": [],
   "source": []
  }
 ],
 "metadata": {
  "language_info": {
   "name": "python"
  }
 },
 "nbformat": 4,
 "nbformat_minor": 5
}
