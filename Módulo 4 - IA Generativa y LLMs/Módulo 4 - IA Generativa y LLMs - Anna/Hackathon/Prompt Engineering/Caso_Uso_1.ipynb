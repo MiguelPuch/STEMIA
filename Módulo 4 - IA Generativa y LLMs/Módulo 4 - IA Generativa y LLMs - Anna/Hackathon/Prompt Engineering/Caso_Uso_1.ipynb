{
 "cells": [
  {
   "cell_type": "markdown",
   "id": "cfc004b9",
   "metadata": {},
   "source": [
    "# Caso Práctico Extendido: Gestión de Crisis en Redes Sociales para una Aerolínea"
   ]
  },
  {
   "cell_type": "markdown",
   "id": "614f2197",
   "metadata": {},
   "source": [
    "**Empresa AeroFénix Contexto:** AeroFénix, una aerolínea regional, ha sufrido un problema operativo grave: la cancelación masiva de vuelos en su principal centro de operaciones debido a una huelga inesperada del personal de tierra. Las redes sociales están inundadas de mensajes de clientes furiosos, frustrados y desinformados.\n",
    "\n",
    "El equipo de comunicación de crisis necesita usar un LLM para automatizar y estandarizar la respuesta inicial a estos mensajes. El desafío no es solo responder, sino hacerlo de manera segura, coherente y adaptada al tono y al canal de comunicación."
   ]
  },
  {
   "cell_type": "markdown",
   "id": "b26f43ca",
   "metadata": {},
   "source": [
    "## Objetivo 1: Clasificación de Intención y Prioridad (Few-Shot Prompting)\n",
    "\n",
    "El primer paso es clasificar cada mensaje para determinar su prioridad y el tipo de acción requerida."
   ]
  },
  {
   "cell_type": "markdown",
   "id": "959add5a",
   "metadata": {},
   "source": [
    "#### Objetivo del Prompting (Few-Shot):\n",
    "\n",
    "Diseña un prompt que utilice Few-Shot Prompting para clasificar el mensaje de un cliente en dos dimensiones:\n",
    "\n",
    "1. Intención: Una sola categoría principal.\n",
    "\n",
    "2. Prioridad: De 1 (Baja, solo desahogo) a 5 (Crítica, riesgo legal o financiero)."
   ]
  },
  {
   "cell_type": "markdown",
   "id": "0489e363",
   "metadata": {},
   "source": [
    "#### Categorías de Intención (a seleccionar una):\n",
    "\n",
    "- SOLICITUD_REEMBOLSO\n",
    "\n",
    "- PETICION_REUBICACION\n",
    "\n",
    "- QUEJA_SERVICIO\n",
    "\n",
    "- AMENAZA_LEGAL\n",
    "\n",
    "- BUSQUEDA_INFORMACION"
   ]
  },
  {
   "cell_type": "markdown",
   "id": "726387eb",
   "metadata": {},
   "source": [
    "#### Requisitos del Few-Shot:\n",
    "\n",
    "- El prompt debe incluir al menos cuatro ejemplos de mensajes de clientes con su clasificación correcta.\n",
    "\n",
    "- El formato de salida debe ser un objeto JSON estricto para que la API de triage de AeroFénix pueda procesarlo."
   ]
  },
  {
   "cell_type": "markdown",
   "id": "6995e947",
   "metadata": {},
   "source": [
    "Mensaje de Prueba (Input para el LLM):\n",
    "\n",
    "“Mi vuelo AF-305 de hoy a las 14:00 fue cancelado. No me dan alternativas hasta dentro de 4 días y me estoy perdiendo una boda. Exijo una solución inmediata y un reembolso completo de mi billete. Tienen 24 horas antes de que contacte a mi abogado.”"
   ]
  },
  {
   "cell_type": "markdown",
   "id": "bd07a458",
   "metadata": {},
   "source": [
    "## Objetivo 2: Razonamiento, Respuesta Segura y Adaptación al Canal (CoT y Guardrails)"
   ]
  },
  {
   "cell_type": "markdown",
   "id": "d0011fc0",
   "metadata": {},
   "source": [
    "Una vez clasificado el mensaje, el LLM debe generar una respuesta preliminar que se adapte al canal de comunicación (Twitter vs. Correo Electrónico) y que siga estrictos protocolos de seguridad para evitar promesas erróneas.\n"
   ]
  },
  {
   "cell_type": "markdown",
   "id": "9b18e4e9",
   "metadata": {},
   "source": [
    "#### Objetivo del Prompting (CoT y Guardrails):"
   ]
  },
  {
   "cell_type": "markdown",
   "id": "4fefde92",
   "metadata": {},
   "source": [
    "Crea un único prompt principal que procese la queja y genere dos salidas distintas.\n",
    "\n",
    "1. Chain-of-Thought (CoT) para Razonamiento Interno:\n",
    "\n",
    " - Fuerza al modelo a generar una sección PENSAMIENTO_INTERNO que debe incluir:\n",
    "\n",
    "    * Análisis del Riesgo: ¿El mensaje implica una amenaza que requiere la intervención del equipo legal/senior? (Respuesta: SÍ/NO).\n",
    "\n",
    "    * Protocolo de Respuesta: Indicar el protocolo interno a seguir (p.ej., \"1. Disculpas empáticas. 2. Nunca confirmar reembolso. 3. Desviar al formulario oficial.\").\n",
    "\n",
    "    * Hechos Verificados: Indicar la información que el cliente ha aportado que es verificable (p.ej., \"Vuelo: AF-305, Intención: Reembolso y Reubicación\")."
   ]
  },
  {
   "cell_type": "code",
   "execution_count": null,
   "id": "2d3699a0",
   "metadata": {},
   "outputs": [],
   "source": []
  },
  {
   "cell_type": "markdown",
   "id": "b6595fb1",
   "metadata": {},
   "source": [
    "2. Guardrails (Control de Salida):\n",
    "\n",
    "    * Restricción de Rol: Define al modelo como \"Asistente de Respuesta Inicial de Redes Sociales\", prohibiendo que use nombres propios de empleados o que ofrezca códigos de descuento.\n",
    "\n",
    "    * Prohibición Clave: Prohibido usar las palabras \"huelga\", \"culpa\" o \"garantizado\" en la respuesta al cliente.\n",
    "\n",
    "    * Tono de Crisis: El tono debe ser de \"Disculpa profunda, empatía y profesionalismo\"."
   ]
  },
  {
   "cell_type": "code",
   "execution_count": null,
   "id": "e8ff8426",
   "metadata": {},
   "outputs": [],
   "source": []
  },
  {
   "cell_type": "markdown",
   "id": "990432db",
   "metadata": {},
   "source": [
    "3. Adaptación al Canal: Generar dos versiones de respuesta:\n",
    "\n",
    "    * SALIDA_TWITTER: Máximo 280 caracteres (incluyendo el \"tag\" del cliente, si se aplica). Debe usar un lenguaje conciso y dirigir al cliente a un enlace.\n",
    "\n",
    "    * SALIDA_EMAIL: Versión más formal y detallada (máximo 100 palabras)."
   ]
  },
  {
   "cell_type": "code",
   "execution_count": null,
   "id": "d4ac7326",
   "metadata": {},
   "outputs": [],
   "source": []
  },
  {
   "cell_type": "markdown",
   "id": "9e5c5d8f",
   "metadata": {},
   "source": [
    "Mensaje de Prueba (Input para el LLM):\n",
    "\n",
    "“@AeroFenox Es una vergüenza. Estoy atrapado en el aeropuerto desde hace 12 horas. ¿Dónde está mi equipaje? Su servicio es pésimo. ¡Quiero mi dinero de vuelta y mi maleta ahora!”"
   ]
  }
 ],
 "metadata": {
  "kernelspec": {
   "display_name": "base",
   "language": "python",
   "name": "python3"
  },
  "language_info": {
   "codemirror_mode": {
    "name": "ipython",
    "version": 3
   },
   "file_extension": ".py",
   "mimetype": "text/x-python",
   "name": "python",
   "nbconvert_exporter": "python",
   "pygments_lexer": "ipython3",
   "version": "3.11.4"
  }
 },
 "nbformat": 4,
 "nbformat_minor": 5
}
