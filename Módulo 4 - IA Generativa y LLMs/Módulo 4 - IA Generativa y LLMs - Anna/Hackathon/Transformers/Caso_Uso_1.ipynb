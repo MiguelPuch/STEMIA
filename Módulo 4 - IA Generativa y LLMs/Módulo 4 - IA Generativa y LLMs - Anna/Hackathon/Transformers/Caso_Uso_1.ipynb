{
 "cells": [
  {
   "cell_type": "markdown",
   "id": "53ec1ea2",
   "metadata": {},
   "source": [
    "# Caso Práctico: Sistema Inteligente de Clasificación de Reseñas para \"GastroReseñas\""
   ]
  },
  {
   "cell_type": "markdown",
   "id": "b397d75b",
   "metadata": {},
   "source": [
    "**Empresa  GastroReseñas Contexto**: \"GastroReseñas\" es una plataforma web líder en la recopilación de opiniones sobre restaurantes. Diariamente, miles de usuarios publican reseñas sobre sus experiencias gastronómicas. Actualmente, la plataforma solo muestra una calificación de 1 a 5 estrellas.\n",
    "\n",
    "La empresa quiere lanzar una nueva funcionalidad: un \"resumen de opinión\" que etiquete automáticamente cada reseña con aspectos clave mencionados por el usuario. Esto permitiría a los nuevos clientes filtrar, por ejemplo, por reseñas que hablen positivamente del \"Servicio\" o negativamente del \"Precio\".\n",
    "\n",
    "\n"
   ]
  },
  {
   "cell_type": "markdown",
   "id": "100b6ac3",
   "metadata": {},
   "source": [
    "**El Desafío**: El volumen de reseñas es demasiado grande para ser etiquetado manualmente. El equipo de \"GastroReseñas\" ha recopilado un conjunto de datos (un archivo .csv) donde han etiquetado manualmente 10,000 reseñas de ejemplo. El problema es que una misma reseña puede referirse a múltiples aspectos. Por ejemplo:\n",
    "\n",
    "- Reseña: \"La comida estaba deliciosa, pero el camarero fue muy lento.\"\n",
    "\n",
    "- Etiquetas deseadas: [Comida_Positivo], [Servicio_Negativo]\n",
    "\n",
    "Esto se conoce como un problema de clasificación de texto multietiqueta (multi-label classification)."
   ]
  },
  {
   "cell_type": "markdown",
   "id": "1634f33c",
   "metadata": {},
   "source": [
    "## Enunciado del Problema y Tarea "
   ]
  },
  {
   "cell_type": "markdown",
   "id": "dec1ec0f",
   "metadata": {},
   "source": [
    "Tu objetivo es desarrollar un sistema basado en un modelo Transformer (como BERT, DistilBERT o alguno similar que hayamos dado en clase) capaz de leer el texto de una nueva reseña de restaurante y asignar todas las etiquetas que correspondan de una lista predefinida."
   ]
  },
  {
   "cell_type": "markdown",
   "id": "98afb3e0",
   "metadata": {},
   "source": [
    "\n",
    "Conjunto de Datos: Se te proporciona un archivo gastro_reseñas_etiquetadas.csv. Las columnas relevantes son:\n",
    "\n",
    "- id_reseña: Identificador único.\n",
    "\n",
    "- texto_reseña: El texto completo de la opinión del usuario.\n",
    "\n",
    "- etiqueta_comida_pos: (1 o 0)\n",
    "\n",
    "- etiqueta_comida_neg: (1 o 0)\n",
    "\n",
    "- etiqueta_servicio_pos: (1 o 0)\n",
    "\n",
    "- etiqueta_servicio_neg: (1 o 0)\n",
    "\n",
    "- etiqueta_ambiente_pos: (1 o 0)\n",
    "\n",
    "- etiqueta_ambiente_neg: (1 o 0)\n",
    "\n",
    "- etiqueta_precio_pos: (1 o 0)\n",
    "\n",
    "- etiqueta_precio_neg: (1 o 0)\n",
    "\n",
    "(Nota: Un 1 indica que la etiqueta aplica, un 0 que no aplica. Una misma fila puede tener múltiples 1s)."
   ]
  },
  {
   "cell_type": "markdown",
   "id": "7a5f003b",
   "metadata": {},
   "source": [
    "## Requisitos del Proyecto\n"
   ]
  },
  {
   "cell_type": "markdown",
   "id": "24b1a79a",
   "metadata": {},
   "source": [
    "\n",
    "Debes configurar un script o notebook de Python que implemente la solución completa utilizando la biblioteca transformers (de Hugging Face) y un framework como PyTorch o TensorFlow.\n",
    "\n"
   ]
  },
  {
   "cell_type": "markdown",
   "id": "c6ede594",
   "metadata": {},
   "source": [
    "## Pasos Obligatorios\n"
   ]
  },
  {
   "cell_type": "markdown",
   "id": "01acaaf2",
   "metadata": {},
   "source": [
    "1. Carga y Preparación de Datos:\n",
    "\n",
    "- Cargar el archivo gastro_reseñas_etiquetadas.csv (usando pandas).\n",
    "\n",
    "- Preparar los datos para el modelo. Dado que es un problema multietiqueta, debes consolidar las columnas de etiquetas en un único formato que el modelo pueda entender (p.ej., un array de 8 dimensiones por cada reseña, como [1, 0, 0, 1, 0, 0, 0, 0]).\n",
    "\n",
    "- Dividir los datos en conjuntos de entrenamiento, validación y prueba."
   ]
  },
  {
   "cell_type": "code",
   "execution_count": null,
   "id": "d7084eee",
   "metadata": {},
   "outputs": [],
   "source": []
  },
  {
   "cell_type": "markdown",
   "id": "4bb4dbfa",
   "metadata": {},
   "source": [
    "2. Tokenización:\n",
    "\n",
    "- Elegir e instanciar un tokenizador pre-entrenado (ej. DistilBertTokenizerFast o cualquier otro que hayais utilizado en clase).\n",
    "\n",
    "- Tokenizar los texto_reseña para que el modelo Transformer pueda procesarlos (generando input_ids y attention_mask)."
   ]
  },
  {
   "cell_type": "code",
   "execution_count": null,
   "id": "0c8e7fb1",
   "metadata": {},
   "outputs": [],
   "source": []
  },
  {
   "cell_type": "markdown",
   "id": "1b6e310a",
   "metadata": {},
   "source": [
    "3. Configuración del Modelo:\n",
    "\n",
    "- Cargar un modelo Transformer pre-entrenado (ej. DistilBertForSequenceClassification o cualquier otro que hayais utilizado en clase) desde la biblioteca transformers.\n",
    "\n",
    "- Importante: Al cargar el modelo, deberás configurarlo específicamente para un problema de clasificación multietiqueta (multi-label), asegurándote de que la capa de salida tenga 8 neuronas (una por cada etiqueta posible) y utilice una función de activación y pérdida adecuadas (p.ej., Sigmoide en la salida y BCEWithLogitsLoss como función de pérdida)."
   ]
  },
  {
   "cell_type": "code",
   "execution_count": null,
   "id": "616640e9",
   "metadata": {},
   "outputs": [],
   "source": []
  },
  {
   "cell_type": "markdown",
   "id": "8684076a",
   "metadata": {},
   "source": [
    "4. Entrenamiento (Fine-Tuning):\n",
    "\n",
    "- Configurar los TrainingArguments (o un bucle de entrenamiento manual).\n",
    "\n",
    "- Implementar el \"fine-tuning\" del modelo sobre el conjunto de datos de entrenamiento, monitorizando la pérdida en el conjunto de validación."
   ]
  },
  {
   "cell_type": "code",
   "execution_count": null,
   "id": "a57ed65d",
   "metadata": {},
   "outputs": [],
   "source": []
  },
  {
   "cell_type": "markdown",
   "id": "528ba096",
   "metadata": {},
   "source": [
    "5. Evaluación:\n",
    "\n",
    "- Una vez entrenado el modelo, usar el conjunto de prueba (datos que el modelo nunca ha visto) para evaluar su rendimiento.\n",
    "\n",
    "- Calcular métricas apropiadas para clasificación multietiqueta, como el F1-Score (micro y macro), Precisión (micro) y Recall (micro).\n",
    "\n",
    "Nota: No se puede usar 'accuracy' simple, ya que una predicción puede ser parcialmente correcta (acertar 3 de 8 etiquetas)."
   ]
  },
  {
   "cell_type": "code",
   "execution_count": null,
   "id": "b9a2c898",
   "metadata": {},
   "outputs": [],
   "source": []
  },
  {
   "cell_type": "markdown",
   "id": "c316b002",
   "metadata": {},
   "source": [
    "6. Función de Inferencia:\n",
    "\n",
    "- Crear una función final llamada clasificar_reseña(texto) que reciba un string con una nueva reseña y devuelva una lista con los nombres de las etiquetas predichas (ej. ['Comida_Positivo', 'Servicio_Negativo'])."
   ]
  },
  {
   "cell_type": "code",
   "execution_count": null,
   "id": "155b825f",
   "metadata": {},
   "outputs": [],
   "source": []
  }
 ],
 "metadata": {
  "kernelspec": {
   "display_name": "base",
   "language": "python",
   "name": "python3"
  },
  "language_info": {
   "codemirror_mode": {
    "name": "ipython",
    "version": 3
   },
   "file_extension": ".py",
   "mimetype": "text/x-python",
   "name": "python",
   "nbconvert_exporter": "python",
   "pygments_lexer": "ipython3",
   "version": "3.11.4"
  }
 },
 "nbformat": 4,
 "nbformat_minor": 5
}
