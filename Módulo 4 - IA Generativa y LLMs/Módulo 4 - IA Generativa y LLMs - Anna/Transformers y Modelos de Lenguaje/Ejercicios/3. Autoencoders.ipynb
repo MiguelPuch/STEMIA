{
 "cells": [
  {
   "cell_type": "markdown",
   "id": "91e4b27f",
   "metadata": {},
   "source": [
    "# 3. Autoencoders"
   ]
  },
  {
   "cell_type": "markdown",
   "id": "9748eb35",
   "metadata": {},
   "source": [
    "Un autoencoder es una red neuronal que aprende a representar los datos en un espacio de menor dimensión (llamado espacio latente) y a reconstruirlos desde esa representación.\n",
    "En este ejercicio trabajaremos con el dataset Fashion-MNIST para entrenar y evaluar autoencoders."
   ]
  },
  {
   "cell_type": "markdown",
   "id": "99078f0e",
   "metadata": {},
   "source": [
    "## Parte 1: Preparación de datos\n",
    "\n",
    "- Carga el dataset Fashion-MNIST desde keras.datasets.fashion_mnist.\n",
    "\n",
    "- Escala los valores de píxeles al rango [0,1] y divide en entrenamiento y prueba.\n",
    "\n",
    "- Muestra algunos ejemplos de imágenes para confirmar que los datos están bien cargados."
   ]
  },
  {
   "cell_type": "code",
   "execution_count": null,
   "id": "077a0b25",
   "metadata": {
    "vscode": {
     "languageId": "plaintext"
    }
   },
   "outputs": [],
   "source": []
  },
  {
   "cell_type": "markdown",
   "id": "90df842b",
   "metadata": {},
   "source": [
    "## Parte 2: Autoencoder básico\n",
    "\n",
    "- Implementa un autoencoder que:\n",
    "\n",
    "  Use un encoder que aplana las imágenes y las proyecta a un espacio latente de dimensión latent_dim = 64.\n",
    "\n",
    "  Use un decoder que reconstruya la imagen original de 28x28 desde el espacio latente.\n",
    "\n",
    "- Entrena el modelo durante al menos 10 épocas con función de pérdida MSE.\n",
    "\n",
    "- Muestra resultados comparando imágenes originales con sus reconstrucciones."
   ]
  },
  {
   "cell_type": "code",
   "execution_count": null,
   "id": "5da86eab",
   "metadata": {
    "vscode": {
     "languageId": "plaintext"
    }
   },
   "outputs": [],
   "source": []
  },
  {
   "cell_type": "markdown",
   "id": "64e91a47",
   "metadata": {},
   "source": [
    "## Parte 3: Autoencoder profundo\n",
    "\n",
    "- Modifica la arquitectura del autoencoder para hacerlo más complejo:\n",
    "\n",
    "   Añade capas convolucionales en el encoder en lugar de solo Dense.\n",
    "\n",
    "   Usa Conv2DTranspose en el decoder para reconstruir la imagen.\n",
    "\n",
    "- Compara los resultados de reconstrucción entre el autoencoder simple y el convolucional.\n",
    "¿Cuál genera imágenes más nítidas?"
   ]
  },
  {
   "cell_type": "code",
   "execution_count": null,
   "id": "a44963de",
   "metadata": {
    "vscode": {
     "languageId": "plaintext"
    }
   },
   "outputs": [],
   "source": []
  },
  {
   "cell_type": "markdown",
   "id": "843695f6",
   "metadata": {},
   "source": [
    "## Parte 4: Visualización del espacio latente\n",
    "\n",
    "- Extrae las representaciones latentes (encoded_imgs) de un conjunto de imágenes de prueba.\n",
    "\n",
    "- Usa t-SNE o PCA para reducir la dimensionalidad del espacio latente a 2D.\n",
    "\n",
    "- Visualiza los puntos en un gráfico disperso (scatter plot), coloreando cada punto según la clase de la prenda.\n",
    "\n",
    "¿Qué patrones observas?\n",
    "\n",
    "¿Hay clases que se solapan más que otras?"
   ]
  },
  {
   "cell_type": "markdown",
   "id": "9645ef64",
   "metadata": {},
   "source": []
  },
  {
   "cell_type": "markdown",
   "id": "9a7e5d7f",
   "metadata": {},
   "source": [
    "## Parte 5: Generación a partir del espacio latente\n",
    "\n",
    "- Implementa una función que genere imágenes tomando vectores aleatorios en el espacio latente.\n",
    "\n",
    "- Visualiza varias imágenes generadas y analiza si parecen prendas de ropa realistas.\n",
    "\n",
    "- Realiza interpolaciones entre dos imágenes del test set:\n",
    "\n",
    "Codifica dos imágenes distintas en el espacio latente.\n",
    "\n",
    "Genera puntos intermedios en ese espacio.\n",
    "\n",
    "Decodifica esos puntos para obtener una secuencia de imágenes.\n",
    "\n",
    "Muestra cómo la primera imagen se transforma gradualmente en la segunda."
   ]
  },
  {
   "cell_type": "markdown",
   "id": "7e69e1ab",
   "metadata": {},
   "source": []
  },
  {
   "cell_type": "markdown",
   "id": "37f14e27",
   "metadata": {},
   "source": [
    "## Parte 6 (Avanzada - Opcional)\n",
    "\n",
    "- Convierte el autoencoder en un Variational Autoencoder (VAE):\n",
    "\n",
    "  Modifica el encoder para que genere una media y una varianza.\n",
    "\n",
    "  Aplica el truco de reparametrización para muestrear el espacio latente.\n",
    "\n",
    "  Ajusta la función de pérdida para incluir la KL divergence además del error de reconstrucción.\n",
    "\n",
    "- Compara los resultados del VAE con los del autoencoder clásico.\n",
    "¿Qué diferencias observas en las imágenes generadas?"
   ]
  },
  {
   "cell_type": "markdown",
   "id": "0f09fe7a",
   "metadata": {},
   "source": []
  }
 ],
 "metadata": {
  "language_info": {
   "name": "python"
  }
 },
 "nbformat": 4,
 "nbformat_minor": 5
}
