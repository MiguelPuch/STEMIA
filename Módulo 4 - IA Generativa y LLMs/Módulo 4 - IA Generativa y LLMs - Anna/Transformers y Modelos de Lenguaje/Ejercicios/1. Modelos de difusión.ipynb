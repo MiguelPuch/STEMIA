{
 "cells": [
  {
   "cell_type": "markdown",
   "id": "931e362f",
   "metadata": {},
   "source": [
    "# 1. Modelos de Difusión con Fashion-MNIST\n",
    "\n",
    "Los modelos de difusión son una técnica reciente de generación de imágenes que se basan en añadir y posteriormente eliminar ruido de manera progresiva. En este ejercicio vas a trabajar con el dataset Fashion-MNIST, que contiene imágenes de ropa en escala de grises.\n",
    "\n",
    "El objetivo será implementar un modelo simplificado de difusión que sea capaz de reconstruir imágenes a partir de ruido."
   ]
  },
  {
   "cell_type": "markdown",
   "id": "b2ad7493",
   "metadata": {},
   "source": [
    "## Parte 1: Preparación de datos\n",
    "\n",
    "- Carga el dataset Fashion-MNIST desde Keras.\n",
    "\n",
    "- Convierte las imágenes de 28x28 en imágenes de 3 canales (para que el modelo trabaje como si fueran imágenes RGB).\n",
    "\n",
    "- Normaliza las imágenes al rango [-1, 1].\n",
    "\n",
    "- Implementa una función para mostrar un mosaico de ejemplos del dataset."
   ]
  },
  {
   "cell_type": "code",
   "execution_count": null,
   "id": "8a1f81fd",
   "metadata": {
    "vscode": {
     "languageId": "plaintext"
    }
   },
   "outputs": [],
   "source": []
  },
  {
   "cell_type": "markdown",
   "id": "910b29c5",
   "metadata": {},
   "source": [
    "## Parte 2: Scheduler de ruido\n",
    "\n",
    "- Define un número de pasos de difusión (timesteps = 20).\n",
    "\n",
    "- Implementa un scheduler no lineal de ruido (puede ser cosenoidal o cuadrático).\n",
    "\n",
    "- Crea una función forward_noise(x, t) que, dado un lote de imágenes y un timestep, devuelva:\n",
    "\n",
    "     img_a: la imagen con ruido en el paso t.\n",
    "\n",
    "     img_b: la misma imagen con ruido en el paso t+1.\n",
    "\n",
    "- Visualiza algunas imágenes ruidosas en distintos timesteps."
   ]
  },
  {
   "cell_type": "code",
   "execution_count": null,
   "id": "71abc88a",
   "metadata": {
    "vscode": {
     "languageId": "plaintext"
    }
   },
   "outputs": [],
   "source": []
  },
  {
   "cell_type": "markdown",
   "id": "d6eb4417",
   "metadata": {},
   "source": [
    "## Parte 3: Arquitectura del modelo\n",
    "\n",
    "- Diseña una red neuronal que reciba como entradas:\n",
    "\n",
    "    Una imagen ruidosa.\n",
    "\n",
    "    El timestep correspondiente.\n",
    "\n",
    "- Implementa un bloque convolucional modulado por el tiempo, que:\n",
    "\n",
    "   Extraiga características espaciales con Conv2D.\n",
    "\n",
    "   Obtenga un embedding del timestep con Dense.\n",
    "\n",
    "   Combine ambas representaciones (ej. multiplicación o suma).\n",
    "\n",
    "   Aplique normalización y activación.\n",
    "\n",
    "- Añade en algún punto un módulo de atención multi-cabeza (MultiHeadAttention) para mejorar la capacidad de representación.\n",
    "\n",
    "- Construye un modelo encoder-decoder con skip connections que tome una imagen ruidosa en el paso t y genere una predicción de la misma imagen en el paso t+1."
   ]
  },
  {
   "cell_type": "code",
   "execution_count": null,
   "id": "df08e13d",
   "metadata": {
    "vscode": {
     "languageId": "plaintext"
    }
   },
   "outputs": [],
   "source": []
  },
  {
   "cell_type": "markdown",
   "id": "5eed1965",
   "metadata": {},
   "source": [
    "## Parte 4: Entrenamiento\n",
    "\n",
    "- Define la función de pérdida como Error Cuadrático Medio (MSE).\n",
    "\n",
    "- Utiliza el optimizador Adam con tasa de aprendizaje 0.0008.\n",
    "\n",
    "- Implementa una función train_one(x_img) que:\n",
    "\n",
    "   Seleccione timesteps aleatorios.\n",
    "\n",
    "   Genere imágenes con ruido.\n",
    "\n",
    "   Entrene al modelo para predecir el siguiente paso.\n",
    "\n",
    "- Entrena el modelo durante varias épocas y muestra la evolución de la pérdida."
   ]
  },
  {
   "cell_type": "code",
   "execution_count": null,
   "id": "4d2c3563",
   "metadata": {
    "vscode": {
     "languageId": "plaintext"
    }
   },
   "outputs": [],
   "source": []
  },
  {
   "cell_type": "markdown",
   "id": "2894e454",
   "metadata": {},
   "source": [
    "## Parte 5: Generación de imágenes\n",
    "\n",
    "- Implementa una función predict_step(n=8) que:\n",
    "\n",
    "   Inicie desde un lote de imágenes ruido puro (muestreadas de una normal).\n",
    "\n",
    "   Pase iterativamente las imágenes por el modelo para cada timestep.\n",
    "\n",
    "   Guarde algunas muestras intermedias (cada 4 pasos).\n",
    "\n",
    "- Visualiza cómo la imagen se va \"limpiando\" progresivamente."
   ]
  },
  {
   "cell_type": "code",
   "execution_count": null,
   "id": "9301e2f8",
   "metadata": {
    "vscode": {
     "languageId": "plaintext"
    }
   },
   "outputs": [],
   "source": []
  },
  {
   "cell_type": "markdown",
   "id": "3d2c614f",
   "metadata": {},
   "source": [
    "## Parte 6: Extensiones opcionales\n",
    "\n",
    "- Guarda el modelo entrenado en disco (.keras).\n",
    "\n",
    "- Intenta modificar el scheduler de ruido para ver si mejora la calidad de las imágenes.\n",
    "\n",
    "- Cambia el dataset a CIFAR-10 o CelebA y analiza los cambios necesarios en el modelo."
   ]
  },
  {
   "cell_type": "code",
   "execution_count": null,
   "id": "a702109f",
   "metadata": {
    "vscode": {
     "languageId": "plaintext"
    }
   },
   "outputs": [],
   "source": []
  }
 ],
 "metadata": {
  "language_info": {
   "name": "python"
  }
 },
 "nbformat": 4,
 "nbformat_minor": 5
}
