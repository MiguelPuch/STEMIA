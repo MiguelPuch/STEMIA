{
 "cells": [
  {
   "cell_type": "markdown",
   "id": "f6db8dd1",
   "metadata": {},
   "source": [
    "# 1. Modelos de difusión"
   ]
  },
  {
   "cell_type": "markdown",
   "id": "b25b1bae",
   "metadata": {},
   "source": [
    "Los modelos de difusión heredan de varias técnicas anteriormente vistas haciendo evolucionar una conjunto de ruido hacia una distribución conocida y acotada. Se trata de iniciar el proceso con algo aleatorio pero hacerlo converger a muestras de una distribución conocida como pudieran ser:\n",
    "\n",
    "* Dígitos escritos a mano\n",
    "* Ropa de un catalogo de moda\n",
    "\n",
    "Aunque su aplicación inicial se dió en el contexto de la generación de imágenes, han sido utilizados para la creación de textos, particularmente código, con bastante éxito. Su fortaleza está en que el modelo no intenta hacer una generación en un único paso, lo cual facilita el entrenamiento pero también permite una mejor generación de imágenes con buena resolución.\n",
    "\n",
    "Tenéis una muy buena referencia sobre esta temática en https://huggingface.co/learn/diffusion-course/unit0/1 aunque nosotros emplearemos un ejercicio simplificado que podéis extender con conceptos que van más en profundidad.\n",
    "\n",
    "## Difusión\n",
    "\n",
    "Se trata del proceso por el que podemos iniciar nuestro objeto de datos de forma aleatoria e ir regenerando una estructura sobre esa base que represente una distribución concreta.\n",
    "\n",
    "![difusión](https://user-images.githubusercontent.com/10695622/174349667-04e9e485-793b-429a-affe-096e8199ad5b.png)\n",
    "\n",
    "_Del artículo https://arxiv.org/abs/2006.11239_\n",
    "\n",
    "La base consiste en la bidireccionalidad del proceso. Podemos empezar con imágenes de alta definición y calcular la forma en la que el ruido les es añadida. Esto nos permite generar un buen predictor de ruido que aplicado de manera inversa nos permite predecir que partes de una imagen son ruido, substraerlas y por pura iteración generar finalmente imágenes definidas de la distribución de las muestras originalmente presentadas.\n",
    "\n",
    "![difusion](https://cdn.prod.website-files.com/614c82ed388d53640613982e/66acbdfb02fc228862686191_65608be75079ab1a96ef681b_reverse-sde.webp)\n",
    "\n",
    "_Referencia_ https://arxiv.org/pdf/2011.13456"
   ]
  },
  {
   "cell_type": "code",
   "execution_count": null,
   "id": "67bd8881",
   "metadata": {},
   "outputs": [],
   "source": []
  },
  {
   "cell_type": "markdown",
   "id": "69d17ed7",
   "metadata": {},
   "source": [
    "Trabajaremos con el conjunto de datos del CIFAR-10."
   ]
  },
  {
   "cell_type": "code",
   "execution_count": null,
   "id": "539e1bff",
   "metadata": {},
   "outputs": [],
   "source": []
  },
  {
   "cell_type": "code",
   "execution_count": null,
   "id": "79bdf12b",
   "metadata": {},
   "outputs": [],
   "source": []
  },
  {
   "cell_type": "code",
   "execution_count": null,
   "id": "b2280c9c",
   "metadata": {},
   "outputs": [],
   "source": []
  },
  {
   "cell_type": "markdown",
   "id": "251b44db",
   "metadata": {},
   "source": [
    "Existe un profeso de secuenciado de la difusión que se conoce como planificador o _scheduler_ que es el encargado de hacer los pases por los bloques de difusión, creando la estructura arriba indicada que genera imágenes nítidas a partir del ruido."
   ]
  },
  {
   "cell_type": "code",
   "execution_count": null,
   "id": "35c56b4d",
   "metadata": {},
   "outputs": [],
   "source": []
  },
  {
   "cell_type": "code",
   "execution_count": null,
   "id": "4d311467",
   "metadata": {},
   "outputs": [],
   "source": []
  },
  {
   "cell_type": "code",
   "execution_count": null,
   "id": "4147d191",
   "metadata": {},
   "outputs": [],
   "source": []
  },
  {
   "cell_type": "code",
   "execution_count": null,
   "id": "e862f3fc",
   "metadata": {},
   "outputs": [],
   "source": []
  },
  {
   "cell_type": "code",
   "execution_count": null,
   "id": "d67d0231",
   "metadata": {},
   "outputs": [],
   "source": []
  },
  {
   "cell_type": "markdown",
   "id": "b63039c1",
   "metadata": {},
   "source": [
    "Se observó que usar interpolaciones no lineales tiene sus ventajas, es quizás una de las grandes aportaciones del artículo de Stable Diffusion, y aunque el foco era la eficiencia, podemos ver cómo cambiar la forma en la que interpolamos ruido y señal también afecta al resultado:\n",
    "\n",
    "![caras](https://miro.medium.com/v2/resize:fit:1100/format:webp/1*CTM_483g1nWQLs8TGio6UQ.png)\n",
    "\n",
    "https://arxiv.org/pdf/2112.10752"
   ]
  },
  {
   "cell_type": "markdown",
   "id": "7f64f4cb",
   "metadata": {},
   "source": [
    "Con esto ahora nos toca diseñar nuestra red que tendrá una pinta similar a \n",
    "\n",
    "![Arquitectura de red](https://lmb.informatik.uni-freiburg.de/people/ronneber/u-net/u-net-architecture.png)"
   ]
  },
  {
   "cell_type": "code",
   "execution_count": null,
   "id": "74fa2541",
   "metadata": {},
   "outputs": [],
   "source": []
  },
  {
   "cell_type": "code",
   "execution_count": null,
   "id": "e495fd99",
   "metadata": {},
   "outputs": [],
   "source": []
  },
  {
   "cell_type": "code",
   "execution_count": null,
   "id": "e9a48be8",
   "metadata": {},
   "outputs": [],
   "source": []
  },
  {
   "cell_type": "code",
   "execution_count": null,
   "id": "cdb2fd0c",
   "metadata": {},
   "outputs": [],
   "source": []
  },
  {
   "cell_type": "code",
   "execution_count": null,
   "id": "7c93227e",
   "metadata": {},
   "outputs": [],
   "source": []
  },
  {
   "cell_type": "code",
   "execution_count": null,
   "id": "7c8993f5",
   "metadata": {},
   "outputs": [],
   "source": []
  },
  {
   "cell_type": "markdown",
   "id": "8f831073",
   "metadata": {},
   "source": [
    "Podemos ajustar los parámetros de aprendizaje en cada iteración."
   ]
  },
  {
   "cell_type": "code",
   "execution_count": null,
   "id": "cffd03db",
   "metadata": {},
   "outputs": [],
   "source": []
  },
  {
   "cell_type": "code",
   "execution_count": null,
   "id": "4c6a333c",
   "metadata": {},
   "outputs": [],
   "source": []
  },
  {
   "cell_type": "markdown",
   "id": "41958f99",
   "metadata": {},
   "source": [
    "Algunos recursos adicionales:\n",
    "\n",
    "* https://github.com/CompVis/latent-diffusion\n",
    "* https://huggingface.co/learn/diffusion-course/unit0/1"
   ]
  }
 ],
 "metadata": {
  "kernelspec": {
   "display_name": ".venv",
   "language": "python",
   "name": "python3"
  },
  "language_info": {
   "codemirror_mode": {
    "name": "ipython",
    "version": 3
   },
   "file_extension": ".py",
   "mimetype": "text/x-python",
   "name": "python",
   "nbconvert_exporter": "python",
   "pygments_lexer": "ipython3",
   "version": "3.11.4"
  }
 },
 "nbformat": 4,
 "nbformat_minor": 5
}
