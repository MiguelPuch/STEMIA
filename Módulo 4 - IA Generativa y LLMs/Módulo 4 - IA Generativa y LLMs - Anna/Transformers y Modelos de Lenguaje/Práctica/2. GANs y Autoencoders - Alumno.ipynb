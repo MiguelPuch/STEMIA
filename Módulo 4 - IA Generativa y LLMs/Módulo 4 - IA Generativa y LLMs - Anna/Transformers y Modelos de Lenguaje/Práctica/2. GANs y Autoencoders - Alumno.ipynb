{
 "cells": [
  {
   "cell_type": "markdown",
   "id": "43e4b5b0",
   "metadata": {},
   "source": [
    "## ¿Qué son las GAN?\n",
    "\n",
    "Las GAN, introducidas por Ian Goodfellow en 2014, son un tipo de modelo generativo que consta de dos redes neuronales: un generador y un discriminador. La red generadora toma un vector de ruido aleatorio como entrada y produce un punto de datos sintético, mientras que la red discriminadora evalúa el punto de datos generado e indica al generador si es realista o no.\n",
    "\n",
    "![GAN](https://imgs.search.brave.com/qiJvz1a9sbExXtVcnmI31ugACNFAsOlA69uFhSOZPmE/rs:fit:860:0:0:0/g:ce/aHR0cHM6Ly9jZG4u/Y2xpY2t3b3JrZXIu/Y29tL3dwLWNvbnRl/bnQvdXBsb2Fkcy8y/MDIyLzExL0dlbmVy/YXRpdmUtQWR2ZXJz/YXJpYWwtTmV0d29y/a3MtQXJjaGl0ZWN0/dXJlLXNjYWxlZC5q/cGc)\n",
    "\n",
    "El objetivo del generador es producir puntos de datos indistinguibles de los datos reales, mientras que el objetivo del discriminador es identificar correctamente los puntos de datos generados. El proceso de entrenamiento de las GAN implica un juego de dos jugadores: el generador y el discriminador. El generador intenta producir puntos de datos realistas, mientras que el discriminador intenta clasificarlos correctamente como reales o falsos. Este proceso antagónico permite que ambas redes mejoren su rendimiento, generando datos altamente realistas. Esta tecnología es la base del aprendizaje profundo, una subcategoría del aprendizaje automático (ML) capaz de reconocer patrones complejos en diversos tipos de datos, como imágenes, sonidos y texto.\n",
    "\n",
    "Tenéis una guía del equipo de TensorFlow aquí: https://www.tensorflow.org/tutorials/generative/dcgan?hl=es-419"
   ]
  },
  {
   "cell_type": "code",
   "execution_count": null,
   "id": "5b32c86b",
   "metadata": {},
   "outputs": [],
   "source": []
  },
  {
   "cell_type": "code",
   "execution_count": null,
   "id": "b176d2f5",
   "metadata": {},
   "outputs": [],
   "source": []
  },
  {
   "cell_type": "markdown",
   "id": "9a48c825",
   "metadata": {},
   "source": [
    "### El Generador\n",
    "\n",
    "El generador es la estructura que dado un _ruido_ aleatorio es capaz de generar una imagen. Las primeras imágenes no tendrán forma definida pero según lo enfrentemos al discriminador veremos cómo irán centrándose en imágenes que el discriminador tenga más difícil distinguir de las reales."
   ]
  },
  {
   "cell_type": "code",
   "execution_count": null,
   "id": "55f31c1f",
   "metadata": {},
   "outputs": [],
   "source": []
  },
  {
   "cell_type": "code",
   "execution_count": null,
   "id": "312b56c3",
   "metadata": {},
   "outputs": [],
   "source": []
  },
  {
   "cell_type": "markdown",
   "id": "f013aedb",
   "metadata": {},
   "source": [
    "### Discriminador\n",
    "\n",
    "El discriminador es el encargado de intentar identificar qué imagen es falsa."
   ]
  },
  {
   "cell_type": "code",
   "execution_count": null,
   "id": "e27deb1f",
   "metadata": {},
   "outputs": [],
   "source": []
  },
  {
   "cell_type": "code",
   "execution_count": null,
   "id": "1bf07a3e",
   "metadata": {},
   "outputs": [],
   "source": []
  },
  {
   "cell_type": "markdown",
   "id": "46b1243a",
   "metadata": {},
   "source": [
    "Vemos que para esta imagen determina un valor cercano a cero. Ambas redes están sin entrenar así que deberemos esperar al entrenamiento completo para ver qué resulta."
   ]
  },
  {
   "cell_type": "code",
   "execution_count": null,
   "id": "e284ab36",
   "metadata": {},
   "outputs": [],
   "source": []
  },
  {
   "cell_type": "code",
   "execution_count": null,
   "id": "805ad82d",
   "metadata": {},
   "outputs": [],
   "source": []
  },
  {
   "cell_type": "code",
   "execution_count": null,
   "id": "1197a386",
   "metadata": {},
   "outputs": [],
   "source": []
  },
  {
   "cell_type": "markdown",
   "id": "7c8c5478",
   "metadata": {},
   "source": [
    "**NOTA**: Tomará su tiempo... (60 min a 2 horas) si usáis 100 épocas."
   ]
  },
  {
   "cell_type": "code",
   "execution_count": null,
   "id": "54fcb8ab",
   "metadata": {},
   "outputs": [],
   "source": []
  },
  {
   "cell_type": "markdown",
   "id": "4c2d83c2",
   "metadata": {},
   "source": [
    "Una vez entrenado es bueno salvar el modelo para poder reutilizarlo con\n",
    "\n",
    "```py\n",
    "from keras.models import load_model\n",
    "\n",
    "generator = load_model(\"modelos/gan_gen.keras\")\n",
    "```"
   ]
  },
  {
   "cell_type": "code",
   "execution_count": null,
   "id": "5a23cfc0",
   "metadata": {},
   "outputs": [],
   "source": []
  },
  {
   "cell_type": "code",
   "execution_count": null,
   "id": "6368f4d9",
   "metadata": {},
   "outputs": [],
   "source": []
  },
  {
   "cell_type": "code",
   "execution_count": null,
   "id": "90d8429a",
   "metadata": {},
   "outputs": [],
   "source": []
  },
  {
   "cell_type": "code",
   "execution_count": null,
   "id": "32eb319a",
   "metadata": {},
   "outputs": [],
   "source": []
  },
  {
   "cell_type": "markdown",
   "id": "e336f9bc",
   "metadata": {},
   "source": [
    "## Las GANs condicionales\n",
    "\n",
    "Nos surge la duda ¿cómo puedo hacer que genere imágenes de un número concreto? Esto requiere que seamos capaces de condicionar la entrada. Es decir, incluir información sobre la categoría concreta sobre la que queremos generar el contenido. Esencialmente, debemos incluir esta información en la entrada del generador para que este sepa qué tipo de imagen o muestra queremos generar. Veremos que esto es un paso clave si queremos hacer que nuestras redes generen información de un tipo u otro.\n",
    "\n",
    "https://keras.io/examples/generative/conditional_gan/"
   ]
  },
  {
   "cell_type": "code",
   "execution_count": null,
   "id": "5b5172b9",
   "metadata": {},
   "outputs": [],
   "source": []
  },
  {
   "cell_type": "code",
   "execution_count": null,
   "id": "0b067a73",
   "metadata": {},
   "outputs": [],
   "source": []
  },
  {
   "cell_type": "code",
   "execution_count": null,
   "id": "acd0a519",
   "metadata": {},
   "outputs": [],
   "source": []
  },
  {
   "cell_type": "code",
   "execution_count": null,
   "id": "9a94647d",
   "metadata": {},
   "outputs": [],
   "source": []
  },
  {
   "cell_type": "code",
   "execution_count": null,
   "id": "b76c412e",
   "metadata": {},
   "outputs": [],
   "source": []
  },
  {
   "cell_type": "code",
   "execution_count": null,
   "id": "38e911be",
   "metadata": {},
   "outputs": [],
   "source": []
  },
  {
   "cell_type": "markdown",
   "id": "75c94866",
   "metadata": {},
   "source": [
    "Una vez entrenado es bueno salvar el modelo para poder reutilizarlo con\n",
    "\n",
    "```py\n",
    "from keras.models import load_model\n",
    "\n",
    "generator = load_model(\"modelos/cgan_gen.keras\")\n",
    "```"
   ]
  },
  {
   "cell_type": "code",
   "execution_count": null,
   "id": "bdd44fc6",
   "metadata": {},
   "outputs": [],
   "source": []
  },
  {
   "cell_type": "code",
   "execution_count": null,
   "id": "2d42432a",
   "metadata": {},
   "outputs": [],
   "source": []
  },
  {
   "cell_type": "code",
   "execution_count": null,
   "id": "032a6377",
   "metadata": {},
   "outputs": [],
   "source": []
  },
  {
   "cell_type": "code",
   "execution_count": null,
   "id": "4e1a8612",
   "metadata": {},
   "outputs": [],
   "source": []
  },
  {
   "cell_type": "code",
   "execution_count": null,
   "id": "f68c434f",
   "metadata": {},
   "outputs": [],
   "source": []
  },
  {
   "cell_type": "markdown",
   "id": "92cd94bc",
   "metadata": {},
   "source": [
    "## ¿Qué son los AE?\n",
    "\n",
    "Un Autoencoder (VAE) es una arquitectura básica con dos etapas, codificación y decodificación, pensada para poder obtener una representación densa en un espacio latente a modo de cuello de botella de la red.\n",
    "\n",
    "![autoencoders](https://media.geeksforgeeks.org/wp-content/uploads/20231130152144/Autoencoder.png)\n",
    "\n",
    "Tenéis una guía detallada en: https://www.tensorflow.org/tutorials/generative/autoencoder?hl=es-419"
   ]
  },
  {
   "cell_type": "code",
   "execution_count": null,
   "id": "e5361048",
   "metadata": {},
   "outputs": [],
   "source": []
  },
  {
   "cell_type": "code",
   "execution_count": null,
   "id": "8e1f9e04",
   "metadata": {},
   "outputs": [],
   "source": []
  },
  {
   "cell_type": "code",
   "execution_count": null,
   "id": "d565e24c",
   "metadata": {},
   "outputs": [],
   "source": []
  },
  {
   "cell_type": "code",
   "execution_count": null,
   "id": "672359dd",
   "metadata": {},
   "outputs": [],
   "source": []
  },
  {
   "cell_type": "code",
   "execution_count": null,
   "id": "7d17aa94",
   "metadata": {},
   "outputs": [],
   "source": []
  },
  {
   "cell_type": "markdown",
   "id": "cbd7cf7d",
   "metadata": {},
   "source": [
    "Más en: https://www.tensorflow.org/tutorials/generative/autoencoder?hl=es-419"
   ]
  }
 ],
 "metadata": {
  "kernelspec": {
   "display_name": ".venv_tf",
   "language": "python",
   "name": "python3"
  },
  "language_info": {
   "codemirror_mode": {
    "name": "ipython",
    "version": 3
   },
   "file_extension": ".py",
   "mimetype": "text/x-python",
   "name": "python",
   "nbconvert_exporter": "python",
   "pygments_lexer": "ipython3",
   "version": "3.12.11+"
  }
 },
 "nbformat": 4,
 "nbformat_minor": 5
}
