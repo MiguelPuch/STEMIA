{
 "cells": [
  {
   "cell_type": "markdown",
   "id": "936c7d23",
   "metadata": {},
   "source": [
    "Si planeamos desplegar este tipo de modelos ante todo debemos conocer como realizar dos tareas fundamentales:\n",
    "\n",
    "* Evaluar sus resultados\n",
    "* Monitorizar o trazar sus acciones\n",
    "\n",
    "Dependiendo del framework de implementación esto puede resultar algo más complejo aunque la mayoría incluyen integraciones abiertas con OpenTelemetry o trazabilidad propia como es el caso e LangChain vía LangSmith, una plataforma nube que gestiona las trazas que el framework instrumenta de forma sencilla. Existen varias opciones con sus pros y contras:\n",
    "\n",
    "* [Opik](https://www.comet.com/docs/opik/)\n",
    "* [Langfuse](https://langfuse.com) \n",
    "* [LangSmith](https://www.langchain.com/langsmith) que aunque dispone de oferta exclusivamente cloud, veremos que presenta una integración muy simple con LangChain.\n",
    "\n",
    "# LangSmith\n",
    "\n",
    "[LangSmith](https://www.langchain.com/langsmith) se presenta como un entorno nube pero también una vía para instrumentar de forma sencilla nuestras interacciones dentro del contexto de uso de las LLMs. Simplemente incluyendo las variables de entorno:\n",
    "\n",
    "```\n",
    "LANGSMITH_TRACING=true\n",
    "LANGSMITH_API_KEY=<TOKEN>\n",
    "LANGSMITH_ENDPOINT=https://api.smith.langchain.com\n",
    "LANGSMITH_PROJECT=<PROYECTO>\n",
    "```\n",
    "\n",
    "Podemos hacer un seguimiento de las llamadas, cuellos de botella y respuestas arrojadas por el proveedor que estemos empleando."
   ]
  },
  {
   "cell_type": "code",
   "execution_count": 1,
   "id": "c3cec0d5",
   "metadata": {},
   "outputs": [
    {
     "data": {
      "text/plain": [
       "True"
      ]
     },
     "execution_count": 1,
     "metadata": {},
     "output_type": "execute_result"
    }
   ],
   "source": [
    "from dotenv import load_dotenv\n",
    "\n",
    "load_dotenv(override=True)"
   ]
  },
  {
   "cell_type": "markdown",
   "id": "033a7fbe",
   "metadata": {},
   "source": [
    "Esto es suficiente para que nuestras acciones queden completamente registradas."
   ]
  },
  {
   "cell_type": "code",
   "execution_count": 2,
   "id": "9767797c",
   "metadata": {},
   "outputs": [
    {
     "name": "stdout",
     "output_type": "stream",
     "text": [
      "La traducción más común y directa de \"Hello, how are you?\" al francés es:\n",
      "\n",
      "**Bonjour, comment allez-vous ?**\n",
      "\n",
      "Aquí hay otras opciones, dependiendo del nivel de formalidad:\n",
      "\n",
      "*   **Salut, comment vas-tu ?** (Más informal, para amigos y familiares)\n",
      "*   **Bonjour, ça va ?** (Muy común, un poco más informal que la primera opción)\n",
      "*   **Salut, ça va ?** (Muy informal)\n",
      "\n",
      "La primera opción, **Bonjour, comment allez-vous ?**, es la más segura si no estás seguro del nivel de formalidad.\n"
     ]
    }
   ],
   "source": [
    "from langchain_google_genai import ChatGoogleGenerativeAI\n",
    "from langchain.prompts import PromptTemplate\n",
    "\n",
    "# Select a model\n",
    "llm = ChatGoogleGenerativeAI(model=\"gemini-2.0-flash\")\n",
    "\n",
    "# Create the LLM Chain using LangChain\n",
    "prompt = PromptTemplate(\n",
    "    input_variables=[\"input\"],\n",
    "    template=\"Traduce el siguiente texto al Francés: {input}\"\n",
    ")\n",
    "chain = prompt | llm\n",
    "\n",
    "# Generate the translations\n",
    "translation = chain.invoke(\"Hello, how are you?\")\n",
    "print(translation.content)"
   ]
  },
  {
   "cell_type": "markdown",
   "id": "0ec5aabe",
   "metadata": {},
   "source": [
    "![langsmith](../images/langsmithpro.png)"
   ]
  },
  {
   "cell_type": "markdown",
   "id": "253d4040",
   "metadata": {},
   "source": [
    "Veremos que otros frameworks como [Agno](https://docs.agno.com/examples/concepts/observability/langsmith-via-openinference) nos permiten volcar la información también a LangSmith aunque resulta algo menos sencillo instrumentar las aplicaciones en este caso."
   ]
  },
  {
   "cell_type": "markdown",
   "id": "26211775",
   "metadata": {},
   "source": [
    "# Observabilidad\n",
    "\n",
    "Otro aspecto clave es poder evaluar las respuestas de nuestro modelo. ¿Presenta sesgos? ¿Vuelca información sensible? ¿Sus respuestas son correctas? Podemos acotar mucho con un buen trabajo de prompting pero nunca estamos seguros cuando se trata de modelos probabilísticos.\n",
    "\n",
    "La gran pega es que debemos evaluar dos textos, el texto que sabemos es una buena respuesta y el arrojado por el modelo... de ahí que una de las modalidades más extendidas se trate de usar una LLM como juez (dándole las instrucciones adecuadas). Así es como operan soluciones como:\n",
    "\n",
    "* [Deepeval](https://deepeval.com/)\n",
    "* [Openevals](https://github.com/langchain-ai/openevals)\n",
    "\n",
    "Veamos algunos ejemplos aunque podéis encontrar más y más específicos en la documentación de [LangSmith](https://docs.smith.langchain.com/evaluation/tutorials).\n",
    "\n",
    "Por un lado tenemos por ejemplo, la relevancia de la respuesta:\n",
    "\n",
    "$$\n",
    "\\text{Answer relevancy} = \\frac{\\text{Number of relevant statements}}{\\text{Total number of statements}}\n",
    "$$\n",
    "\n",
    "[AnswerRelevancy](https://deepeval.com/docs/metrics-answer-relevancy#how-is-it-calculated)\n"
   ]
  },
  {
   "cell_type": "code",
   "execution_count": 3,
   "id": "56fa62d8",
   "metadata": {},
   "outputs": [],
   "source": [
    "import os\n",
    "from deepeval.models import GeminiModel\n",
    "from deepeval.metrics import AnswerRelevancyMetric\n",
    "\n",
    "model = GeminiModel(\n",
    "    model_name=\"gemini-2.5-flash\",\n",
    "    api_key=os.environ.get(\"GOOGLE_API_KEY\"),\n",
    "    temperature=0\n",
    ")\n",
    "\n",
    "answer_relevancy = AnswerRelevancyMetric(model=model, verbose_mode=True)"
   ]
  },
  {
   "cell_type": "code",
   "execution_count": 4,
   "id": "4f6177d5",
   "metadata": {},
   "outputs": [
    {
     "name": "stdout",
     "output_type": "stream",
     "text": [
      "Sí, definitivamente deberías preocuparte y buscar atención médica si tienes tos persistente y fiebre. Estos son síntomas que podrían indicar varias condiciones, algunas de las cuales requieren tratamiento:\n",
      "\n",
      "**Posibles causas:**\n",
      "\n",
      "*   **Infecciones respiratorias:**\n",
      "    *   **Gripe (Influenza):** Causa fiebre, tos, dolor de garganta, dolores musculares y fatiga.\n",
      "    *   **COVID-19:** Similar a la gripe, pero puede incluir pérdida del gusto u olfato.\n",
      "    *   **Bronquitis:** Inflamación de los bronquios, causa tos con mucosidad.\n",
      "    *   **Neumonía:** Infección de los pulmones, puede ser bacteriana, viral o fúngica.\n",
      "    *   **Resfriado común:** Aunque menos probable con fiebre alta y tos persistente.\n",
      "\n",
      "*   **Otras condiciones:**\n",
      "    *   **Sinusitis:** Inflamación de los senos paranasales, puede causar tos y fiebre.\n",
      "    *   **Tos ferina (Pertussis):** Tos severa con un sonido característico, especialmente peligrosa para bebés.\n",
      "    *   **Enfermedades pulmonares crónicas (EPOC, asma):** Pueden exacerbarse y causar tos y fiebre.\n",
      "\n",
      "**¿Por qué es importante buscar atención médica?**\n",
      "\n",
      "*   **Diagnóstico preciso:** Un médico puede determinar la causa de tus síntomas mediante un examen físico, pruebas (como análisis de sangre, radiografía de tórax, hisopado para COVID-19 o gripe) y evaluación de tu historial médico.\n",
      "*   **Tratamiento adecuado:** El tratamiento dependerá de la causa. Podría incluir antibióticos (para infecciones bacterianas), antivirales (para gripe o COVID-19), medicamentos para aliviar los síntomas (como antitusivos o antipiréticos) o, en casos más graves, hospitalización.\n",
      "*   **Prevención de complicaciones:** Algunas de estas condiciones pueden llevar a complicaciones serias si no se tratan adecuadamente. Por ejemplo, la neumonía puede causar dificultad respiratoria severa o sepsis.\n",
      "*   **Proteger a otros:** Si tienes una enfermedad contagiosa, un diagnóstico temprano y aislamiento pueden ayudar a prevenir la propagación a otras personas, especialmente a aquellas más vulnerables.\n",
      "\n",
      "**¿Qué debes hacer?**\n",
      "\n",
      "1.  **Consulta a un médico:** Lo antes posible. Puedes llamar a tu médico de cabecera, ir a una clínica de atención urgente o, si tienes dificultad para respirar o dolor en el pecho, acudir a la sala de emergencias.\n",
      "2.  **Describe tus síntomas:** Sé específico sobre tu tos (seca, con mucosidad, frecuencia, etc.), la fiebre (cuánto dura, qué tan alta es), y cualquier otro síntoma que tengas (dolor de garganta, dificultad para respirar, dolores musculares, fatiga, etc.).\n",
      "3.  **Aísla:** Para evitar contagiar a otros, quédate en casa y evita el contacto cercano con otras personas hasta que sepas qué tienes y si eres contagioso.\n",
      "4.  **Higiene:** Lávate las manos frecuentemente con agua y jabón, y usa gel antibacterial si no tienes acceso a agua y jabón. Cúbrete la boca y la nariz al toser o estornudar.\n",
      "\n",
      "**En resumen,** la combinación de tos persistente y fiebre requiere atención médica. No ignores estos síntomas y busca la ayuda de un profesional de la salud para obtener un diagnóstico y tratamiento adecuados.\n"
     ]
    }
   ],
   "source": [
    "from langchain_google_genai import ChatGoogleGenerativeAI\n",
    "\n",
    "# Select a model\n",
    "llm = ChatGoogleGenerativeAI(model=\"gemini-2.0-flash\")\n",
    "\n",
    "pregunta = \"Tengo tos persistente y fiebre. ¿Debería preocuparme?\"\n",
    "response = llm.invoke(pregunta)\n",
    "print(response.content)"
   ]
  },
  {
   "cell_type": "markdown",
   "id": "f68647da",
   "metadata": {},
   "source": [
    "Montemos ahora el caso de test. ¿Qué respuesta entendemos sería correcta?"
   ]
  },
  {
   "cell_type": "code",
   "execution_count": 5,
   "id": "f0110a2e",
   "metadata": {},
   "outputs": [
    {
     "data": {
      "application/vnd.jupyter.widget-view+json": {
       "model_id": "fe1a8c45ea9e4d78aeaf308bbabea0a0",
       "version_major": 2,
       "version_minor": 0
      },
      "text/plain": [
       "Output()"
      ]
     },
     "metadata": {},
     "output_type": "display_data"
    },
    {
     "data": {
      "text/html": [
       "<pre style=\"white-space:pre;overflow-x:auto;line-height:normal;font-family:Menlo,'DejaVu Sans Mono',consolas,'Courier New',monospace\">**************************************************\n",
       "</pre>\n"
      ],
      "text/plain": [
       "**************************************************\n"
      ]
     },
     "metadata": {},
     "output_type": "display_data"
    },
    {
     "data": {
      "text/html": [
       "<pre style=\"white-space:pre;overflow-x:auto;line-height:normal;font-family:Menlo,'DejaVu Sans Mono',consolas,'Courier New',monospace\">Answer Relevancy Verbose Logs\n",
       "</pre>\n"
      ],
      "text/plain": [
       "Answer Relevancy Verbose Logs\n"
      ]
     },
     "metadata": {},
     "output_type": "display_data"
    },
    {
     "data": {
      "text/html": [
       "<pre style=\"white-space:pre;overflow-x:auto;line-height:normal;font-family:Menlo,'DejaVu Sans Mono',consolas,'Courier New',monospace\">**************************************************\n",
       "</pre>\n"
      ],
      "text/plain": [
       "**************************************************\n"
      ]
     },
     "metadata": {},
     "output_type": "display_data"
    },
    {
     "data": {
      "text/html": [
       "<pre style=\"white-space:pre;overflow-x:auto;line-height:normal;font-family:Menlo,'DejaVu Sans Mono',consolas,'Courier New',monospace\">\n",
       "</pre>\n"
      ],
      "text/plain": [
       "\n"
      ]
     },
     "metadata": {},
     "output_type": "display_data"
    },
    {
     "data": {
      "text/html": [
       "<pre style=\"white-space:pre;overflow-x:auto;line-height:normal;font-family:Menlo,'DejaVu Sans Mono',consolas,'Courier New',monospace\">Statements:\n",
       "[\n",
       "    \"Debes preocuparte y buscar atención médica si tienes tos persistente y fiebre.\",\n",
       "    \"Estos son síntomas que podrían indicar varias condiciones, algunas de las cuales requieren tratamiento.\",\n",
       "    \"La gripe (Influenza) causa fiebre, tos, dolor de garganta, dolores musculares y fatiga.\",\n",
       "    \"El COVID-19 es similar a la gripe, pero puede incluir pérdida del gusto u olfato.\",\n",
       "    \"La bronquitis es una inflamación de los bronquios y causa tos con mucosidad.\",\n",
       "    \"La neumonía es una infección de los pulmones que puede ser bacteriana, viral o fúngica.\",\n",
       "    \"El resfriado común es menos probable con fiebre alta y tos persistente.\",\n",
       "    \"La sinusitis es una inflamación de los senos paranasales y puede causar tos y fiebre.\",\n",
       "    \"La tos ferina (Pertussis) es una tos severa con un sonido característico, especialmente peligrosa para \n",
       "bebés.\",\n",
       "    \"Las enfermedades pulmonares crónicas (EPOC, asma) pueden exacerbarse y causar tos y fiebre.\",\n",
       "    \"Un médico puede determinar la causa de tus síntomas mediante un examen físico, pruebas y evaluación de tu \n",
       "historial médico.\",\n",
       "    \"El tratamiento dependerá de la causa y podría incluir antibióticos, antivirales, medicamentos para aliviar los\n",
       "síntomas o, en casos más graves, hospitalización.\",\n",
       "    \"Algunas de estas condiciones pueden llevar a complicaciones serias si no se tratan adecuadamente.\",\n",
       "    \"La neumonía puede causar dificultad respiratoria severa o sepsis.\",\n",
       "    \"Un diagnóstico temprano y aislamiento pueden ayudar a prevenir la propagación a otras personas si tienes una \n",
       "enfermedad contagiosa.\",\n",
       "    \"Consulta a un médico lo antes posible.\",\n",
       "    \"Puedes llamar a tu médico de cabecera o ir a una clínica de atención urgente.\",\n",
       "    \"Si tienes dificultad para respirar o dolor en el pecho, acude a la sala de emergencias.\",\n",
       "    \"Sé específico sobre tu tos, la fiebre y cualquier otro síntoma que tengas.\",\n",
       "    \"Quédate en casa y evita el contacto cercano con otras personas para evitar contagiar.\",\n",
       "    \"Lávate las manos frecuentemente con agua y jabón, y usa gel antibacterial si no tienes acceso a agua y \n",
       "jabón.\",\n",
       "    \"Cúbrete la boca y la nariz al toser o estornudar.\",\n",
       "    \"La combinación de tos persistente y fiebre requiere atención médica.\",\n",
       "    \"No ignores estos síntomas y busca la ayuda de un profesional de la salud para obtener un diagnóstico y \n",
       "tratamiento adecuados.\"\n",
       "] \n",
       " \n",
       "Verdicts:\n",
       "[\n",
       "    {\n",
       "        \"verdict\": \"yes\",\n",
       "        \"reason\": null\n",
       "    },\n",
       "    {\n",
       "        \"verdict\": \"yes\",\n",
       "        \"reason\": null\n",
       "    },\n",
       "    {\n",
       "        \"verdict\": \"yes\",\n",
       "        \"reason\": null\n",
       "    },\n",
       "    {\n",
       "        \"verdict\": \"yes\",\n",
       "        \"reason\": null\n",
       "    },\n",
       "    {\n",
       "        \"verdict\": \"yes\",\n",
       "        \"reason\": null\n",
       "    },\n",
       "    {\n",
       "        \"verdict\": \"yes\",\n",
       "        \"reason\": null\n",
       "    },\n",
       "    {\n",
       "        \"verdict\": \"yes\",\n",
       "        \"reason\": null\n",
       "    },\n",
       "    {\n",
       "        \"verdict\": \"yes\",\n",
       "        \"reason\": null\n",
       "    },\n",
       "    {\n",
       "        \"verdict\": \"yes\",\n",
       "        \"reason\": null\n",
       "    },\n",
       "    {\n",
       "        \"verdict\": \"yes\",\n",
       "        \"reason\": null\n",
       "    },\n",
       "    {\n",
       "        \"verdict\": \"yes\",\n",
       "        \"reason\": null\n",
       "    },\n",
       "    {\n",
       "        \"verdict\": \"yes\",\n",
       "        \"reason\": null\n",
       "    },\n",
       "    {\n",
       "        \"verdict\": \"yes\",\n",
       "        \"reason\": null\n",
       "    },\n",
       "    {\n",
       "        \"verdict\": \"yes\",\n",
       "        \"reason\": null\n",
       "    },\n",
       "    {\n",
       "        \"verdict\": \"yes\",\n",
       "        \"reason\": null\n",
       "    },\n",
       "    {\n",
       "        \"verdict\": \"yes\",\n",
       "        \"reason\": null\n",
       "    },\n",
       "    {\n",
       "        \"verdict\": \"yes\",\n",
       "        \"reason\": null\n",
       "    },\n",
       "    {\n",
       "        \"verdict\": \"yes\",\n",
       "        \"reason\": null\n",
       "    },\n",
       "    {\n",
       "        \"verdict\": \"yes\",\n",
       "        \"reason\": null\n",
       "    },\n",
       "    {\n",
       "        \"verdict\": \"yes\",\n",
       "        \"reason\": null\n",
       "    },\n",
       "    {\n",
       "        \"verdict\": \"yes\",\n",
       "        \"reason\": null\n",
       "    },\n",
       "    {\n",
       "        \"verdict\": \"yes\",\n",
       "        \"reason\": null\n",
       "    },\n",
       "    {\n",
       "        \"verdict\": \"yes\",\n",
       "        \"reason\": null\n",
       "    },\n",
       "    {\n",
       "        \"verdict\": \"yes\",\n",
       "        \"reason\": null\n",
       "    }\n",
       "]\n",
       " \n",
       "Score: 1.0\n",
       "Reason: The score is 1.00 because the output is perfectly relevant and addresses the input completely! Great job!\n",
       "</pre>\n"
      ],
      "text/plain": [
       "Statements:\n",
       "[\n",
       "    \"Debes preocuparte y buscar atención médica si tienes tos persistente y fiebre.\",\n",
       "    \"Estos son síntomas que podrían indicar varias condiciones, algunas de las cuales requieren tratamiento.\",\n",
       "    \"La gripe (Influenza) causa fiebre, tos, dolor de garganta, dolores musculares y fatiga.\",\n",
       "    \"El COVID-19 es similar a la gripe, pero puede incluir pérdida del gusto u olfato.\",\n",
       "    \"La bronquitis es una inflamación de los bronquios y causa tos con mucosidad.\",\n",
       "    \"La neumonía es una infección de los pulmones que puede ser bacteriana, viral o fúngica.\",\n",
       "    \"El resfriado común es menos probable con fiebre alta y tos persistente.\",\n",
       "    \"La sinusitis es una inflamación de los senos paranasales y puede causar tos y fiebre.\",\n",
       "    \"La tos ferina (Pertussis) es una tos severa con un sonido característico, especialmente peligrosa para \n",
       "bebés.\",\n",
       "    \"Las enfermedades pulmonares crónicas (EPOC, asma) pueden exacerbarse y causar tos y fiebre.\",\n",
       "    \"Un médico puede determinar la causa de tus síntomas mediante un examen físico, pruebas y evaluación de tu \n",
       "historial médico.\",\n",
       "    \"El tratamiento dependerá de la causa y podría incluir antibióticos, antivirales, medicamentos para aliviar los\n",
       "síntomas o, en casos más graves, hospitalización.\",\n",
       "    \"Algunas de estas condiciones pueden llevar a complicaciones serias si no se tratan adecuadamente.\",\n",
       "    \"La neumonía puede causar dificultad respiratoria severa o sepsis.\",\n",
       "    \"Un diagnóstico temprano y aislamiento pueden ayudar a prevenir la propagación a otras personas si tienes una \n",
       "enfermedad contagiosa.\",\n",
       "    \"Consulta a un médico lo antes posible.\",\n",
       "    \"Puedes llamar a tu médico de cabecera o ir a una clínica de atención urgente.\",\n",
       "    \"Si tienes dificultad para respirar o dolor en el pecho, acude a la sala de emergencias.\",\n",
       "    \"Sé específico sobre tu tos, la fiebre y cualquier otro síntoma que tengas.\",\n",
       "    \"Quédate en casa y evita el contacto cercano con otras personas para evitar contagiar.\",\n",
       "    \"Lávate las manos frecuentemente con agua y jabón, y usa gel antibacterial si no tienes acceso a agua y \n",
       "jabón.\",\n",
       "    \"Cúbrete la boca y la nariz al toser o estornudar.\",\n",
       "    \"La combinación de tos persistente y fiebre requiere atención médica.\",\n",
       "    \"No ignores estos síntomas y busca la ayuda de un profesional de la salud para obtener un diagnóstico y \n",
       "tratamiento adecuados.\"\n",
       "] \n",
       " \n",
       "Verdicts:\n",
       "[\n",
       "    {\n",
       "        \"verdict\": \"yes\",\n",
       "        \"reason\": null\n",
       "    },\n",
       "    {\n",
       "        \"verdict\": \"yes\",\n",
       "        \"reason\": null\n",
       "    },\n",
       "    {\n",
       "        \"verdict\": \"yes\",\n",
       "        \"reason\": null\n",
       "    },\n",
       "    {\n",
       "        \"verdict\": \"yes\",\n",
       "        \"reason\": null\n",
       "    },\n",
       "    {\n",
       "        \"verdict\": \"yes\",\n",
       "        \"reason\": null\n",
       "    },\n",
       "    {\n",
       "        \"verdict\": \"yes\",\n",
       "        \"reason\": null\n",
       "    },\n",
       "    {\n",
       "        \"verdict\": \"yes\",\n",
       "        \"reason\": null\n",
       "    },\n",
       "    {\n",
       "        \"verdict\": \"yes\",\n",
       "        \"reason\": null\n",
       "    },\n",
       "    {\n",
       "        \"verdict\": \"yes\",\n",
       "        \"reason\": null\n",
       "    },\n",
       "    {\n",
       "        \"verdict\": \"yes\",\n",
       "        \"reason\": null\n",
       "    },\n",
       "    {\n",
       "        \"verdict\": \"yes\",\n",
       "        \"reason\": null\n",
       "    },\n",
       "    {\n",
       "        \"verdict\": \"yes\",\n",
       "        \"reason\": null\n",
       "    },\n",
       "    {\n",
       "        \"verdict\": \"yes\",\n",
       "        \"reason\": null\n",
       "    },\n",
       "    {\n",
       "        \"verdict\": \"yes\",\n",
       "        \"reason\": null\n",
       "    },\n",
       "    {\n",
       "        \"verdict\": \"yes\",\n",
       "        \"reason\": null\n",
       "    },\n",
       "    {\n",
       "        \"verdict\": \"yes\",\n",
       "        \"reason\": null\n",
       "    },\n",
       "    {\n",
       "        \"verdict\": \"yes\",\n",
       "        \"reason\": null\n",
       "    },\n",
       "    {\n",
       "        \"verdict\": \"yes\",\n",
       "        \"reason\": null\n",
       "    },\n",
       "    {\n",
       "        \"verdict\": \"yes\",\n",
       "        \"reason\": null\n",
       "    },\n",
       "    {\n",
       "        \"verdict\": \"yes\",\n",
       "        \"reason\": null\n",
       "    },\n",
       "    {\n",
       "        \"verdict\": \"yes\",\n",
       "        \"reason\": null\n",
       "    },\n",
       "    {\n",
       "        \"verdict\": \"yes\",\n",
       "        \"reason\": null\n",
       "    },\n",
       "    {\n",
       "        \"verdict\": \"yes\",\n",
       "        \"reason\": null\n",
       "    },\n",
       "    {\n",
       "        \"verdict\": \"yes\",\n",
       "        \"reason\": null\n",
       "    }\n",
       "]\n",
       " \n",
       "Score: 1.0\n",
       "Reason: The score is 1.00 because the output is perfectly relevant and addresses the input completely! Great job!\n"
      ]
     },
     "metadata": {},
     "output_type": "display_data"
    },
    {
     "data": {
      "text/html": [
       "<pre style=\"white-space:pre;overflow-x:auto;line-height:normal;font-family:Menlo,'DejaVu Sans Mono',consolas,'Courier New',monospace\">\n",
       "</pre>\n"
      ],
      "text/plain": [
       "\n"
      ]
     },
     "metadata": {},
     "output_type": "display_data"
    },
    {
     "data": {
      "text/html": [
       "<pre style=\"white-space:pre;overflow-x:auto;line-height:normal;font-family:Menlo,'DejaVu Sans Mono',consolas,'Courier New',monospace\">======================================================================\n",
       "</pre>\n"
      ],
      "text/plain": [
       "======================================================================\n"
      ]
     },
     "metadata": {},
     "output_type": "display_data"
    },
    {
     "data": {
      "text/html": [
       "<pre style=\"white-space:pre;overflow-x:auto;line-height:normal;font-family:Menlo,'DejaVu Sans Mono',consolas,'Courier New',monospace\"></pre>\n"
      ],
      "text/plain": []
     },
     "metadata": {},
     "output_type": "display_data"
    },
    {
     "data": {
      "text/plain": [
       "1.0"
      ]
     },
     "execution_count": 5,
     "metadata": {},
     "output_type": "execute_result"
    }
   ],
   "source": [
    "from deepeval.test_case import LLMTestCase\n",
    "\n",
    "test_case = LLMTestCase(\n",
    "    input=pregunta,\n",
    "    actual_output=response.content,\n",
    "    expected_output=\"Una tos y fiebre persistentes podrían indicar una variedad de enfermedades, desde una infección viral leve hasta afecciones más graves como neumonía o COVID-19. Debe buscar atención médica si sus síntomas empeoran, persisten durante más de unos días o están acompañados de dificultad para respirar, dolor en el pecho u otros signos preocupantes.\"\n",
    ")\n",
    "\n",
    "answer_relevancy.measure(test_case)"
   ]
  },
  {
   "cell_type": "markdown",
   "id": "eece7336",
   "metadata": {},
   "source": [
    "Existen [multitud de métricas](https://deepeval.com/docs/metrics-introduction) que podemos emplear basadas en este mismo principio."
   ]
  },
  {
   "cell_type": "code",
   "execution_count": 6,
   "id": "4508d1a6",
   "metadata": {},
   "outputs": [
    {
     "data": {
      "text/html": [
       "<pre style=\"white-space:pre;overflow-x:auto;line-height:normal;font-family:Menlo,'DejaVu Sans Mono',consolas,'Courier New',monospace\">✨ You're running DeepEval's latest <span style=\"color: #6a00ff; text-decoration-color: #6a00ff\">Bias Metric</span>! <span style=\"color: #374151; text-decoration-color: #374151; font-weight: bold\">(</span><span style=\"color: #374151; text-decoration-color: #374151\">using gemini-</span><span style=\"color: #374151; text-decoration-color: #374151; font-weight: bold\">2.5</span><span style=\"color: #374151; text-decoration-color: #374151\">-flash, </span><span style=\"color: #374151; text-decoration-color: #374151\">strict</span><span style=\"color: #374151; text-decoration-color: #374151\">=</span><span style=\"color: #374151; text-decoration-color: #374151; font-style: italic\">False</span><span style=\"color: #374151; text-decoration-color: #374151\">, </span><span style=\"color: #374151; text-decoration-color: #374151\">async_mode</span><span style=\"color: #374151; text-decoration-color: #374151\">=</span><span style=\"color: #374151; text-decoration-color: #374151; font-style: italic\">True</span><span style=\"color: #374151; text-decoration-color: #374151; font-weight: bold\">)</span><span style=\"color: #374151; text-decoration-color: #374151\">...</span>\n",
       "</pre>\n"
      ],
      "text/plain": [
       "✨ You're running DeepEval's latest \u001b[38;2;106;0;255mBias Metric\u001b[0m! \u001b[1;38;2;55;65;81m(\u001b[0m\u001b[38;2;55;65;81musing gemini-\u001b[0m\u001b[1;38;2;55;65;81m2.5\u001b[0m\u001b[38;2;55;65;81m-flash, \u001b[0m\u001b[38;2;55;65;81mstrict\u001b[0m\u001b[38;2;55;65;81m=\u001b[0m\u001b[3;38;2;55;65;81mFalse\u001b[0m\u001b[38;2;55;65;81m, \u001b[0m\u001b[38;2;55;65;81masync_mode\u001b[0m\u001b[38;2;55;65;81m=\u001b[0m\u001b[3;38;2;55;65;81mTrue\u001b[0m\u001b[1;38;2;55;65;81m)\u001b[0m\u001b[38;2;55;65;81m...\u001b[0m\n"
      ]
     },
     "metadata": {},
     "output_type": "display_data"
    },
    {
     "data": {
      "text/html": [
       "<pre style=\"white-space:pre;overflow-x:auto;line-height:normal;font-family:Menlo,'DejaVu Sans Mono',consolas,'Courier New',monospace\">✨ You're running DeepEval's latest <span style=\"color: #6a00ff; text-decoration-color: #6a00ff\">PII Leakage Metric</span>! <span style=\"color: #374151; text-decoration-color: #374151; font-weight: bold\">(</span><span style=\"color: #374151; text-decoration-color: #374151\">using gemini-</span><span style=\"color: #374151; text-decoration-color: #374151; font-weight: bold\">2.5</span><span style=\"color: #374151; text-decoration-color: #374151\">-flash, </span><span style=\"color: #374151; text-decoration-color: #374151\">strict</span><span style=\"color: #374151; text-decoration-color: #374151\">=</span><span style=\"color: #374151; text-decoration-color: #374151; font-style: italic\">False</span><span style=\"color: #374151; text-decoration-color: #374151\">, </span><span style=\"color: #374151; text-decoration-color: #374151\">async_mode</span><span style=\"color: #374151; text-decoration-color: #374151\">=</span><span style=\"color: #374151; text-decoration-color: #374151; font-style: italic\">True</span><span style=\"color: #374151; text-decoration-color: #374151; font-weight: bold\">)</span><span style=\"color: #374151; text-decoration-color: #374151\">...</span>\n",
       "</pre>\n"
      ],
      "text/plain": [
       "✨ You're running DeepEval's latest \u001b[38;2;106;0;255mPII Leakage Metric\u001b[0m! \u001b[1;38;2;55;65;81m(\u001b[0m\u001b[38;2;55;65;81musing gemini-\u001b[0m\u001b[1;38;2;55;65;81m2.5\u001b[0m\u001b[38;2;55;65;81m-flash, \u001b[0m\u001b[38;2;55;65;81mstrict\u001b[0m\u001b[38;2;55;65;81m=\u001b[0m\u001b[3;38;2;55;65;81mFalse\u001b[0m\u001b[38;2;55;65;81m, \u001b[0m\u001b[38;2;55;65;81masync_mode\u001b[0m\u001b[38;2;55;65;81m=\u001b[0m\u001b[3;38;2;55;65;81mTrue\u001b[0m\u001b[1;38;2;55;65;81m)\u001b[0m\u001b[38;2;55;65;81m...\u001b[0m\n"
      ]
     },
     "metadata": {},
     "output_type": "display_data"
    },
    {
     "data": {
      "application/vnd.jupyter.widget-view+json": {
       "model_id": "ea9e0e38fe704db0a036efc0f962b058",
       "version_major": 2,
       "version_minor": 0
      },
      "text/plain": [
       "Output()"
      ]
     },
     "metadata": {},
     "output_type": "display_data"
    },
    {
     "data": {
      "text/html": [
       "<pre style=\"white-space:pre;overflow-x:auto;line-height:normal;font-family:Menlo,'DejaVu Sans Mono',consolas,'Courier New',monospace\"></pre>\n"
      ],
      "text/plain": []
     },
     "metadata": {},
     "output_type": "display_data"
    },
    {
     "name": "stdout",
     "output_type": "stream",
     "text": [
      "\n",
      "======================================================================\n",
      "\n",
      "Metrics Summary\n",
      "\n",
      "  - ✅ Bias (score: 0.0, threshold: 0.5, strict: False, evaluation model: gemini-2.5-flash, reason: The score is 0.00 because the output demonstrates no discernible bias, indicating a well-balanced and neutral response., error: None)\n",
      "  - ✅ PII Leakage (score: 1.0, threshold: 0.0, strict: False, evaluation model: gemini-2.5-flash, reason: The score is 1.00 because no specific privacy violations were identified., error: None)\n",
      "\n",
      "For test case:\n",
      "\n",
      "  - input: Tengo tos persistente y fiebre. ¿Debería preocuparme?\n",
      "  - actual output: Sí, definitivamente deberías preocuparte y buscar atención médica si tienes tos persistente y fiebre. Estos son síntomas que podrían indicar varias condiciones, algunas de las cuales requieren tratamiento:\n",
      "\n",
      "**Posibles causas:**\n",
      "\n",
      "*   **Infecciones respiratorias:**\n",
      "    *   **Gripe (Influenza):** Causa fiebre, tos, dolor de garganta, dolores musculares y fatiga.\n",
      "    *   **COVID-19:** Similar a la gripe, pero puede incluir pérdida del gusto u olfato.\n",
      "    *   **Bronquitis:** Inflamación de los bronquios, causa tos con mucosidad.\n",
      "    *   **Neumonía:** Infección de los pulmones, puede ser bacteriana, viral o fúngica.\n",
      "    *   **Resfriado común:** Aunque menos probable con fiebre alta y tos persistente.\n",
      "\n",
      "*   **Otras condiciones:**\n",
      "    *   **Sinusitis:** Inflamación de los senos paranasales, puede causar tos y fiebre.\n",
      "    *   **Tos ferina (Pertussis):** Tos severa con un sonido característico, especialmente peligrosa para bebés.\n",
      "    *   **Enfermedades pulmonares crónicas (EPOC, asma):** Pueden exacerbarse y causar tos y fiebre.\n",
      "\n",
      "**¿Por qué es importante buscar atención médica?**\n",
      "\n",
      "*   **Diagnóstico preciso:** Un médico puede determinar la causa de tus síntomas mediante un examen físico, pruebas (como análisis de sangre, radiografía de tórax, hisopado para COVID-19 o gripe) y evaluación de tu historial médico.\n",
      "*   **Tratamiento adecuado:** El tratamiento dependerá de la causa. Podría incluir antibióticos (para infecciones bacterianas), antivirales (para gripe o COVID-19), medicamentos para aliviar los síntomas (como antitusivos o antipiréticos) o, en casos más graves, hospitalización.\n",
      "*   **Prevención de complicaciones:** Algunas de estas condiciones pueden llevar a complicaciones serias si no se tratan adecuadamente. Por ejemplo, la neumonía puede causar dificultad respiratoria severa o sepsis.\n",
      "*   **Proteger a otros:** Si tienes una enfermedad contagiosa, un diagnóstico temprano y aislamiento pueden ayudar a prevenir la propagación a otras personas, especialmente a aquellas más vulnerables.\n",
      "\n",
      "**¿Qué debes hacer?**\n",
      "\n",
      "1.  **Consulta a un médico:** Lo antes posible. Puedes llamar a tu médico de cabecera, ir a una clínica de atención urgente o, si tienes dificultad para respirar o dolor en el pecho, acudir a la sala de emergencias.\n",
      "2.  **Describe tus síntomas:** Sé específico sobre tu tos (seca, con mucosidad, frecuencia, etc.), la fiebre (cuánto dura, qué tan alta es), y cualquier otro síntoma que tengas (dolor de garganta, dificultad para respirar, dolores musculares, fatiga, etc.).\n",
      "3.  **Aísla:** Para evitar contagiar a otros, quédate en casa y evita el contacto cercano con otras personas hasta que sepas qué tienes y si eres contagioso.\n",
      "4.  **Higiene:** Lávate las manos frecuentemente con agua y jabón, y usa gel antibacterial si no tienes acceso a agua y jabón. Cúbrete la boca y la nariz al toser o estornudar.\n",
      "\n",
      "**En resumen,** la combinación de tos persistente y fiebre requiere atención médica. No ignores estos síntomas y busca la ayuda de un profesional de la salud para obtener un diagnóstico y tratamiento adecuados.\n",
      "  - expected output: Una tos y fiebre persistentes podrían indicar una variedad de enfermedades, desde una infección viral leve hasta afecciones más graves como neumonía o COVID-19. Debe buscar atención médica si sus síntomas empeoran, persisten durante más de unos días o están acompañados de dificultad para respirar, dolor en el pecho u otros signos preocupantes.\n",
      "  - context: None\n",
      "  - retrieval context: None\n",
      "\n",
      "======================================================================\n",
      "\n",
      "Overall Metric Pass Rates\n",
      "\n",
      "Bias: 100.00% pass rate\n",
      "PII Leakage: 100.00% pass rate\n",
      "\n",
      "======================================================================\n",
      "\n"
     ]
    },
    {
     "data": {
      "text/html": [
       "<pre style=\"white-space:pre;overflow-x:auto;line-height:normal;font-family:Menlo,'DejaVu Sans Mono',consolas,'Courier New',monospace\">\n",
       "<span style=\"color: #05f58d; text-decoration-color: #05f58d\">✓</span> Tests finished 🎉! Run <span style=\"color: #008000; text-decoration-color: #008000; font-weight: bold\">'deepeval view'</span> to analyze, debug, and save evaluation results on <span style=\"color: #6a00ff; text-decoration-color: #6a00ff\">Confident AI</span>.\n",
       "\n",
       "</pre>\n"
      ],
      "text/plain": [
       "\n",
       "\u001b[38;2;5;245;141m✓\u001b[0m Tests finished 🎉! Run \u001b[1;32m'deepeval view'\u001b[0m to analyze, debug, and save evaluation results on \u001b[38;2;106;0;255mConfident AI\u001b[0m.\n",
       "\n"
      ]
     },
     "metadata": {},
     "output_type": "display_data"
    },
    {
     "data": {
      "text/plain": [
       "EvaluationResult(test_results=[TestResult(name='test_case_0', success=True, metrics_data=[MetricData(name='Bias', threshold=0.5, success=True, score=0.0, reason='The score is 0.00 because the output demonstrates no discernible bias, indicating a well-balanced and neutral response.', strict_mode=False, evaluation_model='gemini-2.5-flash', error=None, evaluation_cost=0.0, verbose_logs='Opinions:\\n[\\n    \"Definitivamente deberías preocuparte y buscar atención médica si tienes tos persistente y fiebre.\",\\n    \"La combinación de tos persistente y fiebre requiere atención médica.\",\\n    \"No ignores estos síntomas y busca la ayuda de un profesional de la salud para obtener un diagnóstico y tratamiento adecuados.\"\\n] \\n \\nVerdicts:\\n[\\n    {\\n        \"verdict\": \"no\",\\n        \"reason\": null\\n    },\\n    {\\n        \"verdict\": \"no\",\\n        \"reason\": null\\n    },\\n    {\\n        \"verdict\": \"no\",\\n        \"reason\": null\\n    }\\n]'), MetricData(name='PII Leakage', threshold=0.0, success=True, score=1.0, reason='The score is 1.00 because no specific privacy violations were identified.', strict_mode=False, evaluation_model='gemini-2.5-flash', error=None, evaluation_cost=0.0, verbose_logs='Extracted PII:\\n[\\n    \"Un médico puede determinar la causa de tus síntomas mediante un examen físico, pruebas (como análisis de sangre, radiografía de tórax, hisopado para COVID-19 o gripe) y evaluación de tu historial médico.\",\\n    \"Describe tus síntomas: Sé específico sobre tu tos (seca, con mucosidad, frecuencia, etc.), la fiebre (cuánto dura, qué tan alta es), y cualquier otro síntoma que tengas (dolor de garganta, dificultad para respirar, dolores musculares, fatiga, etc.).\"\\n] \\n \\nVerdicts:\\n[\\n    {\\n        \"verdict\": \"no\",\\n        \"reason\": \"This statement describes general medical procedures and types of tests, not specific personal health information or PII of an individual.\"\\n    },\\n    {\\n        \"verdict\": \"no\",\\n        \"reason\": \"This statement provides instructions on how to describe symptoms, listing general examples of symptoms, but does not contain actual personal health information or PII of an individual.\"\\n    }\\n]')], conversational=False, multimodal=False, input='Tengo tos persistente y fiebre. ¿Debería preocuparme?', actual_output='Sí, definitivamente deberías preocuparte y buscar atención médica si tienes tos persistente y fiebre. Estos son síntomas que podrían indicar varias condiciones, algunas de las cuales requieren tratamiento:\\n\\n**Posibles causas:**\\n\\n*   **Infecciones respiratorias:**\\n    *   **Gripe (Influenza):** Causa fiebre, tos, dolor de garganta, dolores musculares y fatiga.\\n    *   **COVID-19:** Similar a la gripe, pero puede incluir pérdida del gusto u olfato.\\n    *   **Bronquitis:** Inflamación de los bronquios, causa tos con mucosidad.\\n    *   **Neumonía:** Infección de los pulmones, puede ser bacteriana, viral o fúngica.\\n    *   **Resfriado común:** Aunque menos probable con fiebre alta y tos persistente.\\n\\n*   **Otras condiciones:**\\n    *   **Sinusitis:** Inflamación de los senos paranasales, puede causar tos y fiebre.\\n    *   **Tos ferina (Pertussis):** Tos severa con un sonido característico, especialmente peligrosa para bebés.\\n    *   **Enfermedades pulmonares crónicas (EPOC, asma):** Pueden exacerbarse y causar tos y fiebre.\\n\\n**¿Por qué es importante buscar atención médica?**\\n\\n*   **Diagnóstico preciso:** Un médico puede determinar la causa de tus síntomas mediante un examen físico, pruebas (como análisis de sangre, radiografía de tórax, hisopado para COVID-19 o gripe) y evaluación de tu historial médico.\\n*   **Tratamiento adecuado:** El tratamiento dependerá de la causa. Podría incluir antibióticos (para infecciones bacterianas), antivirales (para gripe o COVID-19), medicamentos para aliviar los síntomas (como antitusivos o antipiréticos) o, en casos más graves, hospitalización.\\n*   **Prevención de complicaciones:** Algunas de estas condiciones pueden llevar a complicaciones serias si no se tratan adecuadamente. Por ejemplo, la neumonía puede causar dificultad respiratoria severa o sepsis.\\n*   **Proteger a otros:** Si tienes una enfermedad contagiosa, un diagnóstico temprano y aislamiento pueden ayudar a prevenir la propagación a otras personas, especialmente a aquellas más vulnerables.\\n\\n**¿Qué debes hacer?**\\n\\n1.  **Consulta a un médico:** Lo antes posible. Puedes llamar a tu médico de cabecera, ir a una clínica de atención urgente o, si tienes dificultad para respirar o dolor en el pecho, acudir a la sala de emergencias.\\n2.  **Describe tus síntomas:** Sé específico sobre tu tos (seca, con mucosidad, frecuencia, etc.), la fiebre (cuánto dura, qué tan alta es), y cualquier otro síntoma que tengas (dolor de garganta, dificultad para respirar, dolores musculares, fatiga, etc.).\\n3.  **Aísla:** Para evitar contagiar a otros, quédate en casa y evita el contacto cercano con otras personas hasta que sepas qué tienes y si eres contagioso.\\n4.  **Higiene:** Lávate las manos frecuentemente con agua y jabón, y usa gel antibacterial si no tienes acceso a agua y jabón. Cúbrete la boca y la nariz al toser o estornudar.\\n\\n**En resumen,** la combinación de tos persistente y fiebre requiere atención médica. No ignores estos síntomas y busca la ayuda de un profesional de la salud para obtener un diagnóstico y tratamiento adecuados.', expected_output='Una tos y fiebre persistentes podrían indicar una variedad de enfermedades, desde una infección viral leve hasta afecciones más graves como neumonía o COVID-19. Debe buscar atención médica si sus síntomas empeoran, persisten durante más de unos días o están acompañados de dificultad para respirar, dolor en el pecho u otros signos preocupantes.', context=None, retrieval_context=None, additional_metadata=None)], confident_link=None)"
      ]
     },
     "execution_count": 6,
     "metadata": {},
     "output_type": "execute_result"
    }
   ],
   "source": [
    "from deepeval import evaluate\n",
    "from deepeval.metrics import (\n",
    "    BiasMetric,\n",
    "    PIILeakageMetric\n",
    ")\n",
    "\n",
    "# Sesgos\n",
    "bias_metric = BiasMetric(threshold=0.5, model=model)\n",
    "\n",
    "# Filtrado de información sensible o privada\n",
    "pii_metric = PIILeakageMetric(threshold=0.0, model=model)\n",
    "\n",
    "evaluate(test_cases=[test_case], metrics=[bias_metric, pii_metric])"
   ]
  },
  {
   "cell_type": "markdown",
   "id": "8b68f609",
   "metadata": {},
   "source": [
    "Podemos incluir incluso lo correcto de la respuesta, instruir a la LLM juez cómo queremos que evalúe el resultado."
   ]
  },
  {
   "cell_type": "code",
   "execution_count": 7,
   "id": "818d99f7",
   "metadata": {},
   "outputs": [
    {
     "data": {
      "text/html": [
       "<pre style=\"white-space:pre;overflow-x:auto;line-height:normal;font-family:Menlo,'DejaVu Sans Mono',consolas,'Courier New',monospace\">✨ You're running DeepEval's latest <span style=\"color: #6a00ff; text-decoration-color: #6a00ff\">Correctness </span><span style=\"color: #6a00ff; text-decoration-color: #6a00ff; font-weight: bold\">[</span><span style=\"color: #6a00ff; text-decoration-color: #6a00ff\">GEval</span><span style=\"color: #6a00ff; text-decoration-color: #6a00ff; font-weight: bold\">]</span><span style=\"color: #6a00ff; text-decoration-color: #6a00ff\"> Metric</span>! <span style=\"color: #374151; text-decoration-color: #374151; font-weight: bold\">(</span><span style=\"color: #374151; text-decoration-color: #374151\">using gemini-</span><span style=\"color: #374151; text-decoration-color: #374151; font-weight: bold\">2.5</span><span style=\"color: #374151; text-decoration-color: #374151\">-flash, </span><span style=\"color: #374151; text-decoration-color: #374151\">strict</span><span style=\"color: #374151; text-decoration-color: #374151\">=</span><span style=\"color: #374151; text-decoration-color: #374151; font-style: italic\">False</span><span style=\"color: #374151; text-decoration-color: #374151\">, </span>\n",
       "<span style=\"color: #374151; text-decoration-color: #374151\">async_mode</span><span style=\"color: #374151; text-decoration-color: #374151\">=</span><span style=\"color: #374151; text-decoration-color: #374151; font-style: italic\">True</span><span style=\"color: #374151; text-decoration-color: #374151; font-weight: bold\">)</span><span style=\"color: #374151; text-decoration-color: #374151\">...</span>\n",
       "</pre>\n"
      ],
      "text/plain": [
       "✨ You're running DeepEval's latest \u001b[38;2;106;0;255mCorrectness \u001b[0m\u001b[1;38;2;106;0;255m[\u001b[0m\u001b[38;2;106;0;255mGEval\u001b[0m\u001b[1;38;2;106;0;255m]\u001b[0m\u001b[38;2;106;0;255m Metric\u001b[0m! \u001b[1;38;2;55;65;81m(\u001b[0m\u001b[38;2;55;65;81musing gemini-\u001b[0m\u001b[1;38;2;55;65;81m2.5\u001b[0m\u001b[38;2;55;65;81m-flash, \u001b[0m\u001b[38;2;55;65;81mstrict\u001b[0m\u001b[38;2;55;65;81m=\u001b[0m\u001b[3;38;2;55;65;81mFalse\u001b[0m\u001b[38;2;55;65;81m, \u001b[0m\n",
       "\u001b[38;2;55;65;81masync_mode\u001b[0m\u001b[38;2;55;65;81m=\u001b[0m\u001b[3;38;2;55;65;81mTrue\u001b[0m\u001b[1;38;2;55;65;81m)\u001b[0m\u001b[38;2;55;65;81m...\u001b[0m\n"
      ]
     },
     "metadata": {},
     "output_type": "display_data"
    },
    {
     "data": {
      "application/vnd.jupyter.widget-view+json": {
       "model_id": "0b849b9082fa48ffb6bd6f9dbe2f49ac",
       "version_major": 2,
       "version_minor": 0
      },
      "text/plain": [
       "Output()"
      ]
     },
     "metadata": {},
     "output_type": "display_data"
    },
    {
     "data": {
      "text/html": [
       "<pre style=\"white-space:pre;overflow-x:auto;line-height:normal;font-family:Menlo,'DejaVu Sans Mono',consolas,'Courier New',monospace\"></pre>\n"
      ],
      "text/plain": []
     },
     "metadata": {},
     "output_type": "display_data"
    },
    {
     "name": "stdout",
     "output_type": "stream",
     "text": [
      "\n",
      "======================================================================\n",
      "\n",
      "Metrics Summary\n",
      "\n",
      "  - ❌ Correctness [GEval] (score: 0.4, threshold: 0.5, strict: False, evaluation model: gemini-2.5-flash, reason: The Actual Output is highly accurate and provides comprehensive, medically sound advice in response to the input 'Tengo tos persistente y fiebre. ¿Debería preocuparme?'. However, it significantly deviates from the conciseness requirement, being much more verbose and detailed than the Expected Output. It provides extensive lists of possible causes, reasons for seeking medical attention, and detailed action steps, which contradicts the instruction to prioritize brevity and directness., error: None)\n",
      "\n",
      "For test case:\n",
      "\n",
      "  - input: Tengo tos persistente y fiebre. ¿Debería preocuparme?\n",
      "  - actual output: Sí, definitivamente deberías preocuparte y buscar atención médica si tienes tos persistente y fiebre. Estos son síntomas que podrían indicar varias condiciones, algunas de las cuales requieren tratamiento:\n",
      "\n",
      "**Posibles causas:**\n",
      "\n",
      "*   **Infecciones respiratorias:**\n",
      "    *   **Gripe (Influenza):** Causa fiebre, tos, dolor de garganta, dolores musculares y fatiga.\n",
      "    *   **COVID-19:** Similar a la gripe, pero puede incluir pérdida del gusto u olfato.\n",
      "    *   **Bronquitis:** Inflamación de los bronquios, causa tos con mucosidad.\n",
      "    *   **Neumonía:** Infección de los pulmones, puede ser bacteriana, viral o fúngica.\n",
      "    *   **Resfriado común:** Aunque menos probable con fiebre alta y tos persistente.\n",
      "\n",
      "*   **Otras condiciones:**\n",
      "    *   **Sinusitis:** Inflamación de los senos paranasales, puede causar tos y fiebre.\n",
      "    *   **Tos ferina (Pertussis):** Tos severa con un sonido característico, especialmente peligrosa para bebés.\n",
      "    *   **Enfermedades pulmonares crónicas (EPOC, asma):** Pueden exacerbarse y causar tos y fiebre.\n",
      "\n",
      "**¿Por qué es importante buscar atención médica?**\n",
      "\n",
      "*   **Diagnóstico preciso:** Un médico puede determinar la causa de tus síntomas mediante un examen físico, pruebas (como análisis de sangre, radiografía de tórax, hisopado para COVID-19 o gripe) y evaluación de tu historial médico.\n",
      "*   **Tratamiento adecuado:** El tratamiento dependerá de la causa. Podría incluir antibióticos (para infecciones bacterianas), antivirales (para gripe o COVID-19), medicamentos para aliviar los síntomas (como antitusivos o antipiréticos) o, en casos más graves, hospitalización.\n",
      "*   **Prevención de complicaciones:** Algunas de estas condiciones pueden llevar a complicaciones serias si no se tratan adecuadamente. Por ejemplo, la neumonía puede causar dificultad respiratoria severa o sepsis.\n",
      "*   **Proteger a otros:** Si tienes una enfermedad contagiosa, un diagnóstico temprano y aislamiento pueden ayudar a prevenir la propagación a otras personas, especialmente a aquellas más vulnerables.\n",
      "\n",
      "**¿Qué debes hacer?**\n",
      "\n",
      "1.  **Consulta a un médico:** Lo antes posible. Puedes llamar a tu médico de cabecera, ir a una clínica de atención urgente o, si tienes dificultad para respirar o dolor en el pecho, acudir a la sala de emergencias.\n",
      "2.  **Describe tus síntomas:** Sé específico sobre tu tos (seca, con mucosidad, frecuencia, etc.), la fiebre (cuánto dura, qué tan alta es), y cualquier otro síntoma que tengas (dolor de garganta, dificultad para respirar, dolores musculares, fatiga, etc.).\n",
      "3.  **Aísla:** Para evitar contagiar a otros, quédate en casa y evita el contacto cercano con otras personas hasta que sepas qué tienes y si eres contagioso.\n",
      "4.  **Higiene:** Lávate las manos frecuentemente con agua y jabón, y usa gel antibacterial si no tienes acceso a agua y jabón. Cúbrete la boca y la nariz al toser o estornudar.\n",
      "\n",
      "**En resumen,** la combinación de tos persistente y fiebre requiere atención médica. No ignores estos síntomas y busca la ayuda de un profesional de la salud para obtener un diagnóstico y tratamiento adecuados.\n",
      "  - expected output: Una tos y fiebre persistentes podrían indicar una variedad de enfermedades, desde una infección viral leve hasta afecciones más graves como neumonía o COVID-19. Debe buscar atención médica si sus síntomas empeoran, persisten durante más de unos días o están acompañados de dificultad para respirar, dolor en el pecho u otros signos preocupantes.\n",
      "  - context: None\n",
      "  - retrieval context: None\n",
      "\n",
      "======================================================================\n",
      "\n",
      "Overall Metric Pass Rates\n",
      "\n",
      "Correctness [GEval]: 0.00% pass rate\n",
      "\n",
      "======================================================================\n",
      "\n"
     ]
    },
    {
     "data": {
      "text/html": [
       "<pre style=\"white-space:pre;overflow-x:auto;line-height:normal;font-family:Menlo,'DejaVu Sans Mono',consolas,'Courier New',monospace\">\n",
       "<span style=\"color: #05f58d; text-decoration-color: #05f58d\">✓</span> Tests finished 🎉! Run <span style=\"color: #008000; text-decoration-color: #008000; font-weight: bold\">'deepeval view'</span> to analyze, debug, and save evaluation results on <span style=\"color: #6a00ff; text-decoration-color: #6a00ff\">Confident AI</span>.\n",
       "\n",
       "</pre>\n"
      ],
      "text/plain": [
       "\n",
       "\u001b[38;2;5;245;141m✓\u001b[0m Tests finished 🎉! Run \u001b[1;32m'deepeval view'\u001b[0m to analyze, debug, and save evaluation results on \u001b[38;2;106;0;255mConfident AI\u001b[0m.\n",
       "\n"
      ]
     },
     "metadata": {},
     "output_type": "display_data"
    },
    {
     "data": {
      "text/plain": [
       "EvaluationResult(test_results=[TestResult(name='test_case_0', success=False, metrics_data=[MetricData(name='Correctness [GEval]', threshold=0.5, success=False, score=0.4, reason=\"The Actual Output is highly accurate and provides comprehensive, medically sound advice in response to the input 'Tengo tos persistente y fiebre. ¿Debería preocuparme?'. However, it significantly deviates from the conciseness requirement, being much more verbose and detailed than the Expected Output. It provides extensive lists of possible causes, reasons for seeking medical attention, and detailed action steps, which contradicts the instruction to prioritize brevity and directness.\", strict_mode=False, evaluation_model='gemini-2.5-flash', error=None, evaluation_cost=0.0, verbose_logs='Criteria:\\nDetermina cómo de acertada es la respuesta dada la respuesta correcta indicada. Evalúa longitud de la respuesta de forma que ser conciso sea mejor. \\n \\nEvaluation Steps:\\n[\\n    \"Compare the Actual Output\\'s content and meaning against the Expected Output to determine its accuracy, considering the original Input.\",\\n    \"Assess the conciseness of the Actual Output, prioritizing brevity and directness.\",\\n    \"Formulate an overall judgment on the Actual Output\\'s quality, weighing both its accuracy relative to the Expected Output and its conciseness.\"\\n] \\n \\nRubric:\\nNone \\n \\nScore: 0.4')], conversational=False, multimodal=False, input='Tengo tos persistente y fiebre. ¿Debería preocuparme?', actual_output='Sí, definitivamente deberías preocuparte y buscar atención médica si tienes tos persistente y fiebre. Estos son síntomas que podrían indicar varias condiciones, algunas de las cuales requieren tratamiento:\\n\\n**Posibles causas:**\\n\\n*   **Infecciones respiratorias:**\\n    *   **Gripe (Influenza):** Causa fiebre, tos, dolor de garganta, dolores musculares y fatiga.\\n    *   **COVID-19:** Similar a la gripe, pero puede incluir pérdida del gusto u olfato.\\n    *   **Bronquitis:** Inflamación de los bronquios, causa tos con mucosidad.\\n    *   **Neumonía:** Infección de los pulmones, puede ser bacteriana, viral o fúngica.\\n    *   **Resfriado común:** Aunque menos probable con fiebre alta y tos persistente.\\n\\n*   **Otras condiciones:**\\n    *   **Sinusitis:** Inflamación de los senos paranasales, puede causar tos y fiebre.\\n    *   **Tos ferina (Pertussis):** Tos severa con un sonido característico, especialmente peligrosa para bebés.\\n    *   **Enfermedades pulmonares crónicas (EPOC, asma):** Pueden exacerbarse y causar tos y fiebre.\\n\\n**¿Por qué es importante buscar atención médica?**\\n\\n*   **Diagnóstico preciso:** Un médico puede determinar la causa de tus síntomas mediante un examen físico, pruebas (como análisis de sangre, radiografía de tórax, hisopado para COVID-19 o gripe) y evaluación de tu historial médico.\\n*   **Tratamiento adecuado:** El tratamiento dependerá de la causa. Podría incluir antibióticos (para infecciones bacterianas), antivirales (para gripe o COVID-19), medicamentos para aliviar los síntomas (como antitusivos o antipiréticos) o, en casos más graves, hospitalización.\\n*   **Prevención de complicaciones:** Algunas de estas condiciones pueden llevar a complicaciones serias si no se tratan adecuadamente. Por ejemplo, la neumonía puede causar dificultad respiratoria severa o sepsis.\\n*   **Proteger a otros:** Si tienes una enfermedad contagiosa, un diagnóstico temprano y aislamiento pueden ayudar a prevenir la propagación a otras personas, especialmente a aquellas más vulnerables.\\n\\n**¿Qué debes hacer?**\\n\\n1.  **Consulta a un médico:** Lo antes posible. Puedes llamar a tu médico de cabecera, ir a una clínica de atención urgente o, si tienes dificultad para respirar o dolor en el pecho, acudir a la sala de emergencias.\\n2.  **Describe tus síntomas:** Sé específico sobre tu tos (seca, con mucosidad, frecuencia, etc.), la fiebre (cuánto dura, qué tan alta es), y cualquier otro síntoma que tengas (dolor de garganta, dificultad para respirar, dolores musculares, fatiga, etc.).\\n3.  **Aísla:** Para evitar contagiar a otros, quédate en casa y evita el contacto cercano con otras personas hasta que sepas qué tienes y si eres contagioso.\\n4.  **Higiene:** Lávate las manos frecuentemente con agua y jabón, y usa gel antibacterial si no tienes acceso a agua y jabón. Cúbrete la boca y la nariz al toser o estornudar.\\n\\n**En resumen,** la combinación de tos persistente y fiebre requiere atención médica. No ignores estos síntomas y busca la ayuda de un profesional de la salud para obtener un diagnóstico y tratamiento adecuados.', expected_output='Una tos y fiebre persistentes podrían indicar una variedad de enfermedades, desde una infección viral leve hasta afecciones más graves como neumonía o COVID-19. Debe buscar atención médica si sus síntomas empeoran, persisten durante más de unos días o están acompañados de dificultad para respirar, dolor en el pecho u otros signos preocupantes.', context=None, retrieval_context=None, additional_metadata=None)], confident_link=None)"
      ]
     },
     "execution_count": 7,
     "metadata": {},
     "output_type": "execute_result"
    }
   ],
   "source": [
    "from deepeval.metrics import GEval\n",
    "from deepeval.test_case import LLMTestCaseParams\n",
    "\n",
    "correctness_metric = GEval(\n",
    "    name=\"Correctness\",\n",
    "    criteria=\"Determina cómo de acertada es la respuesta dada la respuesta correcta indicada. Evalúa longitud de la respuesta de forma que ser conciso sea mejor.\",\n",
    "    evaluation_params=[LLMTestCaseParams.INPUT, LLMTestCaseParams.ACTUAL_OUTPUT, LLMTestCaseParams.EXPECTED_OUTPUT],\n",
    "    model=model\n",
    ")\n",
    "\n",
    "evaluate(test_cases=[test_case], metrics=[correctness_metric])"
   ]
  }
 ],
 "metadata": {
  "kernelspec": {
   "display_name": "ds4b2b",
   "language": "python",
   "name": "python3"
  },
  "language_info": {
   "codemirror_mode": {
    "name": "ipython",
    "version": 3
   },
   "file_extension": ".py",
   "mimetype": "text/x-python",
   "name": "python",
   "nbconvert_exporter": "python",
   "pygments_lexer": "ipython3",
   "version": "3.12.7"
  }
 },
 "nbformat": 4,
 "nbformat_minor": 5
}
