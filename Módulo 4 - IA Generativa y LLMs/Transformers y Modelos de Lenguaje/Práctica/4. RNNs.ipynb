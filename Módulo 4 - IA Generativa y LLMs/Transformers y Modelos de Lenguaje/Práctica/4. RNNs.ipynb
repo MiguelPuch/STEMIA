{
 "cells": [
  {
   "cell_type": "markdown",
   "id": "1400af72",
   "metadata": {},
   "source": [
    "# 4. RNNs"
   ]
  },
  {
   "cell_type": "markdown",
   "id": "1b8b3e94",
   "metadata": {},
   "source": [
    "https://colab.research.google.com/github/juansensio/blog/blob/master/034_rnn_intro/rnn_intro.ipynb"
   ]
  }
 ],
 "metadata": {
  "language_info": {
   "name": "python"
  }
 },
 "nbformat": 4,
 "nbformat_minor": 5
}
