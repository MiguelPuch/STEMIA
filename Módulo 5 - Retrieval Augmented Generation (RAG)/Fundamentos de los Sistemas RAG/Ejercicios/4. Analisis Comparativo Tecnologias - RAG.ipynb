{
 "cells": [
  {
   "cell_type": "markdown",
   "id": "e36181dd",
   "metadata": {},
   "source": [
    "# Práctica: Análisis comparativo de tecnologías usando RAG"
   ]
  },
  {
   "cell_type": "markdown",
   "id": "fab33db5",
   "metadata": {},
   "source": [
    "Objetivo de la práctica\n",
    "\n",
    "Cargar varios archivos de documentos de diferentes fuentes (por ejemplo, artículos científicos, noticias, informes técnicos) y generar embeddings para cada uno.\n",
    "\n",
    "Implementar un retriever que busque documentos relevantes según consultas comparativas o de análisis.\n",
    "\n",
    "Implementar un generator que combine los documentos recuperados y genere un resumen que permita comparar o evaluar la información.\n",
    "\n",
    "Probar el sistema con preguntas de análisis crítico y comparativo."
   ]
  },
  {
   "cell_type": "markdown",
   "id": "15e2323f",
   "metadata": {},
   "source": [
    "1. Preparación de datos\n",
    "\n",
    "- La carpeta Data contiene archivos .csv o .txt de diferentes fuentes sobre energía renovable (solar, eólica, almacenamiento).\n",
    "\n",
    "- Generar embeddings para cada documento usando un modelo de embeddings (por ejemplo, text-embedding-3-small)."
   ]
  },
  {
   "cell_type": "code",
   "execution_count": null,
   "id": "82b85cc0",
   "metadata": {
    "vscode": {
     "languageId": "plaintext"
    }
   },
   "outputs": [],
   "source": []
  },
  {
   "cell_type": "markdown",
   "id": "c2c9d326",
   "metadata": {},
   "source": [
    "2. Implementación del Retriever\n",
    "\n",
    "El retriever debe permitir:\n",
    "\n",
    "- Buscar documentos relevantes por tema.\n",
    "\n",
    "- Buscar documentos relevantes por comparación, es decir, identificar información sobre dos tecnologías o conceptos diferentes.\n",
    "\n",
    "- Utilizar búsqueda semántica con embeddings para medir similitud."
   ]
  },
  {
   "cell_type": "code",
   "execution_count": null,
   "id": "1aa95b02",
   "metadata": {
    "vscode": {
     "languageId": "plaintext"
    }
   },
   "outputs": [],
   "source": []
  },
  {
   "cell_type": "markdown",
   "id": "7ed53045",
   "metadata": {},
   "source": [
    "3. Implementación del Generator\n",
    "\n",
    "El generator debe:\n",
    "\n",
    "   - Tomar los documentos recuperados y resumir los puntos clave.\n",
    "\n",
    "   - Comparar tecnologías, métodos o resultados si la consulta lo solicita.\n",
    "\n",
    "   - Generar un texto coherente y estructurado, por ejemplo:\n",
    "\n",
    "       Introducción breve.\n",
    "\n",
    "       Comparación de características, ventajas y desventajas.\n",
    "\n",
    "       Conclusión resumida."
   ]
  },
  {
   "cell_type": "code",
   "execution_count": null,
   "id": "e591643b",
   "metadata": {
    "vscode": {
     "languageId": "plaintext"
    }
   },
   "outputs": [],
   "source": []
  },
  {
   "cell_type": "markdown",
   "id": "64080c58",
   "metadata": {},
   "source": [
    "4. Consultas de prueba\n",
    "\n",
    "- “Comparar eficiencia entre células solares de perovskita y de silicio.”\n",
    "\n",
    "- “Ventajas y desventajas del almacenamiento en baterías vs. hidrógeno.”\n",
    "\n",
    "- “Últimas innovaciones en energía eólica frente a energía solar.”"
   ]
  },
  {
   "cell_type": "code",
   "execution_count": null,
   "id": "37659758",
   "metadata": {
    "vscode": {
     "languageId": "plaintext"
    }
   },
   "outputs": [],
   "source": []
  }
 ],
 "metadata": {
  "kernelspec": {
   "display_name": "myenv",
   "language": "python",
   "name": "python3"
  },
  "language_info": {
   "codemirror_mode": {
    "name": "ipython",
    "version": 3
   },
   "file_extension": ".py",
   "mimetype": "text/x-python",
   "name": "python",
   "nbconvert_exporter": "python",
   "pygments_lexer": "ipython3",
   "version": "3.11.11"
  }
 },
 "nbformat": 4,
 "nbformat_minor": 5
}
