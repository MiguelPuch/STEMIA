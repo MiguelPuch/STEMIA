{
 "cells": [
  {
   "cell_type": "markdown",
   "id": "919098ba",
   "metadata": {},
   "source": [
    "# 1. RAG"
   ]
  },
  {
   "cell_type": "markdown",
   "id": "e0e9c8b0",
   "metadata": {},
   "source": [
    "🎯 Objetivo\n",
    "\n",
    "Implementar los pasos básicos de un sistema Retrieval-Augmented Generation (RAG):\n",
    "\n",
    "Crear una base de conocimiento.\n",
    "\n",
    "Generar embeddings de los textos.\n",
    "\n",
    "Realizar búsqueda semántica.\n",
    "\n",
    "Generar una respuesta a partir de la información recuperada."
   ]
  },
  {
   "cell_type": "markdown",
   "id": "6e9d9f28",
   "metadata": {},
   "source": [
    "🧠 Requisitos previos\n",
    "\n",
    "Instalar las siguientes librerías (pueden usar pip):\n",
    "\n",
    "pip install sentence-transformers openai"
   ]
  },
  {
   "cell_type": "markdown",
   "id": "c367ca94",
   "metadata": {},
   "source": [
    "📚 Contexto\n",
    "\n",
    "Supón que estás desarrollando un asistente virtual para una biblioteca.\n",
    "Tu sistema debe responder preguntas de los usuarios usando documentos almacenados localmente.\n",
    "\n",
    "La base de datos (mini corpus) será:\n",
    "\n"
   ]
  },
  {
   "cell_type": "code",
   "execution_count": null,
   "id": "77bb617c",
   "metadata": {
    "vscode": {
     "languageId": "plaintext"
    }
   },
   "outputs": [],
   "source": [
    "documentos = [\n",
    "    \"Los préstamos de libros duran 15 días y se pueden renovar una vez.\",\n",
    "    \"Para acceder al catálogo digital, los usuarios deben iniciar sesión con su correo institucional.\",\n",
    "    \"Las multas por retraso son de 0,50 euros por día y por libro.\",\n",
    "    \"La biblioteca abre de lunes a viernes de 8:00 a 20:00 horas.\",\n",
    "    \"Los usuarios pueden solicitar préstamos interbibliotecarios completando un formulario online.\"\n",
    "]"
   ]
  },
  {
   "cell_type": "markdown",
   "id": "98bb5529",
   "metadata": {},
   "source": [
    "Actividad paso a paso (incompleta)\n",
    "\n",
    "Completa el código según las instrucciones en los comentarios.\n"
   ]
  },
  {
   "cell_type": "code",
   "execution_count": null,
   "id": "b509d592",
   "metadata": {
    "vscode": {
     "languageId": "plaintext"
    }
   },
   "outputs": [],
   "source": [
    "from sentence_transformers import SentenceTransformer, util\n"
   ]
  },
  {
   "cell_type": "markdown",
   "id": "065506d8",
   "metadata": {},
   "source": [
    "## 1. PREGUNTAS PRÁCTICAS"
   ]
  },
  {
   "cell_type": "markdown",
   "id": "7219fe5b",
   "metadata": {},
   "source": [
    "\n",
    "#### 1️⃣ Crear el modelo de embeddings\n",
    "Usa un modelo como \"all-MiniLM-L6-v2\"\n",
    "Cargar el modelo de embeddings"
   ]
  },
  {
   "cell_type": "markdown",
   "id": "0d3bfc3a",
   "metadata": {},
   "source": [
    " modelo = ...\n"
   ]
  },
  {
   "cell_type": "markdown",
   "id": "dfafbf98",
   "metadata": {},
   "source": [
    "##### 2️⃣ Crear embeddings de los documentos\n",
    "\n"
   ]
  },
  {
   "cell_type": "code",
   "execution_count": null,
   "id": "88653c0d",
   "metadata": {
    "vscode": {
     "languageId": "plaintext"
    }
   },
   "outputs": [],
   "source": [
    "documentos = [\n",
    "    \"Los préstamos de libros duran 15 días y se pueden renovar una vez.\",\n",
    "    \"Para acceder al catálogo digital, los usuarios deben iniciar sesión con su correo institucional.\",\n",
    "    \"Las multas por retraso son de 0,50 euros por día y por libro.\",\n",
    "    \"La biblioteca abre de lunes a viernes de 8:00 a 20:00 horas.\",\n",
    "    \"Los usuarios pueden solicitar préstamos interbibliotecarios completando un formulario online.\"\n",
    "]"
   ]
  },
  {
   "cell_type": "markdown",
   "id": "664373fa",
   "metadata": {},
   "source": [
    "Generar los embeddings de los documentos\n"
   ]
  },
  {
   "cell_type": "markdown",
   "id": "9b031388",
   "metadata": {},
   "source": [
    "embeddings_docs = ..."
   ]
  },
  {
   "cell_type": "markdown",
   "id": "e2e400be",
   "metadata": {},
   "source": [
    "\n",
    "##### 3️⃣ Solicitar una pregunta al usuario\n",
    "pregunta = input(\"Haz una pregunta sobre la biblioteca: \")"
   ]
  },
  {
   "cell_type": "markdown",
   "id": "e8aa11c5",
   "metadata": {},
   "source": [
    "Generar el embedding de la pregunta\n"
   ]
  },
  {
   "cell_type": "markdown",
   "id": "f273246b",
   "metadata": {},
   "source": [
    "embedding_pregunta = ..."
   ]
  },
  {
   "cell_type": "markdown",
   "id": "f3a539fc",
   "metadata": {},
   "source": [
    "\n",
    "##### 4️⃣ Calcular similitudes entre la pregunta y cada documento\n",
    "Usar util.cos_sim() para obtener la similitud\n",
    "y elegir el documento más similar\n"
   ]
  },
  {
   "cell_type": "markdown",
   "id": "4eacf1e3",
   "metadata": {},
   "source": [
    "similitudes = ... \n",
    "indice_mas_similar = ... \n",
    "documento_relevante = ..."
   ]
  },
  {
   "cell_type": "markdown",
   "id": "16fc201c",
   "metadata": {},
   "source": [
    "##### 5️⃣ Mostrar el resultado recuperado\n",
    "print(\"\\nDocumento más relevante:\")\n",
    "Imprimir el documento seleccionado\n",
    "\n"
   ]
  },
  {
   "cell_type": "markdown",
   "id": "1246172d",
   "metadata": {},
   "source": [
    "print(...)"
   ]
  },
  {
   "cell_type": "markdown",
   "id": "06773f42",
   "metadata": {},
   "source": [
    "#### 6️⃣ (Opcional) Simular el generador\n",
    "Aquí normalmente un modelo GPT usaría el documento recuperado\n",
    "para generar una respuesta final. Simúlalo con un print formateado.\n",
    "\n",
    "Imprimir una respuesta generada basada en el documento relevante\n"
   ]
  },
  {
   "cell_type": "markdown",
   "id": "a2e81400",
   "metadata": {},
   "source": [
    "print(...)"
   ]
  },
  {
   "cell_type": "markdown",
   "id": "72451b36",
   "metadata": {},
   "source": [
    "## 2. PREGUNTAS TEÓRICAS"
   ]
  },
  {
   "cell_type": "markdown",
   "id": "7125e511",
   "metadata": {},
   "source": [
    "Preguntas teóricas complementarias\n",
    "\n",
    "- ¿Qué representa el embedding de un texto en este sistema?\n",
    "\n",
    "- ¿Por qué se usa la similitud del coseno para comparar textos?\n",
    "\n",
    "- ¿Qué papel cumple el Retriever en este ejercicio?\n",
    "\n",
    "- ¿Qué podría hacer el Generator si se usara un modelo como GPT-4 o LLaMA?"
   ]
  },
  {
   "cell_type": "markdown",
   "id": "79fa526c",
   "metadata": {},
   "source": [
    "## 3. EXTRA"
   ]
  },
  {
   "cell_type": "markdown",
   "id": "e5e67543",
   "metadata": {},
   "source": [
    "- Cargar nuevos documentos en la base.\n",
    "\n",
    "- Mostrar los 3 documentos más relevantes (no solo uno).\n",
    "\n",
    "- Usar un modelo generativo (con clave API) para crear una respuesta real:"
   ]
  },
  {
   "cell_type": "code",
   "execution_count": null,
   "id": "c2fd3706",
   "metadata": {
    "vscode": {
     "languageId": "plaintext"
    }
   },
   "outputs": [],
   "source": [
    "from openai import OpenAI\n",
    "client = OpenAI()\n",
    "respuesta = client.chat.completions.create(\n",
    "    model=\"gpt-4o-mini\",\n",
    "    messages=[\n",
    "        {\"role\": \"system\", \"content\": \"Eres un asistente experto en bibliotecas.\"},\n",
    "        {\"role\": \"user\", \"content\": f\"Usa esta información: {documento_relevante}. Responde a la pregunta: {pregunta}\"}\n",
    "    ]\n",
    ")\n",
    "print(respuesta.choices[0].message.content)"
   ]
  }
 ],
 "metadata": {
  "language_info": {
   "name": "python"
  }
 },
 "nbformat": 4,
 "nbformat_minor": 5
}
