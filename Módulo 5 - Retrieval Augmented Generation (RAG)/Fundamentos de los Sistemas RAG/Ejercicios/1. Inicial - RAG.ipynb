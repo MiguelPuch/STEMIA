{
 "cells": [
  {
   "cell_type": "markdown",
   "id": "919098ba",
   "metadata": {},
   "source": [
    "# 1. Construye tu primer sistema RAG"
   ]
  },
  {
   "cell_type": "markdown",
   "id": "e0e9c8b0",
   "metadata": {},
   "source": [
    "## Objetivo\n",
    "\n",
    "Aprender a implementar un pipeline Retrieval-Augmented Generation (RAG) completo, que combine:\n",
    "\n",
    "1. Retrieval: búsqueda semántica de información relevante en una base de conocimiento.\n",
    "\n",
    "2. Generation: generación de una respuesta natural con un modelo de lenguaje grande (LLM)."
   ]
  },
  {
   "cell_type": "markdown",
   "id": "6e9d9f28",
   "metadata": {},
   "source": [
    "## Requisitos previos\n",
    "\n",
    "Instalar las siguientes librerías (pueden usar pip):\n",
    "\n"
   ]
  },
  {
   "cell_type": "code",
   "execution_count": null,
   "id": "8040cfd3",
   "metadata": {
    "vscode": {
     "languageId": "plaintext"
    }
   },
   "outputs": [],
   "source": [
    "! pip install sentence-transformers openai"
   ]
  },
  {
   "cell_type": "markdown",
   "id": "c367ca94",
   "metadata": {},
   "source": [
    "## Contexto\n",
    "\n",
    "Vas a crear un asistente virtual para una biblioteca.\n",
    "El asistente debe responder preguntas de los usuarios usando información contenida en documentos locales (no internet).\n",
    "\n",
    "La base de conocimiento es:\n",
    "\n"
   ]
  },
  {
   "cell_type": "code",
   "execution_count": null,
   "id": "77bb617c",
   "metadata": {
    "vscode": {
     "languageId": "plaintext"
    }
   },
   "outputs": [],
   "source": [
    "documentos = [\n",
    "    \"Los préstamos de libros duran 15 días y se pueden renovar una vez.\",\n",
    "    \"Para acceder al catálogo digital, los usuarios deben iniciar sesión con su correo institucional.\",\n",
    "    \"Las multas por retraso son de 0,50 euros por día y por libro.\",\n",
    "    \"La biblioteca abre de lunes a viernes de 8:00 a 20:00 horas.\",\n",
    "    \"Los usuarios pueden solicitar préstamos interbibliotecarios completando un formulario online.\"\n",
    "]"
   ]
  },
  {
   "cell_type": "markdown",
   "id": "98bb5529",
   "metadata": {},
   "source": [
    "## Actividad paso a paso \n",
    "\n",
    "Completa el código según las instrucciones en los comentarios.\n"
   ]
  },
  {
   "cell_type": "code",
   "execution_count": null,
   "id": "b509d592",
   "metadata": {
    "vscode": {
     "languageId": "plaintext"
    }
   },
   "outputs": [],
   "source": [
    "from sentence_transformers import SentenceTransformer, util\n"
   ]
  },
  {
   "cell_type": "markdown",
   "id": "065506d8",
   "metadata": {},
   "source": [
    "### 1. PREGUNTAS PRÁCTICAS"
   ]
  },
  {
   "cell_type": "markdown",
   "id": "7219fe5b",
   "metadata": {},
   "source": [
    "\n",
    "#### 1. Crear la base de conocimiento\n",
    "\n",
    "Convierte tus textos en una colección de Document que LangChain pueda manejar.\n",
    "\n",
    "💡 Usa la clase Document de langchain.schema para asociar cada texto con su fuente o índice."
   ]
  },
  {
   "cell_type": "code",
   "execution_count": null,
   "id": "9d64a17c",
   "metadata": {
    "vscode": {
     "languageId": "plaintext"
    }
   },
   "outputs": [],
   "source": []
  },
  {
   "cell_type": "markdown",
   "id": "dfafbf98",
   "metadata": {},
   "source": [
    "#### 2. Crear los embeddings e indexar con FAISS\n",
    "\n",
    "Crea un modelo de embeddings (all-MiniLM-L6-v2) y genera el índice FAISS.\n",
    "\n",
    "💡 Este índice actuará como tu vector store, donde cada documento se representa como un vector semántico.\n",
    "\n"
   ]
  },
  {
   "cell_type": "code",
   "execution_count": null,
   "id": "9cb944da",
   "metadata": {
    "vscode": {
     "languageId": "plaintext"
    }
   },
   "outputs": [],
   "source": []
  },
  {
   "cell_type": "markdown",
   "id": "e2e400be",
   "metadata": {},
   "source": [
    "#### 3. Crear el retriever\n",
    "\n",
    "Transforma tu vectorstore en un retriever:\n"
   ]
  },
  {
   "cell_type": "code",
   "execution_count": null,
   "id": "c75d5024",
   "metadata": {
    "vscode": {
     "languageId": "plaintext"
    }
   },
   "outputs": [],
   "source": []
  },
  {
   "cell_type": "markdown",
   "id": "e8aa11c5",
   "metadata": {},
   "source": [
    "#### 4. Solicitar una pregunta al usuario\n",
    "\n",
    "Pide al usuario una pregunta, por ejemplo: ¿Cuánto tiempo duran los préstamos de libros?\n"
   ]
  },
  {
   "cell_type": "code",
   "execution_count": null,
   "id": "2ca0f4ca",
   "metadata": {
    "vscode": {
     "languageId": "plaintext"
    }
   },
   "outputs": [],
   "source": []
  },
  {
   "cell_type": "markdown",
   "id": "f3a539fc",
   "metadata": {},
   "source": [
    "\n",
    "##### 5. Recuperar documentos relevantes\n",
    "\n",
    "Usa el retriever para obtener los textos más relacionados con la pregunta:\n",
    "\n",
    "docs = retriever.get_relevant_documents(pregunta)\n",
    "\n",
    "\n",
    "💡 Cada doc contiene el texto (doc.page_content) y metadatos (doc.metadata)."
   ]
  },
  {
   "cell_type": "code",
   "execution_count": null,
   "id": "14f3189a",
   "metadata": {
    "vscode": {
     "languageId": "plaintext"
    }
   },
   "outputs": [],
   "source": []
  },
  {
   "cell_type": "markdown",
   "id": "16fc201c",
   "metadata": {},
   "source": [
    "##### 6. Generar una respuesta con un modelo LLM\n",
    "\n",
    "Usa un modelo de lenguaje (por ejemplo ChatOpenAI con tu API key) para crear una respuesta basada solo en los documentos recuperados.\n",
    "\n",
    "Ejemplo de prompt:\n",
    "\n",
    "\n",
    "prompt = f\"\"\"\n",
    "Eres un asistente de biblioteca. Usa solo la siguiente información para responder.\n",
    "Contexto:\n",
    "{contexto}\n",
    "\n",
    "Pregunta: {pregunta}\n",
    "\"\"\"\n",
    "\n",
    "💡 Aquí conectas las dos partes: retrieval (docs) + generation (LLM) = RAG"
   ]
  },
  {
   "cell_type": "code",
   "execution_count": null,
   "id": "950dad3d",
   "metadata": {
    "vscode": {
     "languageId": "plaintext"
    }
   },
   "outputs": [],
   "source": []
  },
  {
   "cell_type": "markdown",
   "id": "06773f42",
   "metadata": {},
   "source": [
    "#### 7. Mostrar la respuesta final\n",
    "\n",
    "Imprime:\n",
    "\n",
    "Los documentos recuperados (fuentes).\n",
    "\n",
    "La respuesta generada por el LLM.\n",
    "\n",
    "Ejemplo:\n",
    "\n",
    "Documentos relevantes:\n",
    "[1] Los préstamos de libros duran 15 días y se pueden renovar una vez.\n",
    "\n",
    "Respuesta del asistente:\n",
    "Puedes tener el libro 15 días y renovarlo una vez."
   ]
  },
  {
   "cell_type": "code",
   "execution_count": null,
   "id": "cd8ccf99",
   "metadata": {
    "vscode": {
     "languageId": "plaintext"
    }
   },
   "outputs": [],
   "source": []
  },
  {
   "cell_type": "markdown",
   "id": "a2e81400",
   "metadata": {},
   "source": []
  }
 ],
 "metadata": {
  "language_info": {
   "name": "python"
  }
 },
 "nbformat": 4,
 "nbformat_minor": 5
}
