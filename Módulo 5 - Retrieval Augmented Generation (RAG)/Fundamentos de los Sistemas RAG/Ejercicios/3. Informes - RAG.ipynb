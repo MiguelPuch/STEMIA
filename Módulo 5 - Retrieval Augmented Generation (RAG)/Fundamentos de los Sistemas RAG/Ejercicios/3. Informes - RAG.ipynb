{
 "cells": [
  {
   "cell_type": "markdown",
   "id": "9d03a624",
   "metadata": {},
   "source": [
    "# Asistente RAG para preparar informes técnicos automatizados"
   ]
  },
  {
   "cell_type": "markdown",
   "id": "629730ba",
   "metadata": {},
   "source": [
    "Una consultora en energías renovables recibe muchas solicitudes de clientes para informes técnicos personalizados sobre diferentes temas: solar, eólica, almacenamiento, hidráulica, etc.\n",
    "\n",
    "Actualmente, los informes se hacen manualmente: se revisan papers, artículos y notas internas, y se redacta un resumen.\n",
    "\n",
    "El objetivo de la práctica es crear un sistema RAG que:\n",
    "\n",
    "1. Recupere automáticamente documentos relevantes según la solicitud del cliente.\n",
    "\n",
    "2. Genere un informe resumido y coherente, listo para entregar al cliente."
   ]
  },
  {
   "cell_type": "markdown",
   "id": "303fc93b",
   "metadata": {},
   "source": [
    "## Objetivos de la práctica\n",
    "\n",
    "1. Carga el csv corresapondiente y genera embeddings de cada documento para permitir búsquedas semánticas.\n",
    "\n",
    "2. Implementar un retriever que busque documentos relevantes según la solicitud del cliente (consulta en lenguaje natural).\n",
    "\n",
    "3. Implementar un generator que combine los documentos recuperados y genere un informe resumido y coherente.\n",
    "\n",
    "4. Permitir al usuario escribir solicitudes personalizadas, por ejemplo:\n",
    "\n",
    "  * “Preparar un informe sobre eficiencia de celdas solares recientes”\n",
    "\n",
    "  * “Generar resumen sobre sistemas de almacenamiento de energía renovable”"
   ]
  },
  {
   "cell_type": "code",
   "execution_count": null,
   "id": "24c3e8c8",
   "metadata": {},
   "outputs": [],
   "source": [
    "#1."
   ]
  },
  {
   "cell_type": "code",
   "execution_count": null,
   "id": "7486643e",
   "metadata": {},
   "outputs": [],
   "source": [
    "#2."
   ]
  },
  {
   "cell_type": "code",
   "execution_count": null,
   "id": "5a4b90a8",
   "metadata": {},
   "outputs": [],
   "source": [
    "#3."
   ]
  },
  {
   "cell_type": "code",
   "execution_count": null,
   "id": "f269157d",
   "metadata": {},
   "outputs": [],
   "source": [
    "#4."
   ]
  },
  {
   "cell_type": "markdown",
   "id": "5df6b351",
   "metadata": {},
   "source": [
    "## Preguntas\n",
    "\n",
    "1. Retriever:\n",
    "\n",
    "  * Cómo encontrar los documentos más relevantes para consultas amplias o específicas.\n",
    "\n",
    "  * Cómo manejar múltiples documentos y decidir cuántos recuperar.\n",
    "\n",
    "2. Generator:\n",
    "\n",
    "  * Cómo combinar la información de varios documentos de manera coherente.\n",
    "\n",
    "  * Cómo evitar redundancias y mantener precisión.\n",
    "\n",
    "3. Evaluación de resultados:\n",
    "\n",
    "   * Comparar el informe generado con un informe “manual” para evaluar calidad, relevancia y coherencia.\n",
    "\n",
    "4. Opcional:\n",
    "\n",
    "   * Implementar filtros por categoría o año de publicación.\n",
    "\n",
    "   * Evaluar si se puede automatizar la asignación de títulos al informe generado."
   ]
  }
 ],
 "metadata": {
  "kernelspec": {
   "display_name": "myenv",
   "language": "python",
   "name": "python3"
  },
  "language_info": {
   "codemirror_mode": {
    "name": "ipython",
    "version": 3
   },
   "file_extension": ".py",
   "mimetype": "text/x-python",
   "name": "python",
   "nbconvert_exporter": "python",
   "pygments_lexer": "ipython3",
   "version": "3.11.11"
  }
 },
 "nbformat": 4,
 "nbformat_minor": 5
}
