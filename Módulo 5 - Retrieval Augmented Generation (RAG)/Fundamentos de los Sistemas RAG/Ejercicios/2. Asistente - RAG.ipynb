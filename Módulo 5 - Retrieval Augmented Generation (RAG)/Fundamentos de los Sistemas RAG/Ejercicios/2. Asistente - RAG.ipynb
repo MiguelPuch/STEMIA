{
 "cells": [
  {
   "cell_type": "markdown",
   "id": "cb561d1f",
   "metadata": {},
   "source": [
    "# Asistente RAG para preguntas sobre energías renovables"
   ]
  },
  {
   "cell_type": "markdown",
   "id": "3b626828",
   "metadata": {},
   "source": [
    "Una empresa de investigación en energías renovables quiere desarrollar un asistente interno para que sus empleados hagan preguntas técnicas y obtengan respuestas precisas basadas en documentos recientes.\n",
    "\n",
    "Los documentos incluyen artículos, papers, informes y notas internas sobre energía solar, eólica e hidráulica.\n",
    "\n",
    "El objetivo es construir un prototipo de sistema RAG que permita:\n",
    "\n",
    "1. Recuperar documentos relevantes según la consulta del usuario.\n",
    "\n",
    "2. Generar una respuesta coherente y natural basada en esos documentos."
   ]
  },
  {
   "cell_type": "markdown",
   "id": "7289777b",
   "metadata": {},
   "source": [
    "## Objetivo de la práctica\n",
    "\n",
    "1. Leer el archivo energia_Asistente.csv que hay en la carpeta Data y generar embeddings.\n",
    "\n",
    "2. Implementar un retriever que busque los documentos más relevantes según la consulta del usuario (búsqueda semántica).\n",
    "\n",
    "3. Implementar un generator simulado (por ejemplo, concatenando los textos relevantes y devolviendo un resumen) para producir respuestas coherentes.\n",
    "\n",
    "4. Probar el sistema con preguntas como:\n",
    "\n",
    "   - “¿Cuáles son las últimas innovaciones en células solares?”\n",
    "\n",
    "   - “¿Cómo se puede almacenar energía eólica de manera eficiente?”"
   ]
  },
  {
   "cell_type": "code",
   "execution_count": null,
   "id": "2d3a41e5",
   "metadata": {},
   "outputs": [],
   "source": [
    "#1."
   ]
  },
  {
   "cell_type": "code",
   "execution_count": null,
   "id": "5ea6d3ea",
   "metadata": {},
   "outputs": [],
   "source": [
    "#2."
   ]
  },
  {
   "cell_type": "code",
   "execution_count": null,
   "id": "7b2ad1b8",
   "metadata": {},
   "outputs": [],
   "source": [
    "#3."
   ]
  },
  {
   "cell_type": "code",
   "execution_count": null,
   "id": "ccb67869",
   "metadata": {},
   "outputs": [],
   "source": [
    "#4."
   ]
  },
  {
   "cell_type": "markdown",
   "id": "808d6d77",
   "metadata": {},
   "source": [
    "## Preguntas\n",
    "\n",
    "1. Retriever: \n",
    "\n",
    "  * Cómo seleccionar los documentos más relevantes para la pregunta.\n",
    "\n",
    "  * Cómo filtrar resultados si se quiere por categoría o tema.\n",
    "\n",
    "2. Generator:\n",
    "\n",
    "  * Cómo combinar la información recuperada en una respuesta coherente.\n",
    "\n",
    "\n",
    "3. Evaluación de resultados:\n",
    "\n",
    "  * Cómo medir si la respuesta es precisa y útil.\n",
    "\n",
    "  * Cómo manejar consultas que no tengan documentación suficiente."
   ]
  }
 ],
 "metadata": {
  "kernelspec": {
   "display_name": "myenv",
   "language": "python",
   "name": "python3"
  },
  "language_info": {
   "codemirror_mode": {
    "name": "ipython",
    "version": 3
   },
   "file_extension": ".py",
   "mimetype": "text/x-python",
   "name": "python",
   "nbconvert_exporter": "python",
   "pygments_lexer": "ipython3",
   "version": "3.11.11"
  }
 },
 "nbformat": 4,
 "nbformat_minor": 5
}
