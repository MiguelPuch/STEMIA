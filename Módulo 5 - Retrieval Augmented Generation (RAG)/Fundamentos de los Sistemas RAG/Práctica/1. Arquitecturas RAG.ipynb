{
 "cells": [
  {
   "cell_type": "markdown",
   "id": "d0e2202c",
   "metadata": {},
   "source": [
    "# PRÁCTICA RAG"
   ]
  },
  {
   "cell_type": "markdown",
   "id": "1ff534a0",
   "metadata": {},
   "source": [
    "Las herramientas que el agente puede ocupar incluyen servicios de búsqueda en internet que permiten extender el conocimiento no disponible por la LLM ya que añadimos esos hechos al contexto de la consulta. Pero veremos que estos esquemas pueden extenderse también con mecanismos de búsqueda como lo son las bases de datos vectoriales.\n",
    "\n",
    "Gracias a estos medio podemos realizar un amplia recolección de información previo a su envío a la LLM para obtener el resultado final."
   ]
  },
  {
   "cell_type": "code",
   "execution_count": 45,
   "id": "2944436b",
   "metadata": {},
   "outputs": [
    {
     "data": {
      "text/plain": [
       "True"
      ]
     },
     "execution_count": 45,
     "metadata": {},
     "output_type": "execute_result"
    }
   ],
   "source": [
    "from dotenv import load_dotenv\n",
    "\n",
    "load_dotenv(dotenv_path=r\"C:\\Users\\ST09\\Documents\\GitHub\\STEMIA\\Módulo 5 - Retrieval Augmented Generation (RAG)\\Fundamentos de los Sistemas RAG\\Práctica\\.env\", override=True)"
   ]
  },
  {
   "cell_type": "code",
   "execution_count": 46,
   "id": "58e80389",
   "metadata": {},
   "outputs": [
    {
     "name": "stdout",
     "output_type": "stream",
     "text": [
      "✓ API_KEY_OPENAI configurada (longitud: 164 caracteres)\n"
     ]
    }
   ],
   "source": [
    "import os\n",
    "\n",
    "# Verificar si la API key está configurada\n",
    "api_key = os.getenv(\"API_KEY_OPENAI\")\n",
    "if api_key:\n",
    "    print(f\"✓ API_KEY_OPENAI configurada (longitud: {len(api_key)} caracteres)\")\n",
    "else:\n",
    "    print(\"✗ API_KEY_OPENAI no encontrada\")\n",
    "    print(\"Asegúrate de que el archivo .env contiene: API_KEY_OPENAI=tu_clave\")"
   ]
  },
  {
   "cell_type": "markdown",
   "id": "206aeada",
   "metadata": {},
   "source": [
    "No es tarea trivial ya que encontrar información pertinente para resolver nuestra consulta requiere de encontrar la información relevante de nuestra base de conocimiento. Esto puede realizarse de distintas formas, mediante palabras clave o metadatos durante la consulta aunque las bases de datos vectoriales han sido uno de los puntos clave en la evolución de estos sistemas.\n",
    "\n",
    "Empleamos bases de datos vectoriales ya que las LLM nos ofrecen la opción de trabajar con los **embeddings** que sabemos aportan un vector denso de características semánticamente relevante. Por lo tanto, podemos realizar una búsqueda por vectores proximos entendiendo que los textos que representan esos vectores serán clave para resolver la consulta en cuestión.\n",
    "\n",
    "#### Vector search\n",
    "\n",
    "Sin desplegar grandes soluciones, [FAISS](https://faiss.ai/) nos ofrece un medio sencillo por el que probar esta interacción. Elegiremos primeramente una fuente de la que leer la información."
   ]
  },
  {
   "cell_type": "code",
   "execution_count": 47,
   "id": "7907b125",
   "metadata": {},
   "outputs": [],
   "source": [
    "from langchain_community.document_loaders import WebBaseLoader  ## ojo librería langchain\n",
    "\n",
    "loader = WebBaseLoader(\"https://python.langchain.com/docs/introduction/\")\n",
    "documents = loader.load()"
   ]
  },
  {
   "cell_type": "markdown",
   "id": "2264a7b5",
   "metadata": {},
   "source": [
    "También deberemos elegir un modelo capaz de construir los embeddings dado un texto. Este mismo modelo será consultado ante una pregunta para obtener los textos o mejor dicho, vectores, que ofrecen la información relevante para nuestra consulta."
   ]
  },
  {
   "cell_type": "code",
   "execution_count": 48,
   "id": "cb49d835",
   "metadata": {},
   "outputs": [
    {
     "name": "stdout",
     "output_type": "stream",
     "text": [
      "Vectorstore creado con éxito.\n"
     ]
    }
   ],
   "source": [
    "from langchain_text_splitters import RecursiveCharacterTextSplitter\n",
    "from langchain_community.vectorstores import FAISS\n",
    "from langchain_community.embeddings import HuggingFaceEmbeddings\n",
    "\n",
    "# Creamos embeddings\n",
    "embedding_model = HuggingFaceEmbeddings(model_name=\"sentence-transformers/all-MiniLM-L6-v2\")\n",
    "\n",
    "# Creamos vectorstore FAISS\n",
    "vectorstore = FAISS.from_documents(documents, embedding_model)\n",
    "\n",
    "print(\"Vectorstore creado con éxito.\")\n"
   ]
  },
  {
   "cell_type": "markdown",
   "id": "5bd006ca",
   "metadata": {},
   "source": [
    "Una vez estas piezas están dispuestas solo tenemos que invocar a la cadena de acciones necesarias. Para simplificar esta operativa LangChain ya dispone de este mecanismo implementado de forma que es sencillo construir el grafo correspondiente."
   ]
  },
  {
   "cell_type": "code",
   "execution_count": null,
   "id": "2362dab0",
   "metadata": {},
   "outputs": [],
   "source": [
    "# !pip uninstall -y langchain langchain-core langchain-community langchain-openai\n",
    "# !pip install -U \"langchain==0.3.*\" \"langchain-core==0.3.*\" \"langchain-community==0.3.*\" \"langchain-openai==0.2.*\" \"pydantic>=2,<3\"\n",
    "#! pip uninstall -y openai\n",
    "#! pip install -U \"openai>=1.40.0\"\n",
    "# ! pip install -U \"typing_extensions>=4.12.2\"\n"
   ]
  },
  {
   "cell_type": "code",
   "execution_count": 37,
   "id": "47bd3dbc",
   "metadata": {},
   "outputs": [],
   "source": [
    "import os\n",
    "from dotenv import load_dotenv\n",
    "from openai import OpenAI\n",
    "\n",
    "client = OpenAI(api_key=os.getenv(\"OPENAI_API_KEY\"))\n",
    "\n",
    "response = client.chat.completions.create(\n",
    "    model=\"gpt-4o-mini\",\n",
    "    messages=[{\"role\": \"user\", \"content\": \"Hola!\"}]\n",
    ")"
   ]
  },
  {
   "cell_type": "code",
   "execution_count": 49,
   "id": "f23ffc2e",
   "metadata": {},
   "outputs": [],
   "source": [
    "from langchain_openai import ChatOpenAI\n",
    "from langchain_core.prompts import ChatPromptTemplate"
   ]
  },
  {
   "cell_type": "code",
   "execution_count": 50,
   "id": "8b6e4d18",
   "metadata": {},
   "outputs": [],
   "source": [
    "from langchain_openai import ChatOpenAI\n",
    "\n",
    "llm = ChatOpenAI(\n",
    "    model=\"gpt-4o-mini\",   \n",
    "    temperature=0.0,\n",
    "    timeout=60,\n",
    "    max_retries=2,\n",
    ")\n"
   ]
  },
  {
   "cell_type": "markdown",
   "id": "8af80a24",
   "metadata": {},
   "source": [
    "Retrieval (recuperación) → buscar la información relevante.\n",
    "\n",
    "Generation (generación) → usar un modelo LLM para generar la respuesta con esa información."
   ]
  },
  {
   "cell_type": "code",
   "execution_count": 51,
   "id": "75055f2b",
   "metadata": {},
   "outputs": [],
   "source": [
    "# Busca la infor en vectorstore y devuelve la más relevante \n",
    "retriever = vectorstore.as_retriever(search_kwargs={\"k\": 5})"
   ]
  },
  {
   "cell_type": "code",
   "execution_count": 52,
   "id": "f1dfb955",
   "metadata": {},
   "outputs": [],
   "source": [
    "prompt = ChatPromptTemplate.from_messages([\n",
    "    (\"system\",\n",
    "     \"Eres un asistente experto. Responde SOLO con el contexto. \"\n",
    "     \"Si no está en el contexto, dilo claramente. Cita [S1], [S2], ...\"),\n",
    "    (\"human\", \"Pregunta: {question}\\n\\nContexto:\\n{context}\")\n",
    "])"
   ]
  },
  {
   "cell_type": "code",
   "execution_count": 53,
   "id": "d852fd2e",
   "metadata": {},
   "outputs": [],
   "source": [
    "def _format_context(docs, max_chars=1200):\n",
    "    partes = []\n",
    "    for i, d in enumerate(docs, start=1):\n",
    "        src = d.metadata.get(\"source\") or d.metadata.get(\"url\") or d.metadata.get(\"path\") or \"desconocido\"\n",
    "        txt = (d.page_content or \"\").replace(\"\\n\", \" \").strip()\n",
    "        if len(txt) > max_chars:\n",
    "            txt = txt[:max_chars] + \"...\"\n",
    "        partes.append(f\"[S{i}] Fuente: {src}\\n{txt}\")\n",
    "    return \"\\n\\n\".join(partes)"
   ]
  },
  {
   "cell_type": "code",
   "execution_count": 56,
   "id": "d7ff9ea6",
   "metadata": {},
   "outputs": [],
   "source": [
    "def consultar_bd(question: str, k: int = 5):\n",
    "    docs = retriever.invoke(question)\n",
    "    ctx = _format_context(docs)\n",
    "    messages = prompt.format_messages(question=question, context=ctx)\n",
    "    ai_msg = llm.invoke(messages)\n",
    "    return {\"answer\": ai_msg.content, \"source_documents\": docs}"
   ]
  },
  {
   "cell_type": "code",
   "execution_count": 57,
   "id": "49ad26cb",
   "metadata": {},
   "outputs": [
    {
     "name": "stdout",
     "output_type": "stream",
     "text": [
      "LangChain es una herramienta que permite construir aplicaciones utilizando modelos de lenguaje (LLM) y se utiliza para crear chatbots, sistemas de preguntas y respuestas, motores de búsqueda semántica, y aplicaciones de generación aumentada por recuperación (RAG), entre otros. [S1]\n",
      "[S1] -> https://python.langchain.com/docs/introduction/\n"
     ]
    }
   ],
   "source": [
    "# Ejemplo:\n",
    "\n",
    "result = consultar_bd(\"¿Qué es LangChain y para qué sirve?\")\n",
    "print(result[\"answer\"])\n",
    "for i, d in enumerate(result[\"source_documents\"], start=1):\n",
    "    print(f\"[S{i}] ->\", d.metadata.get(\"source\") or d.metadata.get(\"url\") or d.metadata.get(\"path\"))"
   ]
  },
  {
   "cell_type": "markdown",
   "id": "1f9e74ff",
   "metadata": {},
   "source": [
    "Podemos ver los extractos de texto rescatados que han sido añadidos a la consulta."
   ]
  },
  {
   "cell_type": "code",
   "execution_count": 58,
   "id": "bed542c9",
   "metadata": {},
   "outputs": [
    {
     "name": "stdout",
     "output_type": "stream",
     "text": [
      "[Document(id='488c5d42-0ba6-4cee-85e0-557481c2b2b8', metadata={'source': 'https://python.langchain.com/docs/introduction/', 'title': 'introduction | 🦜️🔗 LangChain', 'description': '⚠️ THESE DOCS ARE OUTDATED. Visit the new v1.0 docs', 'language': 'en'}, page_content='\\n\\n\\n\\n\\nintroduction | 🦜️🔗 LangChain\\n\\n\\n\\n\\n\\n\\n\\n\\nSkip to main content⚠️ THESE DOCS ARE OUTDATED. Visit the new v1.0 docsIntegrationsAPI ReferenceMoreContributingPeopleError referenceLangSmithLangGraphLangChain HubLangChain JS/TSv0.3v0.3v0.2v0.1💬SearchIntroductionTutorialsBuild a Question Answering application over a Graph DatabaseindexBuild a simple LLM application with chat models and prompt templatesBuild a ChatbotBuild a Retrieval Augmented Generation (RAG) App: Part 2Build an Extraction ChainBuild an AgentTaggingBuild a Retrieval Augmented Generation (RAG) App: Part 1Build a semantic search engineBuild a Question/Answering system over SQL dataSummarize TextHow-to guidesindexHow to use tools in a chainHow to use a vectorstore as a retrieverHow to add memory to chatbotsHow to use example selectorsHow to add a semantic layer over graph databaseHow to invoke runnables in parallelHow to stream chat model responsesHow to add default invocation args to a RunnableHow to add retrieval to chatbotsHow to use few shot examples in chat modelsHow to do tool/function callingHow to install LangChain packagesHow to add examples to the prompt for query analysisHow to use few shot examplesHow to run custom functionsHow to use output parsers to parse an LLM response into structured formatHow to handle cases where no queries are generatedHow to route between sub-chainsHow to return structured data from a modelHow to summarize text through parallelizationHow to summarize text through iterative refinementHow to summarize text in a single LLM callHow to use toolkitsHow to add ad-hoc tool calling capability to LLMs and Chat ModelsBuild an Agent with AgentExecutor (Legacy)How to construct knowledge graphsHow to partially format prompt templatesHow to handle multiple queries when doing query analysisHow to use built-in tools and toolkitsHow to pass through arguments from one step to the nextHow to compose prompts togetherHow to handle multiple retrievers when doing query analysisHow to add values to a chain\\'s stateHow to construct filters for query analysisHow to configure runtime chain internalsHow to deal with high-cardinality categoricals when doing query analysisCustom Document LoaderHow to use the MultiQueryRetrieverHow to add scores to retriever resultsCachingHow to use callbacks in async environmentsHow to attach callbacks to a runnableHow to propagate callbacks  constructorHow to dispatch custom callback eventsHow to pass callbacks in at runtimeHow to split by characterHow to cache chat model responsesHow to handle rate limitsHow to init any model in one lineHow to track token usage in ChatModelsHow to add tools to chatbotsHow to split codeHow to do retrieval with contextual compressionHow to convert Runnables to ToolsHow to create custom callback handlersHow to create a custom chat model classCustom EmbeddingsHow to create a custom LLM classCustom RetrieverHow to create toolsHow to debug your LLM appsHow to load CSVsHow to load documents from a directoryHow to load HTMLHow to load JSONHow to load MarkdownHow to load Microsoft Office filesHow to load PDFsHow to load web pagesHow to create a dynamic (self-constructing) chainText embedding modelsHow to combine results from multiple retrieversHow to select examples from a LangSmith datasetHow to select examples by lengthHow to select examples by maximal marginal relevance (MMR)How to select examples by n-gram overlapHow to select examples by similarityHow to use reference examples when doing extractionHow to handle long text when doing extractionHow to use prompting alone (no tool calling) to do extractionHow to add fallbacks to a runnableHow to filter messagesHybrid SearchHow to use the LangChain indexing APIHow to inspect runnablesLangChain Expression Language CheatsheetHow to cache LLM responsesHow to track token usage for LLMsRun models locallyHow to get log probabilitiesHow to reorder retrieved results to mitigate the \"lost in the middle\" effectHow to split Markdown by HeadersHow to merge consecutive messages of the same typeHow to add message historyHow to migrate from legacy LangChain agents to LangGraphHow to retrieve using multiple vectors per documentHow to pass multimodal data to modelsHow to use multimodal promptsHow to create a custom Output ParserHow to use the output-fixing parserHow to parse JSON outputHow to retry when a parsing error occursHow to parse text from message objectsHow to parse XML outputHow to parse YAML outputHow to use the Parent Document RetrieverHow to use LangChain with different Pydantic versionsHow to add chat historyHow to get a RAG application to add citationsHow to do per-user retrievalHow to get your RAG application to return sourcesHow to stream results from your RAG applicationHow to split JSON dataHow to recursively split text by charactersResponse metadataHow to pass runtime secrets to runnablesHow to do \"self-querying\" retrievalHow to split text based on semantic similarityHow to chain runnablesHow to save and load LangChain objectsHow to split text by tokensHow to split HTMLHow to do question answering over CSVsHow to deal with large databases when doing SQL question-answeringHow to better prompt when doing SQL question-answeringHow to do query validation as part of SQL question-answeringHow to stream runnablesHow to stream responses from an LLMHow to use a time-weighted vector store retrieverHow to return artifacts from a toolHow to use chat models to call toolsHow to disable parallel tool callingHow to force models to call a toolHow to access the RunnableConfig from a toolHow to pass tool outputs to chat modelsHow to pass run time values to toolsHow to stream events from a toolHow to stream tool callsHow to convert tools to OpenAI FunctionsHow to handle tool errorsHow to use few-shot prompting with tool callingHow to add a human-in-the-loop for toolsHow to bind model-specific toolsHow to trim messagesHow to create and query vector storesConceptual guideAgentsArchitectureAsync programming with LangChainCallbacksChat historyChat modelsDocument loadersEmbedding modelsEvaluationExample selectorsFew-shot promptingindexKey-value storesLangChain Expression Language (LCEL)MessagesMultimodalityOutput parsersPrompt TemplatesRetrieval augmented generation (RAG)RetrievalRetrieversRunnable interfaceStreamingStructured outputsTestingString-in, string-out llmsText splittersTokensTool callingToolsTracingVector storesWhy LangChain?Ecosystem🦜🛠️ LangSmith🦜🕸️ LangGraphVersionsv0.3v0.2Pydantic compatibilityMigrating from v0.0 chainsHow to migrate from v0.0 chainsMigrating from ConstitutionalChainMigrating from ConversationalChainMigrating from ConversationalRetrievalChainMigrating from LLMChainMigrating from LLMMathChainMigrating from LLMRouterChainMigrating from MapReduceDocumentsChainMigrating from MapRerankDocumentsChainMigrating from MultiPromptChainMigrating from RefineDocumentsChainMigrating from RetrievalQAMigrating from StuffDocumentsChainUpgrading to LangGraph memoryHow to migrate to LangGraph memoryHow to use BaseChatMessageHistory with LangGraphMigrating off ConversationBufferMemory or ConversationStringBufferMemoryMigrating off ConversationBufferWindowMemory or ConversationTokenBufferMemoryMigrating off ConversationSummaryMemory or ConversationSummaryBufferMemoryA Long-Term Memory AgentRelease policySecurity PolicyIntroductionOn this pagedanger⚠️ THESE DOCS ARE OUTDATED. Visit the new v1.0 docs\\nIntroduction\\nLangChain is a framework for developing applications powered by large language models (LLMs).\\nLangChain simplifies every stage of the LLM application lifecycle:\\n\\nDevelopment: Build your applications using LangChain\\'s open-source components and third-party integrations.\\nUse LangGraph to build stateful agents with first-class streaming and human-in-the-loop support.\\nProductionization: Use LangSmith to inspect, monitor and evaluate your applications, so that you can continuously optimize and deploy with confidence.\\nDeployment: Turn your LangGraph applications into production-ready APIs and Assistants with LangGraph Platform.\\n\\n\\n\\nLangChain implements a standard interface for large language models and related\\ntechnologies, such as embedding models and vector stores, and integrates with\\nhundreds of providers. See the integrations page for\\nmore.\\n\\nSelect chat model:Google Gemini▾OpenAIAnthropicAzureGoogle GeminiGoogle VertexAWSGroqCohereNVIDIAFireworks AIMistral AITogether AIIBM watsonxDatabricksxAIPerplexityDeepSeekChatOCIGenAIpip install -qU \"langchain[google-genai]\"import getpassimport osif not os.environ.get(\"GOOGLE_API_KEY\"):  os.environ[\"GOOGLE_API_KEY\"] = getpass.getpass(\"Enter API key for Google Gemini: \")from langchain.chat_models import init_chat_modelmodel = init_chat_model(\"gemini-2.5-flash\", model_provider=\"google_genai\")\\nmodel.invoke(\"Hello, world!\")\\nnoteThese docs focus on the Python LangChain library. Head here for docs on the JavaScript LangChain library.\\nArchitecture\\u200b\\nThe LangChain framework consists of multiple open-source libraries. Read more in the\\nArchitecture page.\\n\\nlangchain-core: Base abstractions for chat models and other components.\\nIntegration packages (e.g. langchain-openai, langchain-anthropic, etc.): Important integrations have been split into lightweight packages that are co-maintained by the LangChain team and the integration developers.\\nlangchain: Chains, agents, and retrieval strategies that make up an application\\'s cognitive architecture.\\nlangchain-community: Third-party integrations that are community maintained.\\nlanggraph: Orchestration framework for combining LangChain components into production-ready applications with persistence, streaming, and other key features. See LangGraph documentation.\\n\\nGuides\\u200b\\nTutorials\\u200b\\nIf you\\'re looking to build something specific or are more of a hands-on learner, check out our tutorials section.\\nThis is the best place to get started.\\nThese are the best ones to get started with:\\n\\nBuild a Simple LLM Application\\nBuild a Chatbot\\nBuild an Agent\\nIntroduction to LangGraph\\n\\nExplore the full list of LangChain tutorials here, and check out other LangGraph tutorials here. To learn more about LangGraph, check out our first LangChain Academy course, Introduction to LangGraph, available here.\\nHow-to guides\\u200b\\nHere you’ll find short answers to “How do I….?” types of questions.\\nThese how-to guides don’t cover topics in depth – you’ll find that material in the Tutorials and the API Reference.\\nHowever, these guides will help you quickly accomplish common tasks using chat models,\\nvector stores, and other common LangChain components.\\nCheck out LangGraph-specific how-tos here.\\nConceptual guide\\u200b\\nIntroductions to all the key parts of LangChain you’ll need to know! Here you\\'ll find high level explanations of all LangChain concepts.\\nFor a deeper dive into LangGraph concepts, check out this page.\\nIntegrations\\u200b\\nLangChain is part of a rich ecosystem of tools that integrate with our framework and build on top of it.\\nIf you\\'re looking to get up and running quickly with chat models, vector stores,\\nor other LangChain components from a specific provider, check out our growing list of integrations.\\nAPI reference\\u200b\\nHead to the reference section for full documentation of all classes and methods in the LangChain Python packages.\\nEcosystem\\u200b\\n🦜🛠️ LangSmith\\u200b\\nTrace and evaluate your language model applications and intelligent agents to help you move from prototype to production.\\n🦜🕸️ LangGraph\\u200b\\nBuild stateful, multi-actor applications with LLMs. Integrates smoothly with LangChain, but can be used without it. LangGraph powers production-grade agents, trusted by LinkedIn, Uber, Klarna, GitLab, and many more.\\nAdditional resources\\u200b\\nVersions\\u200b\\nSee what changed in v0.3, learn how to migrate legacy code, read up on our versioning policies, and more.\\nSecurity\\u200b\\nRead up on security best practices to make sure you\\'re developing safely with LangChain.\\nContributing\\u200b\\nCheck out the developer\\'s guide for guidelines on contributing and help getting your dev environment set up.Edit this pageNextindexArchitectureGuidesTutorialsHow-to guidesConceptual guideIntegrationsAPI referenceEcosystem🦜🛠️ LangSmith🦜🕸️ LangGraphAdditional resourcesVersionsSecurityContributingCommunityLangChain ForumTwitterSlackGitHubOrganizationPythonJS/TSMoreHomepageBlogYouTubeCopyright © 2025 LangChain, Inc.\\n\\n')]\n"
     ]
    }
   ],
   "source": [
    "print(result[\"source_documents\"])"
   ]
  }
 ],
 "metadata": {
  "kernelspec": {
   "display_name": ".venv",
   "language": "python",
   "name": "python3"
  },
  "language_info": {
   "codemirror_mode": {
    "name": "ipython",
    "version": 3
   },
   "file_extension": ".py",
   "mimetype": "text/x-python",
   "name": "python",
   "nbconvert_exporter": "python",
   "pygments_lexer": "ipython3",
   "version": "3.13.7"
  }
 },
 "nbformat": 4,
 "nbformat_minor": 5
}
