{
 "cells": [
  {
   "cell_type": "markdown",
   "id": "0bc3279b",
   "metadata": {},
   "source": [
    "# Introducción a las Bases de Datos Vectoriales con ChromaDB"
   ]
  },
  {
   "cell_type": "markdown",
   "id": "f60cac82",
   "metadata": {},
   "source": [
    "## 🎯 Objetivo\n",
    "\n",
    "Que el alumno entienda:\n",
    "\n",
    " 1. Qué son los embeddings.\n",
    "\n",
    " 2. Cómo se almacenan y consultan en una base de datos vectorial.\n",
    "\n",
    " 3. Cómo se realiza una búsqueda semántica.\n",
    "\n",
    " 4. Cómo interpretar los resultados.\n",
    "\n",
    "## 🧩 Conceptos previos\n",
    "\n",
    "Un embedding convierte texto en un vector numérico (una lista de números) que representa su significado.\n",
    "\n",
    "Una base de datos vectorial guarda esos vectores y permite buscar los más similares semánticamente.\n",
    "\n",
    "## ⚙️ Configuración inicial\n",
    "🧱 Instalación de dependencias\n",
    "\n"
   ]
  },
  {
   "cell_type": "code",
   "execution_count": 1,
   "id": "36031b65",
   "metadata": {},
   "outputs": [],
   "source": [
    "#pip install chromadb sentence-transformers\n"
   ]
  },
  {
   "cell_type": "markdown",
   "id": "9eef21a8",
   "metadata": {},
   "source": [
    "## Paso 1: Crear un conjunto de documentos\n",
    "\n",
    "Creamos una pequeña base de conocimiento (simularemos artículos o fragmentos de texto):"
   ]
  },
  {
   "cell_type": "code",
   "execution_count": 2,
   "id": "a9a1b753",
   "metadata": {},
   "outputs": [
    {
     "name": "stdout",
     "output_type": "stream",
     "text": [
      "Se han creado 5 documentos\n"
     ]
    }
   ],
   "source": [
    "documentos = [\n",
    "    \"La inteligencia artificial es una rama de la informática que busca crear sistemas capaces de realizar tareas que requieren inteligencia humana.\",\n",
    "    \"El aprendizaje automático es un subconjunto de la IA que permite a las máquinas aprender de los datos sin ser programadas explícitamente.\",\n",
    "    \"Las redes neuronales son modelos computacionales inspirados en el cerebro humano, utilizados en deep learning.\",\n",
    "    \"Python es el lenguaje de programación más popular para desarrollar aplicaciones de IA y machine learning.\",\n",
    "    \"Los embeddings son representaciones vectoriales de texto que capturan su significado semántico.\"\n",
    "]\n",
    "\n",
    "print(f\"Se han creado {len(documentos)} documentos\")"
   ]
  },
  {
   "cell_type": "markdown",
   "id": "67725de2",
   "metadata": {},
   "source": [
    "## Paso 2: Crear y poblar una base vectorial con ChromaDB\n",
    "\n",
    "ChromaDB es una base de datos vectorial open source muy fácil de usar en local."
   ]
  },
  {
   "cell_type": "code",
   "execution_count": 5,
   "id": "15125caa",
   "metadata": {},
   "outputs": [
    {
     "name": "stderr",
     "output_type": "stream",
     "text": [
      "c:\\Users\\ST09\\Documents\\GitHub\\STEMIA\\.venv\\Lib\\site-packages\\tqdm\\auto.py:21: TqdmWarning: IProgress not found. Please update jupyter and ipywidgets. See https://ipywidgets.readthedocs.io/en/stable/user_install.html\n",
      "  from .autonotebook import tqdm as notebook_tqdm\n"
     ]
    },
    {
     "name": "stdout",
     "output_type": "stream",
     "text": [
      "Colección 'documentos_ia' creada en ChromaDB\n"
     ]
    },
    {
     "name": "stderr",
     "output_type": "stream",
     "text": [
      "c:\\Users\\ST09\\Documents\\GitHub\\STEMIA\\.venv\\Lib\\site-packages\\huggingface_hub\\file_download.py:143: UserWarning: `huggingface_hub` cache-system uses symlinks by default to efficiently store duplicated files but your machine does not support them in C:\\Users\\ST09\\.cache\\huggingface\\hub\\models--sentence-transformers--all-MiniLM-L6-v2. Caching files will still work but in a degraded version that might require more space on your disk. This warning can be disabled by setting the `HF_HUB_DISABLE_SYMLINKS_WARNING` environment variable. For more details, see https://huggingface.co/docs/huggingface_hub/how-to-cache#limitations.\n",
      "To support symlinks on Windows, you either need to activate Developer Mode or to run Python as an administrator. In order to activate developer mode, see this article: https://docs.microsoft.com/en-us/windows/apps/get-started/enable-your-device-for-development\n",
      "  warnings.warn(message)\n",
      "Xet Storage is enabled for this repo, but the 'hf_xet' package is not installed. Falling back to regular HTTP download. For better performance, install the package with: `pip install huggingface_hub[hf_xet]` or `pip install hf_xet`\n"
     ]
    },
    {
     "name": "stdout",
     "output_type": "stream",
     "text": [
      "Modelo de embeddings 'all-MiniLM-L6-v2' cargado\n",
      "Embeddings generados para los documentos\n"
     ]
    }
   ],
   "source": [
    "import chromadb\n",
    "from chromadb.config import Settings\n",
    "from sentence_transformers import SentenceTransformer\n",
    "\n",
    "# Configurar el cliente de ChromaDB\n",
    "client = chromadb.Client()\n",
    "\n",
    "# Crear una colección en ChromaDB\n",
    "collection = client.create_collection(name=\"documentos_ia\")\n",
    "print(\"Colección 'documentos_ia' creada en ChromaDB\")\n",
    "\n",
    "# Cargar el modelo de embeddings\n",
    "model = SentenceTransformer('all-MiniLM-L6-v2')\n",
    "print(\"Modelo de embeddings 'all-MiniLM-L6-v2' cargado\")\n",
    "\n",
    "# Generar embeddings para los documentos\n",
    "embeddings = model.encode(documentos)\n",
    "print(\"Embeddings generados para los documentos\")\n",
    "\n",
    "# Agregar documentos y sus embeddings a la colección\n",
    "collection.add(\n",
    "    documents=documentos,\n",
    "    embeddings=embeddings.tolist(),\n",
    "    ids=[str(i) for i in range(len(documentos))]\n",
    ")\n"
   ]
  },
  {
   "cell_type": "markdown",
   "id": "846a32ad",
   "metadata": {},
   "source": [
    "## Paso 3: Realizar una búsqueda semántica\n",
    "\n",
    "Ahora haremos una consulta: ChromaDB convertirá la pregunta en un embedding y buscará los documentos más similares.\n",
    "\n"
   ]
  },
  {
   "cell_type": "code",
   "execution_count": null,
   "id": "5fa09a35",
   "metadata": {},
   "outputs": [
    {
     "name": "stdout",
     "output_type": "stream",
     "text": [
      "Consulta realizada: '¿Qué es el aprendizaje automático?'\n",
      "Resultados de la consulta:\n",
      "- Documento ID 1 (Score: 0.6602): El aprendizaje automático es un subconjunto de la IA que permite a las máquinas aprender de los datos sin ser programadas explícitamente.\n",
      "- Documento ID 0 (Score: 0.8845): La inteligencia artificial es una rama de la informática que busca crear sistemas capaces de realizar tareas que requieren inteligencia humana.\n",
      "- Documento ID 3 (Score: 1.1910): Python es el lenguaje de programación más popular para desarrollar aplicaciones de IA y machine learning.\n"
     ]
    }
   ],
   "source": [
    "consulta = \"¿Qué es el aprendizaje automático?\"\n",
    "# Generar embedding para la consulta\n",
    "consulta_embedding = model.encode([consulta])[0]\n",
    "\n",
    "# Realizar una consulta de similitud\n",
    "results = collection.query(\n",
    "    query_embeddings=[consulta_embedding.tolist()],\n",
    "    n_results=3\n",
    ")\n",
    "\n",
    "print(f\"Consulta realizada: '{consulta}'\")\n",
    "print(\"Resultados de la consulta:\")\n",
    "for doc_id, score in zip(results['ids'][0], results['distances'][0]):\n",
    "    index = int(doc_id)\n",
    "    print(f\"- Documento ID {doc_id} (Score: {score:.4f}): {documentos[index]}\")\n",
    "    "
   ]
  },
  {
   "cell_type": "markdown",
   "id": "f562b6b6",
   "metadata": {},
   "source": [
    "## Paso 4: Agregar nuevos documentos\n",
    "\n",
    "Permite ampliar la colección con nueva información."
   ]
  },
  {
   "cell_type": "code",
   "execution_count": null,
   "id": "e9f2cc93",
   "metadata": {},
   "outputs": [],
   "source": [
    "nuevos_documentos = [\n",
    "    \"La visión por computadora es una disciplina que permite a las máquinas interpretar y comprender imágenes y videos.\",\n",
    "    \"El procesamiento del lenguaje natural se enfoca en la interacción entre computadoras y el lenguaje humano.\"\n",
    "]\n",
    "\n",
    "collection.add(\n",
    "    documents=nuevos_documentos,\n",
    "    embeddings=model.encode(nuevos_documentos).tolist(),\n",
    "    ids=[str(i) for i in range(len(nuevos_documentos))]\n",
    ")\n",
    "print(f\"{len(nuevos_documentos)} nuevos documentos agregados a la colección 'documentos_ia'\")\n"
   ]
  },
  {
   "cell_type": "markdown",
   "id": "6b5a3135",
   "metadata": {},
   "source": [
    "### Preguntas teóricas \n",
    "\n",
    "- ¿Qué diferencia hay entre una búsqueda por palabras clave y una búsqueda vectorial?\n",
    "\n",
    "- ¿Por qué la similitud semántica es más útil en sistemas con lenguaje natural?\n",
    "\n",
    "- ¿Qué papel juega el modelo de embeddings en la precisión del sistema?\n",
    "\n",
    "- Si quisieras usar imágenes en lugar de texto, ¿qué cambiaría en la base de datos vectorial?"
   ]
  }
 ],
 "metadata": {
  "kernelspec": {
   "display_name": ".venv",
   "language": "python",
   "name": "python3"
  },
  "language_info": {
   "codemirror_mode": {
    "name": "ipython",
    "version": 3
   },
   "file_extension": ".py",
   "mimetype": "text/x-python",
   "name": "python",
   "nbconvert_exporter": "python",
   "pygments_lexer": "ipython3",
   "version": "3.13.7"
  }
 },
 "nbformat": 4,
 "nbformat_minor": 5
}
