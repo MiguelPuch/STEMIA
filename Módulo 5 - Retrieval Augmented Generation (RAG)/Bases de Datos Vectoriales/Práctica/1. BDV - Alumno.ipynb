{
 "cells": [
  {
   "cell_type": "markdown",
   "id": "0bc3279b",
   "metadata": {},
   "source": [
    "# Introducción a las Bases de Datos Vectoriales con ChromaDB"
   ]
  },
  {
   "cell_type": "markdown",
   "id": "f60cac82",
   "metadata": {},
   "source": [
    "## 🎯 Objetivo\n",
    "\n",
    "Que el alumno entienda:\n",
    "\n",
    " 1. Qué son los embeddings.\n",
    "\n",
    " 2. Cómo se almacenan y consultan en una base de datos vectorial.\n",
    "\n",
    " 3. Cómo se realiza una búsqueda semántica.\n",
    "\n",
    " 4. Cómo interpretar los resultados.\n",
    "\n",
    "## 🧩 Conceptos previos\n",
    "\n",
    "Un embedding convierte texto en un vector numérico (una lista de números) que representa su significado.\n",
    "\n",
    "Una base de datos vectorial guarda esos vectores y permite buscar los más similares semánticamente.\n",
    "\n",
    "## ⚙️ Configuración inicial\n",
    "🧱 Instalación de dependencias\n",
    "\n"
   ]
  },
  {
   "cell_type": "code",
   "execution_count": null,
   "id": "36031b65",
   "metadata": {
    "vscode": {
     "languageId": "plaintext"
    }
   },
   "outputs": [],
   "source": [
    "#pip install chromadb sentence-transformers\n"
   ]
  },
  {
   "cell_type": "markdown",
   "id": "9eef21a8",
   "metadata": {},
   "source": [
    "## Paso 1: Crear un conjunto de documentos\n",
    "\n",
    "Creamos una pequeña base de conocimiento (simularemos artículos o fragmentos de texto):"
   ]
  },
  {
   "cell_type": "markdown",
   "id": "67725de2",
   "metadata": {},
   "source": [
    "## Paso 2: Crear y poblar una base vectorial con ChromaDB\n",
    "\n",
    "ChromaDB es una base de datos vectorial open source muy fácil de usar en local."
   ]
  },
  {
   "cell_type": "markdown",
   "id": "846a32ad",
   "metadata": {},
   "source": [
    "## Paso 3: Realizar una búsqueda semántica\n",
    "\n",
    "Ahora haremos una consulta: ChromaDB convertirá la pregunta en un embedding y buscará los documentos más similares.\n",
    "\n"
   ]
  },
  {
   "cell_type": "markdown",
   "id": "f562b6b6",
   "metadata": {},
   "source": [
    "## Paso 4: Agregar nuevos documentos\n",
    "\n",
    "Permite ampliar la colección con nueva información."
   ]
  },
  {
   "cell_type": "markdown",
   "id": "6b5a3135",
   "metadata": {},
   "source": [
    "### Preguntas teóricas \n",
    "\n",
    "- ¿Qué diferencia hay entre una búsqueda por palabras clave y una búsqueda vectorial?\n",
    "\n",
    "- ¿Por qué la similitud semántica es más útil en sistemas con lenguaje natural?\n",
    "\n",
    "- ¿Qué papel juega el modelo de embeddings en la precisión del sistema?\n",
    "\n",
    "- Si quisieras usar imágenes en lugar de texto, ¿qué cambiaría en la base de datos vectorial?"
   ]
  }
 ],
 "metadata": {
  "language_info": {
   "name": "python"
  }
 },
 "nbformat": 4,
 "nbformat_minor": 5
}
