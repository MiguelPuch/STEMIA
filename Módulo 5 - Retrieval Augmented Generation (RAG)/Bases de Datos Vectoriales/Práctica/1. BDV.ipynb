{
 "cells": [
  {
   "cell_type": "markdown",
   "id": "0bc3279b",
   "metadata": {},
   "source": [
    "# Introducción a las Bases de Datos Vectoriales con ChromaDB"
   ]
  },
  {
   "cell_type": "markdown",
   "id": "f60cac82",
   "metadata": {},
   "source": [
    "## 🎯 Objetivo\n",
    "\n",
    "Que el alumno entienda:\n",
    "\n",
    " 1. Qué son los embeddings.\n",
    "\n",
    " 2. Cómo se almacenan y consultan en una base de datos vectorial.\n",
    "\n",
    " 3. Cómo se realiza una búsqueda semántica.\n",
    "\n",
    " 4. Cómo interpretar los resultados.\n",
    "\n",
    "## 🧩 Conceptos previos\n",
    "\n",
    "Un embedding convierte texto en un vector numérico (una lista de números) que representa su significado.\n",
    "\n",
    "Una base de datos vectorial guarda esos vectores y permite buscar los más similares semánticamente.\n",
    "\n",
    "## ⚙️ Configuración inicial\n",
    "🧱 Instalación de dependencias\n",
    "\n"
   ]
  },
  {
   "cell_type": "code",
   "execution_count": null,
   "id": "36031b65",
   "metadata": {
    "vscode": {
     "languageId": "plaintext"
    }
   },
   "outputs": [],
   "source": [
    "#pip install chromadb sentence-transformers\n"
   ]
  },
  {
   "cell_type": "markdown",
   "id": "9eef21a8",
   "metadata": {},
   "source": [
    "## Paso 1: Crear un conjunto de documentos\n",
    "\n",
    "Creamos una pequeña base de conocimiento (simularemos artículos o fragmentos de texto):"
   ]
  },
  {
   "cell_type": "code",
   "execution_count": null,
   "id": "959c5880",
   "metadata": {
    "vscode": {
     "languageId": "plaintext"
    }
   },
   "outputs": [],
   "source": [
    "# Paso 1: Base de datos textual\n",
    "documentos = [\n",
    "    \"Los gatos son animales domésticos muy populares por su independencia.\",\n",
    "    \"Los perros son conocidos por su lealtad y su capacidad de aprendizaje.\",\n",
    "    \"Las ballenas son mamíferos acuáticos que viven en los océanos.\",\n",
    "    \"El sol es una estrella que proporciona energía a la Tierra.\",\n",
    "    \"La Luna influye en las mareas del planeta.\"\n",
    "]\n"
   ]
  },
  {
   "cell_type": "markdown",
   "id": "67725de2",
   "metadata": {},
   "source": [
    "## Paso 2: Crear y poblar una base vectorial con ChromaDB\n",
    "\n",
    "ChromaDB es una base de datos vectorial open source muy fácil de usar en local."
   ]
  },
  {
   "cell_type": "code",
   "execution_count": null,
   "id": "1736061e",
   "metadata": {
    "vscode": {
     "languageId": "plaintext"
    }
   },
   "outputs": [],
   "source": [
    "# Paso 2: Crear una base de datos vectorial\n",
    "import chromadb\n",
    "from chromadb.utils import embedding_functions\n",
    "\n",
    "# Crear cliente local de ChromaDB\n",
    "cliente = chromadb.Client()\n",
    "\n",
    "# Crear una colección (tabla de vectores)\n",
    "coleccion = cliente.create_collection(name=\"animales_astronomia\")\n",
    "\n",
    "# Crear la función de embeddings usando un modelo de Sentence Transformers\n",
    "embeddings = embedding_functions.SentenceTransformerEmbeddingFunction(model_name=\"all-MiniLM-L6-v2\")\n",
    "\n",
    "# Insertar documentos en la colección\n",
    "coleccion.add(\n",
    "    documents=documentos,\n",
    "    ids=[str(i) for i in range(len(documentos))]\n",
    ")\n",
    "\n",
    "print(\"✅ Se crearon e insertaron los documentos en la base vectorial.\")"
   ]
  },
  {
   "cell_type": "markdown",
   "id": "846a32ad",
   "metadata": {},
   "source": [
    "## Paso 3: Realizar una búsqueda semántica\n",
    "\n",
    "Ahora haremos una consulta: ChromaDB convertirá la pregunta en un embedding y buscará los documentos más similares.\n",
    "\n"
   ]
  },
  {
   "cell_type": "code",
   "execution_count": null,
   "id": "69e4ef89",
   "metadata": {
    "vscode": {
     "languageId": "plaintext"
    }
   },
   "outputs": [],
   "source": [
    "# Paso 3: Consulta semántica\n",
    "pregunta = \"¿Qué animales viven en el océano?\"\n",
    "\n",
    "# Buscar en la colección\n",
    "resultados = coleccion.query(\n",
    "    query_texts=[pregunta],\n",
    "    n_results=2  # cantidad de resultados a mostrar\n",
    ")\n",
    "\n",
    "print(\"🔍 Resultados encontrados:\\n\")\n",
    "for doc, distancia in zip(resultados[\"documents\"][0], resultados[\"distances\"][0]):\n",
    "    print(f\"Documento: {doc}\")\n",
    "    print(f\"Similitud: {1 - distancia:.4f}\")  # 1 - distancia = similitud\n",
    "    print(\"-\" * 60)"
   ]
  },
  {
   "cell_type": "markdown",
   "id": "f562b6b6",
   "metadata": {},
   "source": [
    "## Paso 4: Agregar nuevos documentos\n",
    "\n",
    "Permite ampliar la colección con nueva información."
   ]
  },
  {
   "cell_type": "code",
   "execution_count": null,
   "id": "71be694f",
   "metadata": {
    "vscode": {
     "languageId": "plaintext"
    }
   },
   "outputs": [],
   "source": [
    "# Paso 4: Añadir nuevos textos a la base vectorial\n",
    "nuevos_docs = [\n",
    "    \"El telescopio Hubble ha permitido estudiar galaxias lejanas.\",\n",
    "    \"Los delfines son mamíferos marinos altamente inteligentes.\"\n",
    "]\n",
    "\n",
    "coleccion.add(\n",
    "    documents=nuevos_docs,\n",
    "    ids=[str(i) for i in range(len(documentos), len(documentos) + len(nuevos_docs))]\n",
    ")\n",
    "\n",
    "print(\"✅ Se añadieron nuevos documentos.\")\n"
   ]
  },
  {
   "cell_type": "markdown",
   "id": "6b5a3135",
   "metadata": {},
   "source": [
    "### Preguntas teóricas \n",
    "\n",
    "- ¿Qué diferencia hay entre una búsqueda por palabras clave y una búsqueda vectorial?\n",
    "\n",
    "- ¿Por qué la similitud semántica es más útil en sistemas con lenguaje natural?\n",
    "\n",
    "- ¿Qué papel juega el modelo de embeddings en la precisión del sistema?\n",
    "\n",
    "- Si quisieras usar imágenes en lugar de texto, ¿qué cambiaría en la base de datos vectorial?"
   ]
  }
 ],
 "metadata": {
  "language_info": {
   "name": "python"
  }
 },
 "nbformat": 4,
 "nbformat_minor": 5
}
