{
 "cells": [
  {
   "cell_type": "markdown",
   "id": "9f9f45b9",
   "metadata": {},
   "source": [
    "# Práctica: Introducción a las Bases de Datos Vectoriales con ChromaDB"
   ]
  },
  {
   "cell_type": "markdown",
   "id": "7b20e06b",
   "metadata": {},
   "source": [
    "## ChromaDB\n",
    "🎯 Objetivo\n",
    "\n",
    "Aplicar los conceptos de embeddings, búsqueda semántica y bases de datos vectoriales utilizando Python y la librería ChromaDB."
   ]
  },
  {
   "cell_type": "markdown",
   "id": "45cfc89e",
   "metadata": {},
   "source": [
    "## ⚙️ Requisitos previos\n",
    "\n",
    "Instala las librerías necesarias antes de comenzar:"
   ]
  },
  {
   "cell_type": "code",
   "execution_count": null,
   "id": "c77e640e",
   "metadata": {
    "vscode": {
     "languageId": "plaintext"
    }
   },
   "outputs": [],
   "source": [
    "# pip install chromadb sentence-transformers\n"
   ]
  },
  {
   "cell_type": "markdown",
   "id": "81268be7",
   "metadata": {},
   "source": [
    "## Ejercicio 1: Crear una base de textos\n",
    "\n",
    "- Crea una lista en Python con mínimo 8 frases o párrafos cortos sobre distintos temas (por ejemplo: animales, espacio, deportes, tecnología).\n",
    "\n",
    "- Guarda esas frases en una variable llamada documentos.\n",
    "\n",
    "- Muestra por pantalla la cantidad de documentos que tienes."
   ]
  },
  {
   "cell_type": "markdown",
   "id": "8b1ff63a",
   "metadata": {},
   "source": [
    "## Ejercicio 2: Crear una base vectorial\n",
    "\n",
    "- Importa y configura ChromaDB.\n",
    "\n",
    "- Crea una colección llamada \"base_conocimiento\".\n",
    "\n",
    "- Inserta los documentos creados en el paso anterior.\n",
    "\n",
    "- Verifica que los documentos se hayan añadido correctamente mostrando sus IDs."
   ]
  },
  {
   "cell_type": "markdown",
   "id": "7d995bd4",
   "metadata": {},
   "source": [
    "## Ejercicio 3: Búsqueda semántica\n",
    "\n",
    "- Define una consulta (por ejemplo: \"¿Qué animales viven en el mar?\").\n",
    "\n",
    "- Usa el método coleccion.query() para buscar los 3 documentos más similares a tu pregunta.\n",
    "\n",
    "- Muestra los textos recuperados y su nivel de similitud.\n",
    "\n",
    "- Analiza brevemente (en comentarios) si los resultados tienen sentido semántico."
   ]
  },
  {
   "cell_type": "markdown",
   "id": "ab5c8b42",
   "metadata": {},
   "source": [
    "## Ejercicio 4: Añadir nueva información\n",
    "\n",
    "- Agrega 2 nuevos textos a la colección con información relacionada con alguno de los temas.\n",
    "\n",
    "- Repite la búsqueda del paso anterior.\n",
    "\n",
    "- Observa si los resultados cambian o mejoran."
   ]
  },
  {
   "cell_type": "markdown",
   "id": "7d2f8936",
   "metadata": {},
   "source": [
    "## Ejercicio 5: Comparación de similitud entre textos\n",
    "\n",
    "- Elige dos documentos diferentes.\n",
    "\n",
    "  Calcula su similitud de coseno usando un modelo de embeddings (por ejemplo: SentenceTransformer(\"all-MiniLM-L6-v2\")).\n",
    "\n",
    "  Interpreta el resultado:\n",
    "\n",
    "- ¿Tienen relación semántica?\n",
    "\n",
    "- ¿Qué valor de similitud obtuviste?"
   ]
  },
  {
   "cell_type": "markdown",
   "id": "9aae1b07",
   "metadata": {},
   "source": [
    "## Ejercicio 6: Reflexión final\n",
    "\n",
    "- Responde brevemente (en comentarios o texto):\n",
    "\n",
    "   ¿Qué ventajas tiene una base de datos vectorial frente a una tradicional?\n",
    "\n",
    "   ¿Qué papel cumplen los embeddings en este proceso?\n",
    "\n",
    "   ¿Cómo podría aplicarse este tipo de tecnología en un chatbot o asistente virtual?"
   ]
  }
 ],
 "metadata": {
  "language_info": {
   "name": "python"
  }
 },
 "nbformat": 4,
 "nbformat_minor": 5
}
