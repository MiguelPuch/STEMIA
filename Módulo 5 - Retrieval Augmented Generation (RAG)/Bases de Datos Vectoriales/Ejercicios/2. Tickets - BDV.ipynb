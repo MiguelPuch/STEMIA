{
 "cells": [
  {
   "cell_type": "markdown",
   "id": "7d21f57a",
   "metadata": {},
   "source": [
    "# Asistente de soporte inteligente para una empresa de tecnología"
   ]
  },
  {
   "cell_type": "markdown",
   "id": "bcf86f31",
   "metadata": {},
   "source": [
    "Una empresa de software llamada TechNova tiene miles de tickets de soporte de sus clientes acumulados en su sistema.\n",
    "\n",
    "Cada ticket contiene:\n",
    "\n",
    "- El texto de la consulta del cliente.\n",
    "\n",
    "- El tipo de problema (categoría: instalación, conexión, errores, licencias, etc.).\n",
    "\n",
    "- Y una respuesta técnica redactada por los agentes.\n",
    "\n",
    "El departamento de soporte quiere crear un asistente interno inteligente que, al recibir una nueva consulta, recomiende los tickets anteriores más parecidos en significado (aunque usen palabras diferentes), para ayudar a los agentes a responder más rápido.\n",
    "\n",
    "Tu grupo fue contratado para crear un prototipo funcional de ese sistema en VS Code, usando una base de datos vectorial."
   ]
  },
  {
   "cell_type": "markdown",
   "id": "e970aa2e",
   "metadata": {},
   "source": [
    "## Objetivo general\n",
    "\n",
    "Desarrollar un programa en Python que:\n",
    "\n",
    "1. Lea un conjunto de tickets de soporte almacenados en un archivo.\n",
    "\n",
    "2. Genere embeddings para cada ticket (texto de problema).\n",
    "\n",
    "3. Los almacene en una base de datos vectorial.\n",
    "\n",
    "4. Permita ingresar una nueva consulta del cliente.\n",
    "\n",
    "5. Devuelva los tickets más similares en significado, junto con su respuesta original."
   ]
  },
  {
   "cell_type": "markdown",
   "id": "4565bb93",
   "metadata": {},
   "source": [
    "## Herramientas y tecnologías sugeridas\n",
    "\n",
    "Python 3.10+\n",
    "\n",
    "VS Code\n",
    "\n",
    "Librerías:\n"
   ]
  },
  {
   "cell_type": "code",
   "execution_count": null,
   "id": "b7fd01b7",
   "metadata": {},
   "outputs": [],
   "source": [
    "pip install chromadb sentence-transformers pandas"
   ]
  },
  {
   "cell_type": "code",
   "execution_count": null,
   "id": "c854b52f",
   "metadata": {},
   "outputs": [],
   "source": []
  },
  {
   "cell_type": "markdown",
   "id": "bd724652",
   "metadata": {},
   "source": [
    "## Preguntas\n",
    "\n",
    "1. Diseño del vector\n",
    "\n",
    "- ¿Qué campos del ticket deben incluirse en el texto del embedding (solo “problema” o también “categoría”)?\n",
    "\n",
    "- ¿Cómo afectaría esto los resultados?\n",
    "\n",
    "2. Elección de métrica\n",
    "\n",
    "- ¿Por qué es mejor usar cosine similarity que distancia euclidiana para texto?\n",
    "\n",
    "3. Optimización\n",
    "\n",
    "- ¿Qué pasaría si hay 100 000 tickets?\n",
    "\n",
    "- ¿Qué tipo de indexación sería más eficiente (HNSW, IVF, PQ)?\n",
    "\n",
    "4. Interpretación\n",
    "\n",
    "- Si los tres tickets más similares pertenecen a la misma categoría, ¿qué conclusión se puede sacar?\n",
    "\n",
    "5. Ampliación (opcional)\n",
    "\n",
    "- ¿Cómo integrarían este sistema en una interfaz web o chatbot?"
   ]
  }
 ],
 "metadata": {
  "kernelspec": {
   "display_name": "myenv",
   "language": "python",
   "name": "python3"
  },
  "language_info": {
   "codemirror_mode": {
    "name": "ipython",
    "version": 3
   },
   "file_extension": ".py",
   "mimetype": "text/x-python",
   "name": "python",
   "nbconvert_exporter": "python",
   "pygments_lexer": "ipython3",
   "version": "3.11.11"
  }
 },
 "nbformat": 4,
 "nbformat_minor": 5
}
