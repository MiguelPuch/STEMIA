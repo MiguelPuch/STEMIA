{
 "cells": [
  {
   "cell_type": "markdown",
   "id": "7d21f57a",
   "metadata": {},
   "source": [
    "# Asistente de soporte inteligente para una empresa de tecnología"
   ]
  },
  {
   "cell_type": "markdown",
   "id": "bcf86f31",
   "metadata": {},
   "source": [
    "Una empresa de software llamada TechNova tiene miles de tickets de soporte de sus clientes acumulados en su sistema.\n",
    "\n",
    "Cada ticket contiene:\n",
    "\n",
    "- El texto de la consulta del cliente.\n",
    "\n",
    "- El tipo de problema (categoría: instalación, conexión, errores, licencias, etc.).\n",
    "\n",
    "- Y una respuesta técnica redactada por los agentes.\n",
    "\n",
    "El departamento de soporte quiere crear un asistente interno inteligente que, al recibir una nueva consulta, recomiende los tickets anteriores más parecidos en significado (aunque usen palabras diferentes), para ayudar a los agentes a responder más rápido."
   ]
  },
  {
   "cell_type": "markdown",
   "id": "e970aa2e",
   "metadata": {},
   "source": [
    "## Objetivo general\n",
    "\n",
    "Desarrollar un programa en Python que:\n",
    "\n",
    "1. Carga el archivo csv de tickets.\n",
    "\n",
    "2. Genera embeddings para cada ticket (texto de problema).\n",
    "\n",
    "3. Almacena en una base de datos vectorial.\n",
    "\n",
    "4. Permite ingresar una nueva consulta del cliente.\n",
    "\n",
    "5. Devuelve los tickets más similares en significado, junto con su respuesta original."
   ]
  },
  {
   "cell_type": "code",
   "execution_count": 1,
   "id": "9cc861e8",
   "metadata": {},
   "outputs": [
    {
     "data": {
      "text/html": [
       "<div>\n",
       "<style scoped>\n",
       "    .dataframe tbody tr th:only-of-type {\n",
       "        vertical-align: middle;\n",
       "    }\n",
       "\n",
       "    .dataframe tbody tr th {\n",
       "        vertical-align: top;\n",
       "    }\n",
       "\n",
       "    .dataframe thead th {\n",
       "        text-align: right;\n",
       "    }\n",
       "</style>\n",
       "<table border=\"1\" class=\"dataframe\">\n",
       "  <thead>\n",
       "    <tr style=\"text-align: right;\">\n",
       "      <th></th>\n",
       "      <th>id</th>\n",
       "      <th>categoria</th>\n",
       "      <th>problema</th>\n",
       "      <th>respuesta</th>\n",
       "    </tr>\n",
       "  </thead>\n",
       "  <tbody>\n",
       "    <tr>\n",
       "      <th>0</th>\n",
       "      <td>1</td>\n",
       "      <td>Instalación</td>\n",
       "      <td>No puedo instalar el software en Windows 11</td>\n",
       "      <td>Verifica que tengas permisos de administrador ...</td>\n",
       "    </tr>\n",
       "    <tr>\n",
       "      <th>1</th>\n",
       "      <td>2</td>\n",
       "      <td>Conexión</td>\n",
       "      <td>El programa no se conecta a la base de datos</td>\n",
       "      <td>Revisa el puerto y las credenciales en el arch...</td>\n",
       "    </tr>\n",
       "    <tr>\n",
       "      <th>2</th>\n",
       "      <td>3</td>\n",
       "      <td>Error</td>\n",
       "      <td>Aparece un mensaje 'Invalid License Key' al ab...</td>\n",
       "      <td>Asegúrate de que la licencia esté activa y vin...</td>\n",
       "    </tr>\n",
       "    <tr>\n",
       "      <th>3</th>\n",
       "      <td>4</td>\n",
       "      <td>Rendimiento</td>\n",
       "      <td>El sistema se vuelve lento después de varias h...</td>\n",
       "      <td>Reinicia el servicio y limpia la caché temporal.</td>\n",
       "    </tr>\n",
       "    <tr>\n",
       "      <th>4</th>\n",
       "      <td>5</td>\n",
       "      <td>Instalación</td>\n",
       "      <td>La instalación se detiene al 50% sin error vis...</td>\n",
       "      <td>Cierra otros programas y vuelve a ejecutar el ...</td>\n",
       "    </tr>\n",
       "  </tbody>\n",
       "</table>\n",
       "</div>"
      ],
      "text/plain": [
       "   id    categoria                                           problema  \\\n",
       "0   1  Instalación        No puedo instalar el software en Windows 11   \n",
       "1   2     Conexión       El programa no se conecta a la base de datos   \n",
       "2   3        Error  Aparece un mensaje 'Invalid License Key' al ab...   \n",
       "3   4  Rendimiento  El sistema se vuelve lento después de varias h...   \n",
       "4   5  Instalación  La instalación se detiene al 50% sin error vis...   \n",
       "\n",
       "                                           respuesta  \n",
       "0  Verifica que tengas permisos de administrador ...  \n",
       "1  Revisa el puerto y las credenciales en el arch...  \n",
       "2  Asegúrate de que la licencia esté activa y vin...  \n",
       "3   Reinicia el servicio y limpia la caché temporal.  \n",
       "4  Cierra otros programas y vuelve a ejecutar el ...  "
      ]
     },
     "execution_count": 1,
     "metadata": {},
     "output_type": "execute_result"
    }
   ],
   "source": [
    "#1. Cargar el archivo CSV de tickets\n",
    "import pandas as pd\n",
    "tickets_df = pd.read_csv('Data/tickets.csv')\n",
    "# Visualizar los primeros registros\n",
    "tickets_df.head()"
   ]
  },
  {
   "cell_type": "code",
   "execution_count": 2,
   "id": "1cf68e5a",
   "metadata": {},
   "outputs": [
    {
     "name": "stderr",
     "output_type": "stream",
     "text": [
      "c:\\Users\\ST09\\Documents\\GitHub\\STEMIA\\.venv\\Lib\\site-packages\\tqdm\\auto.py:21: TqdmWarning: IProgress not found. Please update jupyter and ipywidgets. See https://ipywidgets.readthedocs.io/en/stable/user_install.html\n",
      "  from .autonotebook import tqdm as notebook_tqdm\n"
     ]
    }
   ],
   "source": [
    "#2. Generar embeddings de los tickets\n",
    "from sentence_transformers import SentenceTransformer\n",
    "model = SentenceTransformer('all-MiniLM-L6-v2')\n",
    "\n",
    "# Debemos generarlos para cumplir con: \"recomiende los tickets anteriores más parecidos en significado (aunque usen palabras diferentes), para ayudar a los agentes a responder más rápido.\"\n",
    "embeddings = model.encode(tickets_df['problema'].tolist(), convert_to_tensor=True)\n",
    "tickets_df['embedding'] = embeddings.tolist()\n",
    "\n"
   ]
  },
  {
   "cell_type": "code",
   "execution_count": 3,
   "id": "d0145672",
   "metadata": {},
   "outputs": [],
   "source": [
    "#3. Almacenar los embeddings en una base de datos vectorial\n",
    "import chromadb\n",
    "client = chromadb.Client()\n",
    "collection = client.create_collection(name=\"tickets_collection\")\n",
    "for idx, row in tickets_df.iterrows():\n",
    "    collection.add(\n",
    "        documents=[row['problema']],\n",
    "        metadatas=[{\n",
    "            'ticket_id': int(row['id']), \n",
    "            'categoria': row['categoria'],\n",
    "            'respuesta': row['respuesta']\n",
    "        }],\n",
    "        ids=[str(row['id'])],\n",
    "        embeddings=[row['embedding']]\n",
    "    )"
   ]
  },
  {
   "cell_type": "code",
   "execution_count": 5,
   "id": "8d9216ee",
   "metadata": {},
   "outputs": [],
   "source": [
    "#4. Consultas de los clientes\n",
    "query = input(\"Ingrese la descripción del problema: \")\n",
    "query_embedding = model.encode([query])\n",
    "results = collection.query(\n",
    "    query_embeddings=query_embedding.tolist(),\n",
    "    n_results=5\n",
    ")\n"
   ]
  },
  {
   "cell_type": "code",
   "execution_count": 6,
   "id": "63e798b3",
   "metadata": {},
   "outputs": [
    {
     "name": "stdout",
     "output_type": "stream",
     "text": [
      "\n",
      "Resultados para: 'no se conecta a la base de datos'\n",
      "\n",
      "Ticket ID: 2\n",
      "Categoría: Conexión\n",
      "Problema: El programa no se conecta a la base de datos\n",
      "Respuesta: Revisa el puerto y las credenciales en el archivo de configuración.\n",
      "--------------------------------------------------------------------------------\n",
      "Ticket ID: 12\n",
      "Categoría: Conexión\n",
      "Problema: No puedo sincronizar mis datos entre dispositivos\n",
      "Respuesta: Asegúrate de estar conectado a internet y de usar la misma cuenta en ambos dispositivos.\n",
      "--------------------------------------------------------------------------------\n",
      "Ticket ID: 4\n",
      "Categoría: Rendimiento\n",
      "Problema: El sistema se vuelve lento después de varias horas\n",
      "Respuesta: Reinicia el servicio y limpia la caché temporal.\n",
      "--------------------------------------------------------------------------------\n",
      "Ticket ID: 16\n",
      "Categoría: Actualización\n",
      "Problema: La actualización no descarga correctamente\n",
      "Respuesta: Comprueba tu conexión a internet y vuelve a intentar la actualización manualmente.\n",
      "--------------------------------------------------------------------------------\n",
      "Ticket ID: 21\n",
      "Categoría: Rendimiento\n",
      "Problema: El sistema tarda en cerrar proyectos grandes\n",
      "Respuesta: Guarda los cambios y reinicia la aplicación antes de cerrar grandes proyectos.\n",
      "--------------------------------------------------------------------------------\n"
     ]
    }
   ],
   "source": [
    "#5. Mostrar resultados: tickets más similares en significado, junto con respuesta\n",
    "print(f\"\\nResultados para: '{query}'\\n\")\n",
    "for i in range(len(results['ids'][0])):\n",
    "    ticket_id = results['ids'][0][i]\n",
    "    problema = results['documents'][0][i]\n",
    "    metadata = results['metadatas'][0][i]\n",
    "    \n",
    "    print(f\"Ticket ID: {ticket_id}\")\n",
    "    print(f\"Categoría: {metadata['categoria']}\")\n",
    "    print(f\"Problema: {problema}\")\n",
    "    print(f\"Respuesta: {metadata['respuesta']}\")\n",
    "    print(\"-\" * 80)\n"
   ]
  },
  {
   "cell_type": "markdown",
   "id": "4565bb93",
   "metadata": {},
   "source": [
    "## Herramientas y tecnologías sugeridas\n",
    "\n",
    "Python 3.10+\n",
    "\n",
    "VS Code\n",
    "\n",
    "Librerías:\n"
   ]
  },
  {
   "cell_type": "code",
   "execution_count": null,
   "id": "b7fd01b7",
   "metadata": {},
   "outputs": [],
   "source": [
    "pip install chromadb sentence-transformers pandas"
   ]
  },
  {
   "cell_type": "code",
   "execution_count": null,
   "id": "c854b52f",
   "metadata": {},
   "outputs": [],
   "source": []
  },
  {
   "cell_type": "markdown",
   "id": "bd724652",
   "metadata": {},
   "source": [
    "## Preguntas\n",
    "\n",
    "1. Diseño del vector\n",
    "\n",
    "- ¿Qué campos del ticket deben incluirse en el texto del embedding (solo “problema” o también “categoría”)?\n",
    "\n",
    "- ¿Cómo afectaría esto los resultados?\n",
    "\n",
    "2. Elección de métrica\n",
    "\n",
    "- ¿Por qué es mejor usar cosine similarity que distancia euclidiana para texto?\n",
    "\n",
    "3. Optimización\n",
    "\n",
    "- ¿Qué pasaría si hay 100 000 tickets?\n",
    "\n",
    "- ¿Qué tipo de indexación sería más eficiente (HNSW, IVF, PQ)?\n",
    "\n",
    "4. Interpretación\n",
    "\n",
    "- Si los tres tickets más similares pertenecen a la misma categoría, ¿qué conclusión se puede sacar?\n",
    "\n",
    "5. Ampliación (opcional)\n",
    "\n",
    "- ¿Cómo integrarían este sistema en una interfaz web o chatbot?"
   ]
  }
 ],
 "metadata": {
  "kernelspec": {
   "display_name": ".venv",
   "language": "python",
   "name": "python3"
  },
  "language_info": {
   "codemirror_mode": {
    "name": "ipython",
    "version": 3
   },
   "file_extension": ".py",
   "mimetype": "text/x-python",
   "name": "python",
   "nbconvert_exporter": "python",
   "pygments_lexer": "ipython3",
   "version": "3.13.7"
  }
 },
 "nbformat": 4,
 "nbformat_minor": 5
}
