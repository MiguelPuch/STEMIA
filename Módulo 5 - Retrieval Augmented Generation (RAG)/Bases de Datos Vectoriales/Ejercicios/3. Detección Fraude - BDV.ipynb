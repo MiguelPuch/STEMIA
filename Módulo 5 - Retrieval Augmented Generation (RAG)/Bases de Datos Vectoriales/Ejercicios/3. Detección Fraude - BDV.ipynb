{
 "cells": [
  {
   "cell_type": "markdown",
   "id": "11920cbf",
   "metadata": {},
   "source": [
    "# Detección de patrones de fraude en transacciones"
   ]
  },
  {
   "cell_type": "markdown",
   "id": "69b89f9b",
   "metadata": {},
   "source": [
    "Una empresa fintech quiere analizar transacciones bancarias para detectar posibles fraudes.\n",
    "Cada transacción tiene:\n",
    "\n",
    "* Monto\n",
    "\n",
    "* Ubicación\n",
    "\n",
    "* Hora\n",
    "\n",
    "* Categoría del gasto\n",
    "\n",
    "* Descripción opcional\n",
    "\n",
    "Tu tarea es usar embeddings vectoriales para detectar transacciones sospechosas, comparando una transacción nueva con patrones históricos."
   ]
  },
  {
   "cell_type": "markdown",
   "id": "55515b27",
   "metadata": {},
   "source": [
    "## Objetivo\n",
    "\n",
    "1. Convertir transacciones históricas en vectores (combinar atributos numéricos y textuales).\n",
    "\n",
    "2. Guardarlas en una base vectorial.\n",
    "\n",
    "3. Evaluar nuevas transacciones comparando su vector con los históricos.\n",
    "\n",
    "4. Indicar cuáles son potencialmente sospechosas, basándose en la similitud con fraudes previos."
   ]
  },
  {
   "cell_type": "code",
   "execution_count": null,
   "id": "e4efda56",
   "metadata": {},
   "outputs": [],
   "source": [
    "#1. "
   ]
  },
  {
   "cell_type": "code",
   "execution_count": null,
   "id": "f74e2068",
   "metadata": {},
   "outputs": [],
   "source": [
    "#2. "
   ]
  },
  {
   "cell_type": "code",
   "execution_count": null,
   "id": "6bee039e",
   "metadata": {},
   "outputs": [],
   "source": [
    "#3."
   ]
  },
  {
   "cell_type": "code",
   "execution_count": null,
   "id": "e5fc4c10",
   "metadata": {},
   "outputs": [],
   "source": [
    "#4."
   ]
  },
  {
   "cell_type": "markdown",
   "id": "bf872700",
   "metadata": {},
   "source": [
    "## Preguntas\n",
    "\n",
    "1. Vectorización:\n",
    "\n",
    "* ¿Cómo combinar atributos numéricos (monto, hora) y textuales (categoría, descripción) en un embedding?\n",
    "\n",
    "* ¿Qué pasa si solo usamos texto o solo números?\n",
    "\n",
    "2. Métrica de similitud:\n",
    "\n",
    "* ¿Conviene cosine similarity, Euclidean, o una combinación?\n",
    "\n",
    "3. Interpretación:\n",
    "\n",
    "* Cómo decidir si una transacción es sospechosa en función de los vecinos más cercanos.\n",
    "\n",
    "4. Opcional:\n",
    "\n",
    "* Filtrar por ubicación o categoría antes de comparar.\n",
    "\n",
    "* Visualizar transacciones sospechosas en un gráfico 2D."
   ]
  }
 ],
 "metadata": {
  "kernelspec": {
   "display_name": "myenv",
   "language": "python",
   "name": "python3"
  },
  "language_info": {
   "codemirror_mode": {
    "name": "ipython",
    "version": 3
   },
   "file_extension": ".py",
   "mimetype": "text/x-python",
   "name": "python",
   "nbconvert_exporter": "python",
   "pygments_lexer": "ipython3",
   "version": "3.11.11"
  }
 },
 "nbformat": 4,
 "nbformat_minor": 5
}
