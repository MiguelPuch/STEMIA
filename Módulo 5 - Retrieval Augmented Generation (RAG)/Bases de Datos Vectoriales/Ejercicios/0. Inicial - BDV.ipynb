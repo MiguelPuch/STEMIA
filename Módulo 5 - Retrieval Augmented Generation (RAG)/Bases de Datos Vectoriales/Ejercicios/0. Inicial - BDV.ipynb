{
 "cells": [
  {
   "cell_type": "markdown",
   "id": "9f9f45b9",
   "metadata": {},
   "source": [
    "# Práctica: Introducción a las Bases de Datos Vectoriales con ChromaDB"
   ]
  },
  {
   "cell_type": "markdown",
   "id": "7b20e06b",
   "metadata": {},
   "source": [
    "## ChromaDB\n",
    "\n",
    " Objetivo\n",
    "\n",
    "Aplicar los conceptos de embeddings, búsqueda semántica y bases de datos vectoriales utilizando Python y la librería ChromaDB."
   ]
  },
  {
   "cell_type": "markdown",
   "id": "45cfc89e",
   "metadata": {},
   "source": [
    "## Requisitos previos\n",
    "\n",
    "Instala las librerías necesarias antes de comenzar:"
   ]
  },
  {
   "cell_type": "code",
   "execution_count": null,
   "id": "c77e640e",
   "metadata": {},
   "outputs": [],
   "source": [
    "# pip install chromadb sentence-transformers\n"
   ]
  },
  {
   "cell_type": "markdown",
   "id": "81268be7",
   "metadata": {},
   "source": [
    "## Ejercicio 1: Crear una base de textos\n",
    "\n",
    "- Crea una lista en Python con mínimo 8 frases o párrafos cortos sobre distintos temas (por ejemplo: animales, espacio, deportes, tecnología).\n",
    "\n",
    "- Guarda esas frases en una variable llamada documentos.\n",
    "\n",
    "- Muestra por pantalla la cantidad de documentos que tienes."
   ]
  },
  {
   "cell_type": "code",
   "execution_count": 1,
   "id": "cc28554f",
   "metadata": {},
   "outputs": [
    {
     "name": "stdout",
     "output_type": "stream",
     "text": [
      "Número de documentos en la colección de deportes: 8\n"
     ]
    }
   ],
   "source": [
    "doc_sport = [\"El fútbol es el deporte más popular del mundo.\",\n",
    "             \"El baloncesto se juega con una pelota y una canasta.\",\n",
    "             \"El tenis se juega en una cancha con una raqueta y una pelota pequeña.\",\n",
    "             \"El atletismo incluye carreras, saltos y lanzamientos.\",\n",
    "             \"La natación es un deporte acuático que se practica en piscinas o en aguas abiertas.\",\n",
    "             \"El ciclismo es una actividad física que se realiza en bicicleta.\",\n",
    "             \"El voleibol es un deporte de equipo que se juega con una pelota y una red.\",\n",
    "             \"El rugby es un deporte de contacto que se juega con una pelota ovalada.\"]\n",
    "\n",
    "print(\"Número de documentos en la colección de deportes:\", len(doc_sport))"
   ]
  },
  {
   "cell_type": "markdown",
   "id": "8b1ff63a",
   "metadata": {},
   "source": [
    "## Ejercicio 2: Crear una base vectorial\n",
    "\n",
    "- Importa y configura ChromaDB.\n",
    "\n",
    "- Crea una colección llamada \"base_conocimiento\".\n",
    "\n",
    "- Inserta los documentos creados en el paso anterior.\n",
    "\n",
    "- Verifica que los documentos se hayan añadido correctamente mostrando sus IDs."
   ]
  },
  {
   "cell_type": "code",
   "execution_count": 2,
   "id": "7e90b4b3",
   "metadata": {},
   "outputs": [
    {
     "name": "stderr",
     "output_type": "stream",
     "text": [
      "c:\\Users\\ST09\\Documents\\GitHub\\STEMIA\\.venv\\Lib\\site-packages\\tqdm\\auto.py:21: TqdmWarning: IProgress not found. Please update jupyter and ipywidgets. See https://ipywidgets.readthedocs.io/en/stable/user_install.html\n",
      "  from .autonotebook import tqdm as notebook_tqdm\n",
      "C:\\Users\\ST09\\.cache\\chroma\\onnx_models\\all-MiniLM-L6-v2\\onnx.tar.gz: 100%|██████████| 79.3M/79.3M [00:25<00:00, 3.24MiB/s]\n"
     ]
    },
    {
     "name": "stdout",
     "output_type": "stream",
     "text": [
      "Documentos insertados en la base de datos.\n",
      "ID: doc_0, Documento: El fútbol es el deporte más popular del mundo.\n",
      "ID: doc_1, Documento: El baloncesto se juega con una pelota y una canasta.\n",
      "ID: doc_2, Documento: El tenis se juega en una cancha con una raqueta y una pelota pequeña.\n",
      "ID: doc_3, Documento: El atletismo incluye carreras, saltos y lanzamientos.\n",
      "ID: doc_4, Documento: La natación es un deporte acuático que se practica en piscinas o en aguas abiertas.\n",
      "ID: doc_5, Documento: El ciclismo es una actividad física que se realiza en bicicleta.\n",
      "ID: doc_6, Documento: El voleibol es un deporte de equipo que se juega con una pelota y una red.\n",
      "ID: doc_7, Documento: El rugby es un deporte de contacto que se juega con una pelota ovalada.\n"
     ]
    }
   ],
   "source": [
    "import chromadb\n",
    "from chromadb.config import Settings\n",
    "from sentence_transformers import SentenceTransformer\n",
    "\n",
    "# Configurar cliente de ChromaDB\n",
    "client = chromadb.Client()\n",
    "\n",
    "# Crear una colección en ChromaDB\n",
    "collection = client.create_collection(name=\"base_conocimiento\")\n",
    "\n",
    "# Insertar documentos en la base de datos\n",
    "for i, doc in enumerate(doc_sport):\n",
    "    collection.add(\n",
    "        documents=[doc],\n",
    "        metadatas=[{\"source\": f\"documento_{i}\"}],\n",
    "        ids=[f\"doc_{i}\"]\n",
    "    )\n",
    "print(\"Documentos insertados en la base de datos.\")\n",
    "for i, doc in enumerate(doc_sport):\n",
    "    print(f\"ID: doc_{i}, Documento: {doc}\")\n"
   ]
  },
  {
   "cell_type": "markdown",
   "id": "7d995bd4",
   "metadata": {},
   "source": [
    "## Ejercicio 3: Búsqueda semántica\n",
    "\n",
    "- Define una consulta (por ejemplo: \"¿Qué animales viven en el mar?\").\n",
    "\n",
    "- Usa el método coleccion.query() para buscar los 3 documentos más similares a tu pregunta.\n",
    "\n",
    "- Muestra los textos recuperados y su nivel de similitud.\n",
    "\n",
    "- Analiza brevemente (en comentarios) si los resultados tienen sentido semántico."
   ]
  },
  {
   "cell_type": "code",
   "execution_count": 3,
   "id": "a37fe847",
   "metadata": {},
   "outputs": [
    {
     "name": "stdout",
     "output_type": "stream",
     "text": [
      "Resultados de la consulta:\n",
      "ID: doc_0, Documento: El fútbol es el deporte más popular del mundo.\n",
      "ID: doc_6, Documento: El voleibol es un deporte de equipo que se juega con una pelota y una red.\n",
      "ID: doc_7, Documento: El rugby es un deporte de contacto que se juega con una pelota ovalada.\n"
     ]
    }
   ],
   "source": [
    "consulta = \"¿Cuál es el deporte más popular del mundo?\"\n",
    "\n",
    "respuesta = collection.query(\n",
    "    query_texts=[consulta],\n",
    "    n_results=3\n",
    ")\n",
    "\n",
    "print(\"Resultados de la consulta:\")\n",
    "for i in range(len(respuesta['ids'][0])):\n",
    "    print(f\"ID: {respuesta['ids'][0][i]}, Documento: {respuesta['documents'][0][i]}\")\n"
   ]
  },
  {
   "cell_type": "markdown",
   "id": "ab5c8b42",
   "metadata": {},
   "source": [
    "## Ejercicio 4: Añadir nueva información\n",
    "\n",
    "- Agrega 2 nuevos textos a la colección con información relacionada con alguno de los temas.\n",
    "\n",
    "- Repite la búsqueda del paso anterior.\n",
    "\n",
    "- Observa si los resultados cambian o mejoran."
   ]
  },
  {
   "cell_type": "code",
   "execution_count": 4,
   "id": "47da5863",
   "metadata": {},
   "outputs": [
    {
     "name": "stdout",
     "output_type": "stream",
     "text": [
      "Nueva información añadida a la base de datos.\n",
      "ID: nuevodoc_0, Documento: El fútbol es un deporte que se juega entre dos equipos de once jugadores cada uno.\n",
      "ID: nuevodoc_1, Documento: El objetivo del fútbol es marcar más goles que el equipo contrario.\n",
      "Resultados de la consulta después de añadir nueva información:\n",
      "ID: doc_0, Documento: El fútbol es el deporte más popular del mundo.\n",
      "ID: doc_6, Documento: El voleibol es un deporte de equipo que se juega con una pelota y una red.\n",
      "ID: nuevodoc_0, Documento: El fútbol es un deporte que se juega entre dos equipos de once jugadores cada uno.\n"
     ]
    }
   ],
   "source": [
    "nueva_información = [\"El fútbol es un deporte que se juega entre dos equipos de once jugadores cada uno.\",\n",
    "                     \"El objetivo del fútbol es marcar más goles que el equipo contrario.\"]\n",
    "\n",
    "for i, doc in enumerate(nueva_información):\n",
    "    collection.add(\n",
    "        documents=[doc],\n",
    "        metadatas=[{\"source\": f\"nueva_info_{i}\"}],\n",
    "        ids=[f\"nuevodoc_{i}\"]\n",
    "    )\n",
    "print(\"Nueva información añadida a la base de datos.\")\n",
    "for i, doc in enumerate(nueva_información):\n",
    "    print(f\"ID: nuevodoc_{i}, Documento: {doc}\")\n",
    "\n",
    "respuesta_nueva = collection.query(\n",
    "    query_texts=[consulta],\n",
    "    n_results=3\n",
    ")\n",
    "print(\"Resultados de la consulta después de añadir nueva información:\")\n",
    "for i in range(len(respuesta_nueva['ids'][0])):\n",
    "    print(f\"ID: {respuesta_nueva['ids'][0][i]}, Documento: {respuesta_nueva['documents'][0][i]}\")"
   ]
  },
  {
   "cell_type": "markdown",
   "id": "7d2f8936",
   "metadata": {},
   "source": [
    "## Ejercicio 5: Comparación de similitud entre textos\n",
    "\n",
    "- Elige dos documentos diferentes.\n",
    "\n",
    "  Calcula su similitud de coseno usando un modelo de embeddings (por ejemplo: SentenceTransformer(\"all-MiniLM-L6-v2\")).\n",
    "\n",
    "  Interpreta el resultado:\n",
    "\n",
    "- ¿Tienen relación semántica?\n",
    "\n",
    "- ¿Qué valor de similitud obtuviste?"
   ]
  },
  {
   "cell_type": "code",
   "execution_count": 5,
   "id": "04019d62",
   "metadata": {},
   "outputs": [
    {
     "name": "stdout",
     "output_type": "stream",
     "text": [
      "Documento 1: El fútbol es el deporte más popular del mundo.\n",
      "Documento 2: El baloncesto se juega con una pelota y una canasta.\n",
      "\n",
      "Similitud de coseno entre los dos documentos: 0.4911\n",
      "\n",
      "--- Análisis ---\n",
      "Valor de similitud: 0.4911\n",
      "Rango: 0 (sin similitud) a 1 (idénticos)\n",
      "MEDIA similitud semántica - Los documentos tienen cierta relación\n",
      "\n",
      "--- Comparación adicional ---\n",
      "Similitud entre 'El fútbol es el deporte más po...' y 'La natación es un deporte acuá...': 0.4752\n"
     ]
    }
   ],
   "source": [
    "from sklearn.metrics.pairwise import cosine_similarity\n",
    "import numpy as np\n",
    "\n",
    "# Cargar el modelo de embeddings\n",
    "model = SentenceTransformer('all-MiniLM-L6-v2')\n",
    "\n",
    "# Elegir dos documentos diferentes\n",
    "doc1 = doc_sport[0]  # \"El fútbol es el deporte más popular del mundo.\"\n",
    "doc2 = doc_sport[1]  # \"El baloncesto se juega con una pelota y una canasta.\"\n",
    "\n",
    "print(f\"Documento 1: {doc1}\")\n",
    "print(f\"Documento 2: {doc2}\\n\")\n",
    "\n",
    "# Generar embeddings para ambos documentos\n",
    "embedding1 = model.encode([doc1])\n",
    "embedding2 = model.encode([doc2])\n",
    "\n",
    "# Calcular la similitud de coseno\n",
    "similitud = cosine_similarity(embedding1, embedding2)[0][0]\n",
    "\n",
    "print(f\"Similitud de coseno entre los dos documentos: {similitud:.4f}\")\n",
    "print(f\"\\n--- Análisis ---\")\n",
    "print(f\"Valor de similitud: {similitud:.4f}\")\n",
    "print(f\"Rango: 0 (sin similitud) a 1 (idénticos)\")\n",
    "\n",
    "# Interpretación\n",
    "if similitud > 0.7:\n",
    "    print(\"ALTA similitud semántica - Los documentos están muy relacionados\")\n",
    "elif similitud > 0.4:\n",
    "    print(\"MEDIA similitud semántica - Los documentos tienen cierta relación\")\n",
    "else:\n",
    "    print(\"BAJA similitud semántica - Los documentos tienen poca relación\")\n",
    "\n",
    "# Comparación adicional: documento muy diferente\n",
    "print(f\"\\n--- Comparación adicional ---\")\n",
    "doc3 = doc_sport[4]  # \"La natación es un deporte acuático...\"\n",
    "embedding3 = model.encode([doc3])\n",
    "similitud2 = cosine_similarity(embedding1, embedding3)[0][0]\n",
    "print(f\"Similitud entre '{doc1[:30]}...' y '{doc3[:30]}...': {similitud2:.4f}\")\n"
   ]
  },
  {
   "cell_type": "markdown",
   "id": "9aae1b07",
   "metadata": {},
   "source": [
    "## Ejercicio 6: Reflexión final\n",
    "\n",
    "- Responde brevemente (en comentarios o texto):\n",
    "\n",
    "   ¿Qué ventajas tiene una base de datos vectorial frente a una tradicional?\n",
    "\n",
    "   ¿Qué papel cumplen los embeddings en este proceso?\n",
    "\n",
    "   ¿Cómo podría aplicarse este tipo de tecnología en un chatbot o asistente virtual?"
   ]
  },
  {
   "cell_type": "markdown",
   "id": "5ca5db57",
   "metadata": {},
   "source": [
    "### Respuestas a las preguntas de reflexión:\n",
    "\n",
    "**1. ¿Qué ventajas tiene una base de datos vectorial frente a una tradicional?**\n",
    "\n",
    "- **Búsqueda semántica**: Encuentra información por significado, no solo por palabras exactas\n",
    "- **Comprensión contextual**: Entiende sinónimos y conceptos relacionados\n",
    "- **Multilingüe**: Puede encontrar documentos similares en diferentes idiomas\n",
    "- **Flexibilidad**: No requiere esquemas rígidos ni consultas SQL complejas\n",
    "- **IA nativa**: Diseñada específicamente para trabajar con modelos de machine learning\n",
    "\n",
    "**2. ¿Qué papel cumplen los embeddings en este proceso?**\n",
    "\n",
    "- **Representación numérica**: Convierten texto en vectores que las máquinas pueden procesar\n",
    "- **Captura de significado**: Preservan el significado semántico del texto original\n",
    "- **Medición de similitud**: Permiten calcular qué tan similares son dos textos\n",
    "- **Espacio vectorial**: Sitúan conceptos similares cerca unos de otros\n",
    "- **Base para búsqueda**: Son la clave para realizar búsquedas por similitud\n",
    "\n",
    "**3. ¿Cómo podría aplicarse este tipo de tecnología en un chatbot o asistente virtual?**\n",
    "\n",
    "- **Base de conocimiento**: Almacenar documentación, FAQs y respuestas predefinidas\n",
    "- **Recuperación de información**: Encontrar la respuesta más relevante a una pregunta del usuario\n",
    "- **Contexto conversacional**: Mantener el historial de conversación como embeddings\n",
    "- **Personalización**: Adaptar respuestas basándose en interacciones previas\n",
    "- **Sistemas RAG**: Combinar búsqueda vectorial con generación de texto para respuestas precisas\n",
    "- **Multimodal**: Buscar imágenes, videos o documentos relacionados con la consulta"
   ]
  }
 ],
 "metadata": {
  "kernelspec": {
   "display_name": ".venv",
   "language": "python",
   "name": "python3"
  },
  "language_info": {
   "codemirror_mode": {
    "name": "ipython",
    "version": 3
   },
   "file_extension": ".py",
   "mimetype": "text/x-python",
   "name": "python",
   "nbconvert_exporter": "python",
   "pygments_lexer": "ipython3",
   "version": "3.13.7"
  }
 },
 "nbformat": 4,
 "nbformat_minor": 5
}
