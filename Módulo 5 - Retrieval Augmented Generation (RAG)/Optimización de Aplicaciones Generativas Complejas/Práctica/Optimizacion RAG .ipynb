{
 "cells": [
  {
   "cell_type": "markdown",
   "id": "aad76a70",
   "metadata": {},
   "source": [
    "# PRÁCTICA: Mejorando la Relevancia en un Sistema RAG"
   ]
  },
  {
   "cell_type": "markdown",
   "id": "c03e1378",
   "metadata": {},
   "source": [
    "## 1. Preparación del entorno\n",
    "\n",
    "Instalamos las librerías necesarias:"
   ]
  },
  {
   "cell_type": "code",
   "execution_count": null,
   "id": "f8b4baad",
   "metadata": {
    "vscode": {
     "languageId": "plaintext"
    }
   },
   "outputs": [],
   "source": [
    "# pip install chromadb sentence-transformers\n"
   ]
  },
  {
   "cell_type": "markdown",
   "id": "f5bedbe1",
   "metadata": {},
   "source": [
    "Importamos los módulos principales:"
   ]
  },
  {
   "cell_type": "code",
   "execution_count": null,
   "id": "1628f5b2",
   "metadata": {
    "vscode": {
     "languageId": "plaintext"
    }
   },
   "outputs": [],
   "source": [
    "import chromadb\n",
    "from chromadb.utils import embedding_functions\n",
    "from sentence_transformers import SentenceTransformer, util\n"
   ]
  },
  {
   "cell_type": "markdown",
   "id": "f6ac1c8d",
   "metadata": {},
   "source": [
    "## 2. Crear una mini base de conocimiento\n",
    "\n",
    "Vamos a simular una base de datos con textos sobre tecnología, astronomía y animales."
   ]
  },
  {
   "cell_type": "markdown",
   "id": "0ebcf18d",
   "metadata": {},
   "source": [
    "## 3. Crear la base vectorial (ChromaDB)"
   ]
  },
  {
   "cell_type": "markdown",
   "id": "9b161088",
   "metadata": {},
   "source": [
    "Creamos una colección donde almacenaremos los embeddings de los textos."
   ]
  },
  {
   "cell_type": "markdown",
   "id": "9186bcf2",
   "metadata": {},
   "source": [
    "## 4. Realizar una búsqueda semántica básica"
   ]
  },
  {
   "cell_type": "markdown",
   "id": "7c9ed6a9",
   "metadata": {},
   "source": [
    "Consultamos algo relacionado con animales domésticos:"
   ]
  },
  {
   "cell_type": "markdown",
   "id": "80624b1b",
   "metadata": {},
   "source": [
    "## 5. Optimización 1: Chunking Estratégico"
   ]
  },
  {
   "cell_type": "markdown",
   "id": "9dbeb71a",
   "metadata": {},
   "source": [
    "Supongamos que tenemos textos largos. Vamos a dividirlos en chunks lógicos con solapamiento (simulado)."
   ]
  },
  {
   "cell_type": "markdown",
   "id": "2c1d174c",
   "metadata": {},
   "source": [
    "## 6. Optimización 2: Re-ranking"
   ]
  },
  {
   "cell_type": "markdown",
   "id": "5208b3f7",
   "metadata": {},
   "source": [
    "Vamos a mejorar la búsqueda semántica seleccionando los resultados más relevantes mediante una segunda evaluación (re-ranking)."
   ]
  },
  {
   "cell_type": "markdown",
   "id": "e48e3753",
   "metadata": {},
   "source": [
    "## 7. Optimización 3: Búsqueda híbrida"
   ]
  },
  {
   "cell_type": "markdown",
   "id": "f2ca7e24",
   "metadata": {},
   "source": [
    "Combinaremos búsqueda por palabra clave + semántica."
   ]
  },
  {
   "cell_type": "markdown",
   "id": "f12892f7",
   "metadata": {},
   "source": [
    "## 8. Evaluación de la mejora\n",
    "\n",
    "Creamos una pequeña tabla de comparación:\n",
    "\n",
    "| **Técnica aplicada** | **Relevancia esperada** | **Latencia estimada** | **Comentario breve** |\n",
    "|-----------------------|-------------------------|------------------------|-----------------------|\n",
    "| Búsqueda básica       | Media                   | Rápida                 | A veces mezcla temas |\n",
    "| Re-ranking            | Alta                    | Media                  | Resultados más precisos |\n",
    "| Búsqueda híbrida      | Alta                    | Media-Alta             | Captura contexto + palabras clave |\n"
   ]
  },
  {
   "cell_type": "markdown",
   "id": "4fdaef99",
   "metadata": {},
   "source": [
    "## 9. Discusión \n",
    "\n",
    "- ¿Cuál técnica dio mejores resultados en relevancia?\n",
    "\n",
    "- ¿Qué técnica aumentó la latencia, y por qué?\n",
    "\n",
    "- ¿Cómo combinarías re-ranking + caching para un chatbot real?\n",
    "\n",
    "- ¿Qué ocurre si el corpus tiene información ambigua?"
   ]
  },
  {
   "cell_type": "markdown",
   "id": "217dc3fe",
   "metadata": {},
   "source": [
    "## Extensión \n",
    "\n",
    "Implementa un caché simple que guarde los últimos resultados de consulta.\n",
    "Tip: Usa un diccionario {consulta: resultados} y revisa si la consulta ya existe antes de buscar otra vez."
   ]
  }
 ],
 "metadata": {
  "language_info": {
   "name": "python"
  }
 },
 "nbformat": 4,
 "nbformat_minor": 5
}
