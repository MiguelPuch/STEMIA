{
 "cells": [
  {
   "cell_type": "markdown",
   "id": "6d89a864",
   "metadata": {},
   "source": [
    "# Práctica: Optimización en Sistemas RAG – Llevando la Generación a Producción"
   ]
  },
  {
   "cell_type": "markdown",
   "id": "1942ae45",
   "metadata": {},
   "source": [
    "Objetivos de la práctica\n",
    "\n",
    "Comprender los desafíos de eficiencia, relevancia y costo en sistemas RAG.\n",
    "\n",
    "Aplicar técnicas de optimización en el Retriever y el Generator.\n",
    "\n",
    "Implementar búsqueda híbrida, re-ranking, compresión de contexto y caching en un flujo básico.\n",
    "\n",
    "Evaluar las respuestas generadas según fidelidad, relevancia y latencia."
   ]
  },
  {
   "cell_type": "markdown",
   "id": "daf6f02f",
   "metadata": {},
   "source": [
    "⚙️ Requisitos previos\n",
    "\n",
    "Instalar las siguientes dependencias:"
   ]
  },
  {
   "cell_type": "code",
   "execution_count": null,
   "id": "21641e9d",
   "metadata": {
    "vscode": {
     "languageId": "plaintext"
    }
   },
   "outputs": [],
   "source": [
    "# pip install chromadb sentence-transformers faiss-cpu"
   ]
  },
  {
   "cell_type": "markdown",
   "id": "9b2b5adc",
   "metadata": {},
   "source": [
    "## PARTE 1 – Problema inicial: RAG sin optimización\n",
    "\n",
    "Crea una pequeña base de conocimiento con textos de distintos temas (mínimo 8).\n",
    "Ejemplo: fragmentos de manuales técnicos, descripciones de productos o artículos breves.\n",
    "\n",
    "Usa ChromaDB para almacenar los embeddings y permitir búsqueda semántica.\n",
    "\n",
    "Implementa un flujo RAG básico:\n",
    "\n",
    "Retriever: devuelve los documentos más similares a una consulta.\n",
    "\n",
    "Generator: (simulado) muestra el texto más relevante concatenado como “respuesta”.\n",
    "\n",
    "Mide el tiempo total de la búsqueda (latencia) y observa los resultados.\n",
    "\n",
    "🧭 Pregunta para reflexionar:\n",
    "¿La respuesta es coherente y relevante o aparecen fragmentos irrelevantes?"
   ]
  },
  {
   "cell_type": "code",
   "execution_count": null,
   "id": "ebfe7fe0",
   "metadata": {
    "vscode": {
     "languageId": "plaintext"
    }
   },
   "outputs": [],
   "source": []
  },
  {
   "cell_type": "markdown",
   "id": "3b402351",
   "metadata": {},
   "source": [
    "## PARTE 2 – Optimización del Retriever \n",
    "\n",
    "### Ejercicio 1: Chunking Estratégico\n",
    "\n",
    "Divide tu base de conocimiento en “chunks” lógicos (por secciones o párrafos), no solo por longitud.\n",
    "\n",
    "Implementa una superposición de 10–20% entre chunks para mantener continuidad.\n",
    "\n",
    "👉 Tarea: compara el número total de chunks generados y observa si mejora la calidad de recuperación."
   ]
  },
  {
   "cell_type": "code",
   "execution_count": null,
   "id": "65120e5e",
   "metadata": {
    "vscode": {
     "languageId": "plaintext"
    }
   },
   "outputs": [],
   "source": []
  },
  {
   "cell_type": "markdown",
   "id": "5015d6c3",
   "metadata": {},
   "source": [
    "### Ejercicio 2: Re-ranking\n",
    "\n",
    "Simula un re-ranking simple:\n",
    "\n",
    "Recupera los 10 resultados más similares.\n",
    "\n",
    "Calcula una nueva similitud con otro modelo (por ejemplo all-MiniLM-L6-v2 o mpnet-base).\n",
    "\n",
    "Elige los 3 más relevantes.\n",
    "\n",
    "👉 Tarea: guarda la latencia antes y después del re-ranking y comenta si el resultado mejora la relevancia."
   ]
  },
  {
   "cell_type": "code",
   "execution_count": null,
   "id": "8df1b500",
   "metadata": {
    "vscode": {
     "languageId": "plaintext"
    }
   },
   "outputs": [],
   "source": []
  },
  {
   "cell_type": "markdown",
   "id": "f8696b50",
   "metadata": {},
   "source": [
    "### Ejercicio 3: Búsqueda Híbrida\n",
    "\n",
    "Implementa un esquema de búsqueda combinada:\n",
    "\n",
    "Búsqueda por palabras clave (filtrado simple con in o BM25 si lo deseas).\n",
    "\n",
    "Búsqueda semántica con embeddings.\n",
    "\n",
    "Combina ambas puntuaciones (por ejemplo, promedio).\n",
    "\n",
    "👉 Tarea: prueba con una consulta que contenga palabras clave específicas (ej. “errores del Bluetooth”)\n",
    "y observa si los resultados son más precisos que solo con búsqueda semántica."
   ]
  },
  {
   "cell_type": "code",
   "execution_count": null,
   "id": "56af7fa9",
   "metadata": {
    "vscode": {
     "languageId": "plaintext"
    }
   },
   "outputs": [],
   "source": []
  },
  {
   "cell_type": "markdown",
   "id": "89b46741",
   "metadata": {},
   "source": [
    "## PARTE 3 – Optimización del Generator y Flujo \n",
    "\n",
    "#### Ejercicio 4: Prompt Engineering\n",
    "\n",
    "Crea un prompt template claro que simule un rol, por ejemplo:\n",
    "\"Eres un experto técnico. Usa solo el texto recuperado para responder la siguiente pregunta: {pregunta}\".\n",
    "\n",
    "👉 Tarea: explica por qué los prompts bien diseñados reducen la “alucinación” del modelo."
   ]
  },
  {
   "cell_type": "code",
   "execution_count": null,
   "id": "99a7271f",
   "metadata": {
    "vscode": {
     "languageId": "plaintext"
    }
   },
   "outputs": [],
   "source": []
  },
  {
   "cell_type": "markdown",
   "id": "d2a02ee0",
   "metadata": {},
   "source": [
    "### Ejercicio 5: Compresión del Contexto\n",
    "\n",
    "Si un chunk es muy largo (>300 palabras), genera un resumen o selección de frases clave (usa un modelo o método simple).\n",
    "\n",
    "Usa ese resumen como contexto para la respuesta final.\n",
    "\n",
    "👉 Tarea: mide cuánto se reduce el tamaño del contexto y si cambia el tiempo de ejecución."
   ]
  },
  {
   "cell_type": "code",
   "execution_count": null,
   "id": "9632188b",
   "metadata": {
    "vscode": {
     "languageId": "plaintext"
    }
   },
   "outputs": [],
   "source": []
  },
  {
   "cell_type": "markdown",
   "id": "6a3cabe3",
   "metadata": {},
   "source": [
    "### Ejercicio 6: Caching de Consultas\n",
    "\n",
    "Implementa un sistema de cache simple usando un diccionario Python ({consulta: respuesta}).\n",
    "\n",
    "Si una pregunta se repite, devuelve la respuesta almacenada sin volver a consultar la base vectorial.\n",
    "\n",
    "👉 Tarea: mide cuántas veces se usa la caché y cuánto tiempo se ahorra."
   ]
  },
  {
   "cell_type": "code",
   "execution_count": null,
   "id": "8d4fd63a",
   "metadata": {
    "vscode": {
     "languageId": "plaintext"
    }
   },
   "outputs": [],
   "source": []
  },
  {
   "cell_type": "markdown",
   "id": "eddcd8b5",
   "metadata": {},
   "source": [
    "## PARTE 4 – Evaluación y Métricas 📊\n",
    "\n",
    "1. Define tres métricas de evaluación del sistema RAG:\n",
    "\n",
    "- Fidelidad (Faithfulness): ¿la respuesta usa información real del contexto?\n",
    "\n",
    "- Relevancia: ¿los textos recuperados están relacionados con la pregunta?\n",
    "\n",
    "- Latencia: tiempo total en segundos del flujo completo.\n",
    "\n",
    "2. Crea una tabla comparando los resultados antes y después de las optimizaciones:\n",
    "\n",
    "Métrica\tSin Optimización\tCon Optimización\n",
    "Fidelidad\t\t\n",
    "Relevancia\t\t\n",
    "Latencia\t\t\n",
    "\n",
    "👉 Tarea: escribe tus conclusiones breves (3–4 líneas)."
   ]
  },
  {
   "cell_type": "code",
   "execution_count": null,
   "id": "da1725af",
   "metadata": {
    "vscode": {
     "languageId": "plaintext"
    }
   },
   "outputs": [],
   "source": []
  },
  {
   "cell_type": "markdown",
   "id": "1a29b6c6",
   "metadata": {},
   "source": [
    "## PARTE 5 – Caso de Uso Integrado 💼\n",
    "\n",
    "Simula un Chatbot de Soporte Técnico RAG:\n",
    "\n",
    "1. Base de conocimiento: FAQs o descripciones técnicas de productos.\n",
    "\n",
    "2. Flujo:\n",
    "\n",
    "- Recuperación híbrida + re-ranking.\n",
    "\n",
    "- Compresión de contexto.\n",
    "\n",
    "- Prompt claro (“Eres un técnico de soporte…”).\n",
    "\n",
    "- Caching activado.\n",
    "\n",
    "3. Realiza tres consultas y registra:\n",
    "\n",
    "- Tiempo de respuesta.\n",
    "\n",
    "- Relevancia percibida.\n",
    "\n",
    "- Si el sistema reutilizó la caché."
   ]
  },
  {
   "cell_type": "markdown",
   "id": "24235bff",
   "metadata": {},
   "source": []
  },
  {
   "cell_type": "markdown",
   "id": "7aa96ea3",
   "metadata": {},
   "source": [
    "## Reflexión final\n",
    "\n",
    "¿Cuál técnica tuvo el mayor impacto en la relevancia de las respuestas?\n",
    "\n",
    "¿Cuál fue más efectiva para reducir la latencia?\n",
    "\n",
    "¿Cómo aplicarías este flujo en un entorno real (empresa, educación, salud, etc.)?"
   ]
  }
 ],
 "metadata": {
  "language_info": {
   "name": "python"
  }
 },
 "nbformat": 4,
 "nbformat_minor": 5
}
