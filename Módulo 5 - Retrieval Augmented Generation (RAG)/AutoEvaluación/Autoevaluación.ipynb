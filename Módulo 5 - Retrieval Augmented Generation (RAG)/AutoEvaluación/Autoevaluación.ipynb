{
 "cells": [
  {
   "cell_type": "markdown",
   "id": "d106b741",
   "metadata": {},
   "source": [
    "# EVALUACIÓN"
   ]
  },
  {
   "cell_type": "markdown",
   "id": "84053fa8",
   "metadata": {},
   "source": [
    "Una empresa de contenidos de salud y bienestar quiere un sistema que permita a sus usuarios buscar artículos de manera semántica y recibir recomendaciones personalizadas. Los datos de artículos están en un CSV con las siguientes columnas:\n",
    "\n",
    "- id: identificador del artículo\n",
    "\n",
    "- titulo: título del artículo\n",
    "\n",
    "- contenido: contenido completo del artículo\n",
    "\n",
    "- categoria: categoría del artículo (salud, nutricion, ejercicio, meditacion)\n",
    "\n",
    "- fecha: fecha de publicación"
   ]
  },
  {
   "cell_type": "markdown",
   "id": "cfbbf851",
   "metadata": {},
   "source": [
    "\n",
    "## Tarea\n",
    "\n",
    "1. **Cargar el CSV** en un DataFrame de pandas.\n",
    "\n",
    "2. **Generar embeddings** para la columna `contenido` usando el modelo `sentence-transformers/all-MiniLM-L6-v2` de Hugging Face.\n",
    "\n",
    "3. **Indexar los embeddings** en FAISS usando **Cosine Similarity**.\n",
    "\n",
    "4. **Realizar una búsqueda semántica**:\n",
    "\n",
    "   - Consulta de ejemplo: `\"Cómo reducir estrés y mejorar concentración\"`\n",
    "   - Recuperar los **3 artículos más relevantes**.\n",
    "\n",
    "5. **Filtrado avanzado por metadatos**:\n",
    "\n",
    "   - Solo artículos publicados después de `\"2024-01-01\"`.\n",
    "   - Solo artículos de la categoría `\"salud\"` o `\"ejercicio\"`.\n",
    "\n",
    "6. **Simular un sistema RAG simple**:\n",
    "\n",
    "   - Recuperar los artículos más relevantes.\n",
    "   - Generar una respuesta concatenando los contenidos encontrados.\n",
    "\n",
    "7. **Mini desafío de recomendación personalizada**:\n",
    "\n",
    "   - Supón que un usuario indica que le interesa `\"meditación y reducción de ansiedad\"`.\n",
    "   - Recomienda **2 artículos semánticamente cercanos** de la categoría `\"meditacion\"` usando embeddings y FAISS.\n",
    "\n",
    "8. **Preguntas de razonamiento** (sin código):\n",
    "\n",
    "   - Explica por qué usar embeddings y FAISS es más eficiente que búsquedas exactas por texto.\n",
    "   - Compara Cosine Similarity y Euclidean Distance para este escenario.\n",
    "   - Propón un plan para escalar este sistema a **1 millón de artículos** manteniendo rapidez de búsqueda.\n"
   ]
  }
 ],
 "metadata": {
  "kernelspec": {
   "display_name": "myenv",
   "language": "python",
   "name": "python3"
  },
  "language_info": {
   "codemirror_mode": {
    "name": "ipython",
    "version": 3
   },
   "file_extension": ".py",
   "mimetype": "text/x-python",
   "name": "python",
   "nbconvert_exporter": "python",
   "pygments_lexer": "ipython3",
   "version": "3.11.11"
  }
 },
 "nbformat": 4,
 "nbformat_minor": 5
}
