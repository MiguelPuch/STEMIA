{
 "cells": [
  {
   "cell_type": "markdown",
   "id": "fac6af8c",
   "metadata": {},
   "source": [
    "Hasta ahora solo un agente ha entrado en juego, pero ¿qué pasa si queremos aportar algo de diversidad? Esto es especialmente relevante cuando entran en juego procesos creativos u opiniones:\n",
    "\n",
    "* Puede que queramos hacer un análisis SEO\n",
    "* Crear un informe sobre el progreso de un empleado\n",
    "* Definir una política de trabajo híbrido\n",
    "\n",
    "Y todas estas tareas **necesitarán experiencia humana**, pero podemos empezar con un buen borrador que aporte diferentes opiniones. Algo que normalmente requeriría varios talleres e implicaría diferentes roles, todo automatizado. La idea es realmente cautivadora.\n",
    "\n",
    "## Frameworks Multiagente\n",
    "\n",
    "[CrewAI](https://www.crewai.com/) fue creado con esta idea en mente: poder definir programáticamente una multitud, asignarles una tarea y permitirles discutir, evolucionar y refinar el resultado antes de presentarlo al usuario.\n",
    "\n",
    "De manera similar, [Agno](https://app.agno.com/) ofrece la posibilidad de desplegar y probar aplicaciones multiagente gracias a su playground.\n",
    "\n",
    "![agnomulti](../assets/images/agno_multi.png)\n",
    "\n",
    "Podemos optar por LangChain si queremos tener un mayor control sobre la arquitectura que se está implementando.\n",
    "\n",
    "![](https://langchain-ai.github.io/langgraph/concepts/img/multi_agent/architectures.png)\n",
    "\n",
    "Más información en https://langchain-ai.github.io/langgraph/concepts/multi_agent/"
   ]
  },
  {
   "cell_type": "markdown",
   "id": "bf63d1a0",
   "metadata": {},
   "source": [
    "Pero el punto principal de los frameworks anteriores es que facilitan la definición de la transferencia de tareas entre agentes y la interacción general entre ellos antes de proporcionar una respuesta final."
   ]
  },
  {
   "cell_type": "code",
   "execution_count": 3,
   "id": "9c51b94a",
   "metadata": {},
   "outputs": [
    {
     "data": {
      "text/plain": [
       "True"
      ]
     },
     "execution_count": 3,
     "metadata": {},
     "output_type": "execute_result"
    }
   ],
   "source": [
    "from dotenv import load_dotenv\n",
    "\n",
    "load_dotenv(override=True)"
   ]
  },
  {
   "cell_type": "markdown",
   "id": "a32fa696",
   "metadata": {},
   "source": [
    "Necesitaremos equipar a nuestros investigadores con algunas herramientas, en particular herramientas de búsqueda web. Estas herramientas pueden personalizarse tanto como sea necesario para acotar las posibles respuestas.\n",
    "\n",
    "Emplearemos [Tavily](https://www.tavily.com/) un buscador pensado para interacción vía API que encaja perfecto con nuestro uso."
   ]
  },
  {
   "cell_type": "code",
   "execution_count": 4,
   "id": "a251c914",
   "metadata": {},
   "outputs": [],
   "source": [
    "from agno.tools.tavily import TavilyTools\n",
    "\n",
    "# Search engine\n",
    "search = TavilyTools(\n",
    "    include_answer=True,\n",
    "    search_depth='basic',\n",
    "    format='markdown',\n",
    "    max_tokens=100\n",
    ")"
   ]
  },
  {
   "cell_type": "markdown",
   "id": "8b0d0071",
   "metadata": {},
   "source": [
    "Un primer agente se encargará del análisis SEO mientras que el segundo agente optimizará el contenido. Si ambos colaboran, el impacto de la creación de contenido vendrá dado por la capacidad del primer agente, el analista SEO, para buscar y refinar el contexto identificando palabras clave."
   ]
  },
  {
   "cell_type": "code",
   "execution_count": 5,
   "id": "746cbf1b",
   "metadata": {},
   "outputs": [],
   "source": [
    "from agno.agent import Agent\n",
    "from agno.models.google import Gemini\n",
    "\n",
    "seo_analyst = Agent(\n",
    "    name=\"SEO Analyst\",\n",
    "    role=\"Discovers the keywords needed to boost the position of the site to be improved.\",\n",
    "    model=Gemini(id=\"gemini-2.5-flash\", temperature=0),\n",
    "    tools=[search],\n",
    "    instructions=\"\"\"\n",
    "        Backstory:\n",
    "        \n",
    "        You work in Spain, most of your requests come from Spanish companies so you prioritize the positioning in Spanish speaking searches.\n",
    "        Your specialty is identifying keywords to better position the products highlighted by the company.\n",
    "        You conduct research on competitors and search results to better differentiate the offering and be more competitive.\n",
    "\n",
    "        Response format:\n",
    "        Always include sources.\n",
    "    \"\"\",\n",
    "    add_datetime_to_instructions=True,\n",
    ")\n",
    "\n",
    "strategist = Agent(\n",
    "    name=\"Content strategist\",\n",
    "    role=\"Creates attractive and engaging content to improve SEO positioning.\",\n",
    "    model=Gemini(id=\"gemini-2.5-flash\", temperature=0.6),\n",
    "    tools=[search], # It might not need it but just in case\n",
    "    instructions=\"\"\"\n",
    "        Backstory:\n",
    "        \n",
    "        You are a renowned Content Strategist, known for your insightful and engaging articles.\n",
    "        Your specialty is transforming complex concepts into captivating narratives with high SEO impact.\n",
    "\n",
    "        Response format:\n",
    "        Always include sources.\n",
    "    \"\"\",\n",
    "    add_datetime_to_instructions=True,\n",
    ")"
   ]
  },
  {
   "cell_type": "markdown",
   "id": "922072b6",
   "metadata": {},
   "source": [
    "Necesitamos agruparlos y asignarles la tarea a realizar. Esto requiere un **gestor** con cierta capacidad de razonamiento para utilizar eficientemente los recursos disponibles. Para ello se necesita:\n",
    "\n",
    "* Capacidades de razonamiento\n",
    "* Algunas instrucciones\n",
    "* Saber cuándo finalizar el trabajo"
   ]
  },
  {
   "cell_type": "code",
   "execution_count": 6,
   "id": "0a6a8a92",
   "metadata": {},
   "outputs": [],
   "source": [
    "from agno.team.team import Team\n",
    "from agno.tools.reasoning import ReasoningTools\n",
    "\n",
    "seon_team = Team(\n",
    "    name=\"SEO improving content creation team\",\n",
    "    mode=\"coordinate\",\n",
    "    model=Gemini(id=\"gemini-2.5-flash\", temperature=0.3),\n",
    "    members=[seo_analyst, strategist],\n",
    "    tools=[ReasoningTools(add_instructions=True)],\n",
    "    instructions=[\n",
    "        \"Collaborate to provide comprehensive SEO improving insights\",\n",
    "        \"Consider both fundamental analysis and market sentiment\",\n",
    "        \"Use an engaging language to provide guidance to the user asking the questions\",\n",
    "        \"Present findings in a structured, easy-to-follow format\",\n",
    "        \"Only output the final consolidated response, not individual agent responses\",\n",
    "    ],\n",
    "    markdown=True,\n",
    "    show_members_responses=True,\n",
    "    enable_agentic_context=True,\n",
    "    add_datetime_to_instructions=True,\n",
    "    success_criteria=\"The team has provided a complete analysis on SEO positioning and the keywords and modifications required to boost the position of the site being asked about.\",\n",
    ")"
   ]
  },
  {
   "cell_type": "code",
   "execution_count": 7,
   "id": "fed5fe46",
   "metadata": {},
   "outputs": [
    {
     "data": {
      "application/vnd.jupyter.widget-view+json": {
       "model_id": "0bf073e952df4e90aa57482369e1d548",
       "version_major": 2,
       "version_minor": 0
      },
      "text/plain": [
       "Output()"
      ]
     },
     "metadata": {},
     "output_type": "display_data"
    },
    {
     "data": {
      "text/html": [
       "<pre style=\"white-space:pre;overflow-x:auto;line-height:normal;font-family:Menlo,'DejaVu Sans Mono',consolas,'Courier New',monospace\"></pre>\n"
      ],
      "text/plain": []
     },
     "metadata": {},
     "output_type": "display_data"
    }
   ],
   "source": [
    "seon_team.print_response(\n",
    "\"\"\"The Bridge School is providing upskiller courses dedicated to improving the abilities of professionals with a special focus on Data Science and Artificial intelligence.\n",
    "How would you recommend improving the text and visuals of that section fo the site to achieve that goal?\n",
    "\"\"\",\n",
    "    stream=True,\n",
    "    show_full_reasoning=True,\n",
    "    stream_intermediate_steps=True,\n",
    ")"
   ]
  },
  {
   "cell_type": "markdown",
   "id": "071cd49c",
   "metadata": {},
   "source": [
    "Todo este proceso puede ocurrir en cualquier frontal capaz de recibir interacciones de este tipo, con lo que no nos limitemos por el ejercicio que aquí indicamos ya que existen frameworks específicos para aplicaciones frontales y los MCP nos permiten abstraer los frontales, LLMs y herramientas a emplear en nuestro proceso."
   ]
  }
 ],
 "metadata": {
  "kernelspec": {
   "display_name": "ds4b2b",
   "language": "python",
   "name": "python3"
  },
  "language_info": {
   "codemirror_mode": {
    "name": "ipython",
    "version": 3
   },
   "file_extension": ".py",
   "mimetype": "text/x-python",
   "name": "python",
   "nbconvert_exporter": "python",
   "pygments_lexer": "ipython3",
   "version": "3.12.7"
  }
 },
 "nbformat": 4,
 "nbformat_minor": 5
}
