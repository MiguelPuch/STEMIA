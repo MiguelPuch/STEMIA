{
 "cells": [
  {
   "cell_type": "markdown",
   "id": "a5650de7",
   "metadata": {},
   "source": [
    "# Estructura de Prompts y Salidas para Agentes Robustos\n",
    "\n",
    "La estructura adecuada de prompts y outputs es fundamental para crear agentes de IA más confiables y eficientes:\n",
    "\n",
    "La estructura ayuda a:\n",
    "- Mejora la consistencia en las respuestas\n",
    "- Reduce ambigüedades en la comunicación\n",
    "- Facilita el procesamiento de información\n",
    "\n",
    "La implementación de estas estructuras resulta en agentes más robustos y predecibles en su comportamiento. La mayoría de plataformas se apoyan en una de las librerías clave para validar entradas en Python, [Pydantic](https://docs.pydantic.dev/latest/) que incluso tiene su apuesta personal en lo que a agentes se refiere: [PydanticAI](https://ai.pydantic.dev/).\n",
    "\n",
    "Nosotros emplearemos para estos ejemplos el framework de Agno: https://docs.agno.com/agents/structured-output"
   ]
  },
  {
   "cell_type": "code",
   "execution_count": 6,
   "id": "b0014998",
   "metadata": {},
   "outputs": [
    {
     "data": {
      "text/plain": [
       "True"
      ]
     },
     "execution_count": 6,
     "metadata": {},
     "output_type": "execute_result"
    }
   ],
   "source": [
    "from dotenv import load_dotenv\n",
    "\n",
    "load_dotenv(override=True)"
   ]
  },
  {
   "cell_type": "code",
   "execution_count": 7,
   "id": "3288a22c",
   "metadata": {},
   "outputs": [],
   "source": [
    "import os\n",
    "from openinference.instrumentation.agno import AgnoInstrumentor\n",
    "from opentelemetry import trace as trace_api\n",
    "from opentelemetry.exporter.otlp.proto.http.trace_exporter import OTLPSpanExporter\n",
    "from opentelemetry.sdk.trace import TracerProvider\n",
    "from opentelemetry.sdk.trace.export import SimpleSpanProcessor\n",
    "\n",
    "# Set the endpoint and headers for LangSmith\n",
    "endpoint = \"https://api.smith.langchain.com/otel/v1/traces\"\n",
    "headers = {\n",
    "    \"x-api-key\": os.getenv(\"LANGSMITH_API_KEY\"),\n",
    "    \"Langsmith-Project\": os.getenv(\"LANGSMITH_PROJECT\"),\n",
    "}\n",
    "\n",
    "# Configure the tracer provider\n",
    "tracer_provider = TracerProvider()\n",
    "tracer_provider.add_span_processor(\n",
    "    SimpleSpanProcessor(OTLPSpanExporter(endpoint=endpoint, headers=headers))\n",
    ")\n",
    "trace_api.set_tracer_provider(tracer_provider=tracer_provider)\n",
    "\n",
    "# Start instrumenting agno\n",
    "AgnoInstrumentor().instrument()"
   ]
  },
  {
   "cell_type": "code",
   "execution_count": 8,
   "id": "032bc068",
   "metadata": {},
   "outputs": [],
   "source": [
    "from typing import List\n",
    "from pydantic import BaseModel, Field\n",
    "\n",
    "class MovieScript(BaseModel):\n",
    "    setting: str = Field(..., description=\"Provide a nice setting for a blockbuster movie.\")\n",
    "    ending: str = Field(..., description=\"Ending of the movie. If not available, provide a happy ending.\")\n",
    "    genre: str = Field(\n",
    "        ..., description=\"Genre of the movie. If not available, select action, thriller or romantic comedy.\"\n",
    "    )\n",
    "    name: str = Field(..., description=\"Give a name to this movie\")\n",
    "    characters: List[str] = Field(..., description=\"Name of characters for this movie.\")\n",
    "    storyline: str = Field(..., description=\"3 sentence storyline for the movie. Make it exciting!\")"
   ]
  },
  {
   "cell_type": "code",
   "execution_count": 9,
   "id": "90803f2b",
   "metadata": {},
   "outputs": [
    {
     "data": {
      "application/vnd.jupyter.widget-view+json": {
       "model_id": "b931913451b54b8394c408aa951d53e2",
       "version_major": 2,
       "version_minor": 0
      },
      "text/plain": [
       "Output()"
      ]
     },
     "metadata": {},
     "output_type": "display_data"
    },
    {
     "data": {
      "text/html": [
       "<pre style=\"white-space:pre;overflow-x:auto;line-height:normal;font-family:Menlo,'DejaVu Sans Mono',consolas,'Courier New',monospace\"></pre>\n"
      ],
      "text/plain": []
     },
     "metadata": {},
     "output_type": "display_data"
    }
   ],
   "source": [
    "from agno.agent import Agent\n",
    "from agno.models.google import Gemini\n",
    "\n",
    "# Agent that uses structured outputs\n",
    "structured_output_agent = Agent(\n",
    "    model=Gemini(id=\"gemini-2.5-flash\", temperature=0),\n",
    "    description=\"You write movie scripts.\",\n",
    "    response_model=MovieScript,\n",
    ")\n",
    "\n",
    "structured_output_agent.print_response(\"New York\", stream=True)"
   ]
  },
  {
   "cell_type": "markdown",
   "id": "c37ecefe",
   "metadata": {},
   "source": [
    "El modo JSON es un modo por defecto que no implica la validación de los campos. Se emplea habitualmente como modo de fallback."
   ]
  },
  {
   "cell_type": "code",
   "execution_count": 11,
   "id": "bf475565",
   "metadata": {},
   "outputs": [
    {
     "data": {
      "application/vnd.jupyter.widget-view+json": {
       "model_id": "8405157574934d9d9ed1e072f29e9fde",
       "version_major": 2,
       "version_minor": 0
      },
      "text/plain": [
       "Output()"
      ]
     },
     "metadata": {},
     "output_type": "display_data"
    },
    {
     "data": {
      "text/html": [
       "<pre style=\"white-space:pre;overflow-x:auto;line-height:normal;font-family:Menlo,'DejaVu Sans Mono',consolas,'Courier New',monospace\"></pre>\n"
      ],
      "text/plain": []
     },
     "metadata": {},
     "output_type": "display_data"
    }
   ],
   "source": [
    "# Agent that uses JSON mode\n",
    "json_mode_agent = Agent(\n",
    "    model=Gemini(id=\"gemini-2.0-flash\", temperature=0),\n",
    "    description=\"You write movie scripts.\",\n",
    "    response_model=MovieScript,\n",
    "    use_json_mode=True,\n",
    ")\n",
    "json_mode_agent.print_response(\"New York\", stream=True)"
   ]
  },
  {
   "cell_type": "markdown",
   "id": "f7d530a7",
   "metadata": {},
   "source": [
    "Podríamos incluso hacer que un segundo modelo, no el principal, se encargue de la estructuración del texto.\n",
    "\n",
    "```py\n",
    "agent = Agent(\n",
    "    model=Claude(id=\"claude-sonnet-4-20250514\"),\n",
    "    description=\"You write movie scripts.\",\n",
    "    response_model=MovieScript,\n",
    "    parser_model=OpenAIChat(id=\"gpt-4o\"),\n",
    ")\n",
    "```"
   ]
  }
 ],
 "metadata": {
  "kernelspec": {
   "display_name": "ds4b2b",
   "language": "python",
   "name": "python3"
  },
  "language_info": {
   "codemirror_mode": {
    "name": "ipython",
    "version": 3
   },
   "file_extension": ".py",
   "mimetype": "text/x-python",
   "name": "python",
   "nbconvert_exporter": "python",
   "pygments_lexer": "ipython3",
   "version": "3.12.7"
  }
 },
 "nbformat": 4,
 "nbformat_minor": 5
}
