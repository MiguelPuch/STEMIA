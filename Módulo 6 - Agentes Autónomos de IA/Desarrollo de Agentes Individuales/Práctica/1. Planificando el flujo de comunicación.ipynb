{
 "cells": [
  {
   "cell_type": "markdown",
   "id": "412f2c21",
   "metadata": {},
   "source": [
    "Hemos comprobado cómo podemos interactuar con una LLM y cómo realizar acciones que vayan más allá de una sola pregunta. Si queremos explorar interacciones más complejas debemos introducirnos en el mundo de los agentes.\n",
    "\n",
    "# Agentes\n",
    "\n",
    "Un agente no es más que un intermediario entre el usuario y la LLM de forma que controlamos cómo se realizan las interacciones y además podemos presentar opciones adicionales como:\n",
    "\n",
    "* El uso de **herramientas**\n",
    "* Registro del **hilo de conversación**\n",
    "* **Enriquecimiento** del contexto\n",
    "\n",
    "Veamos algún ejemplo sencillo."
   ]
  },
  {
   "cell_type": "code",
   "execution_count": 1,
   "id": "5a106687",
   "metadata": {},
   "outputs": [
    {
     "data": {
      "text/plain": [
       "True"
      ]
     },
     "execution_count": 1,
     "metadata": {},
     "output_type": "execute_result"
    }
   ],
   "source": [
    "from dotenv import load_dotenv\n",
    "\n",
    "load_dotenv(override=True)"
   ]
  },
  {
   "cell_type": "markdown",
   "id": "713901d4",
   "metadata": {},
   "source": [
    "Creamos una instancia de chat con instrucciones concretas."
   ]
  },
  {
   "cell_type": "code",
   "execution_count": 2,
   "id": "a1a07e07",
   "metadata": {},
   "outputs": [],
   "source": [
    "from langchain_google_genai import ChatGoogleGenerativeAI\n",
    "from langchain_core.messages import SystemMessage\n",
    "\n",
    "# LLM\n",
    "llm = ChatGoogleGenerativeAI(\n",
    "    model=\"gemini-2.5-flash\", \n",
    "    temperature=0,\n",
    "    max_tokens=None,\n",
    "    timeout=None,\n",
    "    max_retries=2,\n",
    ")\n",
    "\n",
    "# System message\n",
    "sys_msg = SystemMessage(content=\"Eres un asistente de matemáticas.\")"
   ]
  },
  {
   "cell_type": "markdown",
   "id": "09bf049e",
   "metadata": {},
   "source": [
    "Podemos dibujar el gráfico de interacción de manera sencilla."
   ]
  },
  {
   "cell_type": "code",
   "execution_count": 5,
   "id": "abc455cc",
   "metadata": {},
   "outputs": [
    {
     "data": {
      "image/png": "[encoded data removed]",
      "text/plain": [
       "<IPython.core.display.Image object>"
      ]
     },
     "metadata": {},
     "output_type": "display_data"
    }
   ],
   "source": [
    "from langgraph.graph import MessagesState\n",
    "from langgraph.graph import START, StateGraph\n",
    "from IPython.display import Image, display\n",
    "\n",
    "# Asistente\n",
    "def agente(state: MessagesState):\n",
    "   return {\"messages\": [llm.invoke([sys_msg] + state[\"messages\"])]}\n",
    "\n",
    "# Grafo\n",
    "builder = StateGraph(MessagesState)\n",
    "builder.add_node(\"agente\", agente)\n",
    "builder.add_edge(START, \"agente\")\n",
    "agente = builder.compile()\n",
    "\n",
    "# Show\n",
    "display(Image(agente.get_graph(xray=True).draw_mermaid_png()))"
   ]
  },
  {
   "cell_type": "code",
   "execution_count": 7,
   "id": "cc2f9db3",
   "metadata": {},
   "outputs": [
    {
     "name": "stdout",
     "output_type": "stream",
     "text": [
      "================================\u001b[1m Human Message \u001b[0m=================================\n",
      "\n",
      "¿Cuanto es 4 * 5?\n",
      "==================================\u001b[1m Ai Message \u001b[0m==================================\n",
      "\n",
      "4 * 5 = 20\n"
     ]
    }
   ],
   "source": [
    "from langchain_core.messages import HumanMessage\n",
    "\n",
    "messages = [HumanMessage(content=\"¿Cuanto es 4 * 5?\")]\n",
    "messages = agente.invoke({\"messages\": messages})\n",
    "for m in messages['messages']:\n",
    "    m.pretty_print()"
   ]
  },
  {
   "cell_type": "code",
   "execution_count": 8,
   "id": "3b8d720d",
   "metadata": {},
   "outputs": [
    {
     "name": "stdout",
     "output_type": "stream",
     "text": [
      "================================\u001b[1m Human Message \u001b[0m=================================\n",
      "\n",
      "¿Puedes multiplicar ese resultado por 2?\n",
      "==================================\u001b[1m Ai Message \u001b[0m==================================\n",
      "\n",
      "Claro que sí, puedo multiplicar cualquier número por 2.\n",
      "\n",
      "Sin embargo, no tengo el contexto de un \"resultado\" anterior en esta conversación.\n",
      "\n",
      "**¿Podrías decirme cuál es el número que quieres que multiplique por 2?** Una vez que me lo digas, con gusto haré el cálculo.\n"
     ]
    }
   ],
   "source": [
    "messages = [HumanMessage(content=\"¿Puedes multiplicar ese resultado por 2?\")]\n",
    "messages = agente.invoke({\"messages\": messages})\n",
    "for m in messages['messages']:\n",
    "    m.pretty_print()"
   ]
  },
  {
   "cell_type": "markdown",
   "id": "f201a082",
   "metadata": {},
   "source": [
    "Como veis cada interacción es independiente. Esto nos viene bien con modelos convencionales ya que no queremos que la predicción anterior afecte a la actual, pero en una conversación es necesario que exista ese mecanismos de _recuerdo_. LangChain nos da la opción de establecer una memoria que se active en cada sesión, del mismo modo que ChatGPT puede seguir la conversación cuando interactuamos con este."
   ]
  },
  {
   "cell_type": "code",
   "execution_count": 9,
   "id": "40011c96",
   "metadata": {},
   "outputs": [],
   "source": [
    "from langgraph.checkpoint.memory import MemorySaver\n",
    "\n",
    "# Mecanismo de memoria\n",
    "memory = MemorySaver()\n",
    "agente_mem = builder.compile(checkpointer=memory)\n",
    "\n",
    "# Hilo a seguir\n",
    "config = {\"configurable\": {\"thread_id\": \"1\"}}"
   ]
  },
  {
   "cell_type": "code",
   "execution_count": 10,
   "id": "ff2354e1",
   "metadata": {},
   "outputs": [
    {
     "name": "stdout",
     "output_type": "stream",
     "text": [
      "================================\u001b[1m Human Message \u001b[0m=================================\n",
      "\n",
      "¿Cuanto es 4 * 5?\n",
      "==================================\u001b[1m Ai Message \u001b[0m==================================\n",
      "\n",
      "4 * 5 = 20\n"
     ]
    }
   ],
   "source": [
    "messages = [HumanMessage(content=\"¿Cuanto es 4 * 5?\")]\n",
    "messages = agente_mem.invoke({\"messages\": messages},config)\n",
    "for m in messages['messages']:\n",
    "    m.pretty_print()"
   ]
  },
  {
   "cell_type": "code",
   "execution_count": 12,
   "id": "eb2e38db",
   "metadata": {},
   "outputs": [
    {
     "name": "stdout",
     "output_type": "stream",
     "text": [
      "================================\u001b[1m Human Message \u001b[0m=================================\n",
      "\n",
      "¿Cuanto es 4 * 5?\n",
      "==================================\u001b[1m Ai Message \u001b[0m==================================\n",
      "\n",
      "4 * 5 = 20\n",
      "================================\u001b[1m Human Message \u001b[0m=================================\n",
      "\n",
      "¿Puedes multiplicar ese resultado por 2?\n",
      "==================================\u001b[1m Ai Message \u001b[0m==================================\n",
      "\n",
      "Claro.\n",
      "\n",
      "El resultado anterior fue 20.\n",
      "Si lo multiplicamos por 2:\n",
      "\n",
      "20 * 2 = 40\n"
     ]
    }
   ],
   "source": [
    "messages = [HumanMessage(content=\"¿Puedes multiplicar ese resultado por 2?\")]\n",
    "messages = agente_mem.invoke({\"messages\": messages}, config)\n",
    "for m in messages['messages']:\n",
    "    m.pretty_print()"
   ]
  },
  {
   "cell_type": "markdown",
   "id": "d8ed9eab",
   "metadata": {},
   "source": [
    "Gracias a esto podemos desarrollar conversaciones elaboradas ya que el hilo de conversación es añadido a cada nuevo mensaje del usuario en lo que la ventana de contexto lo permita.\n",
    "\n",
    "## Herramientas\n",
    "\n",
    "Podemos hacer saber a la LLM que disponemos de herramientas (funciones) que podemos ejecutar de forma que en lugar de dejar que la LLM se imagine cómo sería una operación concreta, aportamos certidumbre ya que va a indicarle al agente que ejecute la función disponible."
   ]
  },
  {
   "cell_type": "code",
   "execution_count": 13,
   "id": "030b580e",
   "metadata": {},
   "outputs": [],
   "source": [
    "def multiply(a: int, b: int) -> int:\n",
    "    \"\"\"Multiply a and b.\n",
    "\n",
    "    Args:\n",
    "        a: first int\n",
    "        b: second int\n",
    "    \"\"\"\n",
    "    return a * b\n",
    "\n",
    "# This will be a tool\n",
    "def add(a: int, b: int) -> int:\n",
    "    \"\"\"Adds a and b.\n",
    "\n",
    "    Args:\n",
    "        a: first int\n",
    "        b: second int\n",
    "    \"\"\"\n",
    "    return a + b\n",
    "\n",
    "def divide(a: int, b: int) -> float:\n",
    "    \"\"\"Divide a and b.\n",
    "\n",
    "    Args:\n",
    "        a: first int\n",
    "        b: second int\n",
    "    \"\"\"\n",
    "    return a / b\n",
    "\n",
    "tools = [add, multiply, divide]"
   ]
  },
  {
   "cell_type": "code",
   "execution_count": 17,
   "id": "247b6d51",
   "metadata": {},
   "outputs": [
    {
     "data": {
      "image/png": "[encoded data removed]",
      "text/plain": [
       "<IPython.core.display.Image object>"
      ]
     },
     "metadata": {},
     "output_type": "display_data"
    }
   ],
   "source": [
    "from langgraph.graph import MessagesState\n",
    "from langgraph.graph import START, StateGraph\n",
    "from langgraph.prebuilt import tools_condition\n",
    "from langgraph.prebuilt import ToolNode\n",
    "from IPython.display import Image, display\n",
    "\n",
    "# Dotamos de funciones\n",
    "llm_con_herramientas = llm.bind_tools(tools, parallel_tool_calls=False)\n",
    "\n",
    "# Asistente\n",
    "def agente(state: MessagesState):\n",
    "   return {\"messages\": [llm_con_herramientas.invoke([sys_msg] + state[\"messages\"])]}\n",
    "\n",
    "# Grafo\n",
    "builder = StateGraph(MessagesState)\n",
    "builder.add_node(\"agente\", agente)\n",
    "builder.add_node(\"tools\", ToolNode(tools))\n",
    "\n",
    "builder.add_edge(START, \"agente\")\n",
    "builder.add_conditional_edges(\n",
    "    \"agente\",\n",
    "    # Si es una llamada a herramienta -> ejecutamos\n",
    "    # Si no, terminamos interacción con la respuesta de la LLM\n",
    "    tools_condition,\n",
    ")\n",
    "builder.add_edge(\"tools\", \"agente\")\n",
    "agente = builder.compile()\n",
    "\n",
    "# Show\n",
    "display(Image(agente.get_graph(xray=True).draw_mermaid_png()))"
   ]
  },
  {
   "cell_type": "code",
   "execution_count": 18,
   "id": "ce91a1f0",
   "metadata": {},
   "outputs": [
    {
     "name": "stdout",
     "output_type": "stream",
     "text": [
      "================================\u001b[1m Human Message \u001b[0m=================================\n",
      "\n",
      "¿Cuanto es 4 * 5?\n",
      "==================================\u001b[1m Ai Message \u001b[0m==================================\n",
      "Tool Calls:\n",
      "  multiply (f7a3b473-642f-4634-98b0-01e35071ed9e)\n",
      " Call ID: f7a3b473-642f-4634-98b0-01e35071ed9e\n",
      "  Args:\n",
      "    a: 4.0\n",
      "    b: 5.0\n",
      "=================================\u001b[1m Tool Message \u001b[0m=================================\n",
      "Name: multiply\n",
      "\n",
      "20\n",
      "==================================\u001b[1m Ai Message \u001b[0m==================================\n",
      "\n",
      "4 * 5 = 20\n"
     ]
    }
   ],
   "source": [
    "messages = [HumanMessage(content=\"¿Cuanto es 4 * 5?\")]\n",
    "messages = agente.invoke({\"messages\": messages})\n",
    "for m in messages['messages']:\n",
    "    m.pretty_print()"
   ]
  },
  {
   "cell_type": "markdown",
   "id": "043fc1ac",
   "metadata": {},
   "source": [
    "En este caos la LLM pide al asistente/agente que ejecute la acción y retorne el resultado para así poder responder la pregunta inicial. Estas herramientas pueden tomar cualquier forma de función o operación realizable por la máquina ejecutando la acción."
   ]
  }
 ],
 "metadata": {
  "kernelspec": {
   "display_name": "ds4b2b",
   "language": "python",
   "name": "python3"
  },
  "language_info": {
   "codemirror_mode": {
    "name": "ipython",
    "version": 3
   },
   "file_extension": ".py",
   "mimetype": "text/x-python",
   "name": "python",
   "nbconvert_exporter": "python",
   "pygments_lexer": "ipython3",
   "version": "3.12.7"
  }
 },
 "nbformat": 4,
 "nbformat_minor": 5
}
