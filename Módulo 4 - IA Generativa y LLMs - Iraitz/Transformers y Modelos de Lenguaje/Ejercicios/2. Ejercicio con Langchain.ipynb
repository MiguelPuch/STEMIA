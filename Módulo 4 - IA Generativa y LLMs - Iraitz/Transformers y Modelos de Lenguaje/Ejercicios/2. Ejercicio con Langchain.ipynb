{
 "cells": [
  {
   "cell_type": "markdown",
   "id": "6a615e57",
   "metadata": {},
   "source": [
    "# Ejercicio\n",
    "\n",
    "Ahora probaremos a crear un asistente para crear historias de usuario. Una historia de usuario es una especificación de una característica en un producto o servicio que deberemos añadir.\n",
    "\n",
    "Suele contener estructuras como: **Como [perfil], [quiero] [para].**\n",
    "\n",
    "Debéis construir un asistente que nos permita ante un texto genérico crear una o más historias de usuario que capturen lo que un potencial usuario necesite. Por ejemplo, supongamos que un cliente nos pide una aplicación web... Cread una descripción y veremos qué historias de usuario conseguimos construir con esto.\n",
    "\n",
    "Referencia de [Atlassian](https://www.atlassian.com/es/agile/project-management/user-stories)"
   ]
  },
  {
   "cell_type": "code",
   "execution_count": null,
   "id": "4bde5aac",
   "metadata": {},
   "outputs": [],
   "source": [
    "from dotenv import load_dotenv, find_dotenv\n",
    "\n",
    "load_dotenv(find_dotenv(), override=True)"
   ]
  },
  {
   "cell_type": "markdown",
   "id": "fc91dbad",
   "metadata": {},
   "source": [
    "Nos apoyaremos en la [documentación oficial de langchain](https://python.langchain.com/docs/introduction/) para crear nuestros ejemplos y conectarlo al modelo al que tengamos acceso."
   ]
  },
  {
   "cell_type": "code",
   "execution_count": null,
   "id": "7c004df3",
   "metadata": {},
   "outputs": [],
   "source": [
    "llm = ... # LLM de vuestra elección\n",
    "\n",
    "cadena = plantilla | llm # Encadenamos la plantilla al modelo\n",
    "\n",
    "response = cadena.invoke({\"variable\": \"valor a sustituir en la plantilla\"})\n",
    "response.content"
   ]
  }
 ],
 "metadata": {
  "language_info": {
   "name": "python"
  }
 },
 "nbformat": 4,
 "nbformat_minor": 5
}
