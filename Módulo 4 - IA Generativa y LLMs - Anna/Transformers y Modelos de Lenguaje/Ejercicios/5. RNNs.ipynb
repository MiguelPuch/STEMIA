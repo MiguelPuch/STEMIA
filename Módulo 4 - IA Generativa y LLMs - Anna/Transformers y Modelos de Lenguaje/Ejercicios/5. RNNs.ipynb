{
 "cells": [
  {
   "cell_type": "markdown",
   "id": "85e13ba4",
   "metadata": {},
   "source": [
    "# 5. RNNs"
   ]
  },
  {
   "cell_type": "markdown",
   "id": "84a0caec",
   "metadata": {},
   "source": [
    "1. **Genera una serie temporal simple de tipo seno:**\n",
    "\n",
    "   \\[\n",
    "   y = \\sin(x), \\quad x \\in [0, 20], \\text{con pasos de 0.1}\n",
    "   \\]\n",
    "\n",
    "2. **Prepara los datos** para que la RNN pueda predecir el siguiente valor de la serie usando los últimos 10 pasos como entrada.\n",
    "\n",
    "3. **Construye un modelo con Keras/TensorFlow** que contenga:  \n",
    "   - Una capa `SimpleRNN` con 20 unidades.  \n",
    "   - Una capa `Dense` de salida con 1 neurona.\n",
    "\n",
    "4. **Entrena el modelo** durante 20 épocas usando la función de pérdida `MSE`.\n",
    "\n",
    "5. **Utiliza el modelo entrenado** para predecir los próximos 20 valores de la serie.\n",
    "\n",
    "6. **Visualiza la serie original y la serie predicha** en un mismo gráfico.\n"
   ]
  }
 ],
 "metadata": {
  "language_info": {
   "name": "python"
  }
 },
 "nbformat": 4,
 "nbformat_minor": 5
}
