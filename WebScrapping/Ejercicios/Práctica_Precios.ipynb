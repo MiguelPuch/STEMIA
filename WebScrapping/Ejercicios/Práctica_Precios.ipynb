{
 "cells": [
  {
   "cell_type": "markdown",
   "id": "a4078453",
   "metadata": {},
   "source": [
    "# Práctica de Web Scraping: Análisis de Tendencias en Tiendas de Moda"
   ]
  },
  {
   "cell_type": "markdown",
   "id": "8d4a2675",
   "metadata": {},
   "source": [
    "Esta práctica es ideal para que los alumnos aprendan a extraer información de inventario de un sitio de e-commerce, limpiarla y transformarla en insights de negocio sobre tendencias de moda (colores, tipos de prenda, precios)."
   ]
  },
  {
   "cell_type": "markdown",
   "id": "ec18796a",
   "metadata": {},
   "source": [
    "**Objetivos de la Práctica**\n",
    "\n",
    "1. Web Scraping Específico: Extraer de un catálogo de moda datos estructurados clave: Nombre del Artículo, Precio y Colores/Tallas disponibles.\n",
    "\n",
    "2. Limpieza y Conversión: Procesar las cadenas de precios para análisis numérico y extraer etiquetas (tags) de los títulos.\n",
    "\n",
    "3. Análisis de Frecuencia: Determinar la distribución de precios y las tendencias de color y prenda más comunes."
   ]
  },
  {
   "cell_type": "markdown",
   "id": "f1e6be67",
   "metadata": {},
   "source": [
    "**Requisitos e Instalación**"
   ]
  },
  {
   "cell_type": "markdown",
   "id": "d698a8fb",
   "metadata": {},
   "source": [
    "pip install pandas requests beautifulsoup4 re"
   ]
  },
  {
   "cell_type": "markdown",
   "id": "8ad30fe7",
   "metadata": {},
   "source": [
    "1. Web Scraping y Extracción de Atributos\n",
    "\n",
    "El alumno debe elegir una página de catálogo de moda (con una estructura de HTML relativamente simple) e identificar las etiquetas que contienen el nombre de la prenda, su precio y cualquier atributo adicional (color, talla, material).\n",
    "\n",
    "Tarea 1: Extracción de Productos de Moda"
   ]
  },
  {
   "cell_type": "markdown",
   "id": "c9576782",
   "metadata": {},
   "source": [
    "Ejemplo: https://mariquitatrasquila.com/es/ (podeis probar con cualquier otro)"
   ]
  },
  {
   "cell_type": "code",
   "execution_count": null,
   "id": "ee7e3fb6",
   "metadata": {
    "vscode": {
     "languageId": "plaintext"
    }
   },
   "outputs": [],
   "source": []
  },
  {
   "cell_type": "markdown",
   "id": "c6f4c333",
   "metadata": {},
   "source": [
    "2. Limpieza y Normalización de Atributos\n",
    "\n",
    "El foco en esta práctica es transformar las cadenas de texto (precio_texto, atributos_raw) en datos utilizables: precios numéricos y una lista normalizada de etiquetas (tags) para el análisis de frecuencia.\n",
    "\n",
    "Tarea 2: Limpieza de Precio y Extracción de Colores"
   ]
  },
  {
   "cell_type": "code",
   "execution_count": null,
   "id": "849f467e",
   "metadata": {
    "vscode": {
     "languageId": "plaintext"
    }
   },
   "outputs": [],
   "source": []
  },
  {
   "cell_type": "markdown",
   "id": "95c2f92a",
   "metadata": {},
   "source": [
    "3. Análisis de Tendencias y Frecuencia\n",
    "\n",
    "El análisis se centrará en la distribución de precios y en identificar los colores y tipos de prenda que dominan el catálogo, información clave para un analista de moda."
   ]
  },
  {
   "cell_type": "markdown",
   "id": "5cbf7b4d",
   "metadata": {},
   "source": [
    "Tarea 3: Realizar el Análisis de Tendencias"
   ]
  },
  {
   "cell_type": "code",
   "execution_count": null,
   "id": "80094706",
   "metadata": {
    "vscode": {
     "languageId": "plaintext"
    }
   },
   "outputs": [],
   "source": []
  }
 ],
 "metadata": {
  "language_info": {
   "name": "python"
  }
 },
 "nbformat": 4,
 "nbformat_minor": 5
}
