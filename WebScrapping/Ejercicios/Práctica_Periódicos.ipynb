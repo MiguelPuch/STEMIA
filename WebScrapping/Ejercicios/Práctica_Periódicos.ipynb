{
 "cells": [
  {
   "cell_type": "markdown",
   "id": "ed55b1a9",
   "metadata": {},
   "source": [
    "# Práctica de Periodismo de Datos: Web Scraping de Titulares y Análisis de Temas"
   ]
  },
  {
   "cell_type": "markdown",
   "id": "c8186a85",
   "metadata": {},
   "source": [
    "Esta práctica guía a los alumnos a extraer titulares de un sitio de noticias, limpiar el texto y realizar un análisis de frecuencia para identificar las tendencias informativas del día o de una sección específica."
   ]
  },
  {
   "cell_type": "markdown",
   "id": "612b8f87",
   "metadata": {},
   "source": [
    "**Objetivos de la Práctica**\n",
    "\n",
    "1. Web Scraping Estándar: Utilizar requests y BeautifulSoup para extraer titulares y resúmenes de noticias.\n",
    "\n",
    "2. Limpieza de Texto Avanzada: Procesar el texto eliminando stopwords (palabras comunes) para preparar el análisis.\n",
    "\n",
    "3. Análisis de Frecuencia: Determinar las palabras clave más recurrentes para identificar los temas de mayor cobertura."
   ]
  },
  {
   "cell_type": "markdown",
   "id": "b3aa5681",
   "metadata": {},
   "source": [
    "**Requisitos e Instalación**"
   ]
  },
  {
   "cell_type": "code",
   "execution_count": null,
   "id": "967f9f1d",
   "metadata": {
    "vscode": {
     "languageId": "plaintext"
    }
   },
   "outputs": [],
   "source": [
    "pip intall pandas, requests, BeautifulSoup4, re"
   ]
  },
  {
   "cell_type": "markdown",
   "id": "459dc5de",
   "metadata": {},
   "source": [
    "## OBJETIVO:"
   ]
  },
  {
   "cell_type": "markdown",
   "id": "7afbc55d",
   "metadata": {},
   "source": [
    "1. Web Scraping de Titulares\n",
    "\n",
    "El alumno debe elegir una sección de un periódico digital pequeño o un blog de noticias que cargue todas las noticias al inicio sin necesidad de scroll dinámico. Esto asegura que requests pueda descargar todo el contenido relevante.\n",
    "\n",
    "Tarea 1: Extracción de Titulares y Resúmenes\n",
    "El alumno debe inspeccionar la página para encontrar el contenedor de cada noticia y las etiquetas específicas de los titulares y resúmenes."
   ]
  },
  {
   "cell_type": "markdown",
   "id": "44cd4278",
   "metadata": {},
   "source": [
    "Ejemplo: https://canfali.com/"
   ]
  },
  {
   "cell_type": "code",
   "execution_count": null,
   "id": "34ef6ab7",
   "metadata": {
    "vscode": {
     "languageId": "plaintext"
    }
   },
   "outputs": [],
   "source": []
  },
  {
   "cell_type": "markdown",
   "id": "475657cc",
   "metadata": {},
   "source": [
    "2. Limpieza de Texto y Eliminación de Stopwords\n",
    "\n",
    "Para identificar los temas, debemos deshacernos de las palabras comunes (stopwords: 'el', 'la', 'un', 'es', 'de') que, aunque son necesarias para la gramática, no nos dicen nada sobre el tema de la noticia.\n",
    "\n",
    "Tarea 2: Limpiar y Filtrar el Texto"
   ]
  },
  {
   "cell_type": "code",
   "execution_count": null,
   "id": "13bdaa14",
   "metadata": {
    "vscode": {
     "languageId": "plaintext"
    }
   },
   "outputs": [],
   "source": []
  },
  {
   "cell_type": "markdown",
   "id": "dde374df",
   "metadata": {},
   "source": [
    "3. Análisis de Frecuencia de Temas\n",
    "\n",
    "Contando la frecuencia de las palabras clave restantes, podemos cuantificar qué términos son los más importantes en el conjunto de noticias, revelando las tendencias de cobertura informativa.\n",
    "\n",
    "Tarea 3: Conteo y Análisis de las Palabras Clave"
   ]
  },
  {
   "cell_type": "code",
   "execution_count": null,
   "id": "62c69f06",
   "metadata": {
    "vscode": {
     "languageId": "plaintext"
    }
   },
   "outputs": [],
   "source": []
  }
 ],
 "metadata": {
  "language_info": {
   "name": "python"
  }
 },
 "nbformat": 4,
 "nbformat_minor": 5
}
